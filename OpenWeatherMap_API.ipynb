{
 "cells": [
  {
   "cell_type": "markdown",
   "metadata": {},
   "source": [
    "## OpenWeatherMap Python API\n",
    "\n",
    "In this notebook we will be working with [OpenWeatherMap](https://openweathermap.org/) python API.\n",
    "\n",
    "OpenWeatherMap is a weather forecasting site, among many others. And they have exposed their data via their API so that we can interact with it using python.\n",
    "\n",
    "To \"expose\" their data means they allow users to interact with it. Depending on the use case, a company or developer may not want to allow access to their data. In that case their is no API. In the case of a company trying to sell something, they definitely want people to see their data. Otherwise users won't know what the company is selling!\n",
    "\n",
    "### A note on documentation\n",
    "\n",
    "Is is the responsibility of the API developers to tell you how to use their API. There is no way to know otherwise. In today's class, I took all API calls straight from the API documentation: https://openweathermap.org/api\n",
    "\n",
    "\n",
    "One reason I chose to use OpenWeatherMap for today's exercise is that they have really good documention! Let's take a few minutes to look over it.\n",
    "\n",
    "\n",
    "## Get API Key\n",
    "\n",
    "\n",
    "The first thing we need to do is get an API key. To do that, go [here](https://openweathermap.org/api) and sign up. It should only take a few minutes to do.\n",
    "\n",
    "After that, scroll down and you see that OpenWeatherMap provides different subscription levels which provide different data. The free API key allows you access to today's weather and the 5 day forcast, among other things. This is what we will be working with today. \n",
    "\n",
    "OpenWeatherMap provides really nice documentation for how to submit requests using Python \n",
    "\n",
    "\n",
    "The first thing we need to do is install the 'requests' library. Requests is one of many libraries available that someone out there wrote and published for the world to use. We need to use a package manager called conda to install this. "
   ]
  },
  {
   "cell_type": "code",
   "execution_count": null,
   "metadata": {},
   "outputs": [],
   "source": [
    "!conda install --yes requests"
   ]
  },
  {
   "cell_type": "markdown",
   "metadata": {},
   "source": [
    "Now let's import the libraries we will be using in this workshop. We don't need to install json because it is already installed with base python."
   ]
  },
  {
   "cell_type": "code",
   "execution_count": null,
   "metadata": {},
   "outputs": [],
   "source": [
    "import json\n",
    "import requests       #requests library documentation: https://docs.python-requests.org/en/latest/"
   ]
  },
  {
   "cell_type": "code",
   "execution_count": null,
   "metadata": {},
   "outputs": [],
   "source": [
    "#Note: this is my API key and is only being used for example purposes. Please don't spam OpenWeatherMap using my API key.\n",
    "#sign up for your own API key here: https://home.openweathermap.org/users/sign_up\n",
    "API_KEY = '333de4e909a5ffe9bfa46f0f89cad105'                    \n",
    "\n",
    "#Each city in the world has a unique id number. There are over 1,000,000 so I have given you a few to start with.\n",
    "#You are welcome to look in the data dictionary for more. (bulk.openweathermap.org/sample)\n",
    "city_id_dict = {'Charlottesville': 4752046,                                     \n",
    "                'New York': 5128581,\n",
    "                'Chicago': 4887398,\n",
    "                'Paris': 6455259,\n",
    "                'Cape Town': 3369157,\n",
    "                'Beirut': 276781,\n",
    "                'Dubai': 292223,\n",
    "                'Shanghai': 1796236,\n",
    "                'Moscow': 524901,\n",
    "                'Addis Ababa': 344979,\n",
    "                'Bangkok': 1609350,\n",
    "                'Oslo': 6453366,\n",
    "                'Sao Paulo': 3448439,\n",
    "                'Bogota': 3688689,\n",
    "                'Havana': 3553478}\n"
   ]
  },
  {
   "cell_type": "markdown",
   "metadata": {},
   "source": [
    "<h1> Today's Weather Forecast </h1>\n",
    "\n",
    "The following is where I create my API request via a URL. As you can see, I create a variable called \"request\", in which I construct a URL address which will be submitted to OpenWeatherMap. I've already created a couple variables (app_id, city_name, and city_id_string) which I insert into my url request using f-string formatting. \n",
    "\n",
    "Below, we are making a request for today's weather. First we will do it using the city name, next we will do it using the city_id from the city_id_dict seen above"
   ]
  },
  {
   "cell_type": "code",
   "execution_count": null,
   "metadata": {},
   "outputs": [],
   "source": [
    "city_name = 'Portland'\n",
    "\n",
    "request = requests.get(f'http://api.openweathermap.org/data/2.5/weather?q={city_name}&appid={API_KEY}')\n",
    "\n",
    "print(request)       #Note the response code!"
   ]
  },
  {
   "cell_type": "code",
   "execution_count": null,
   "metadata": {},
   "outputs": [],
   "source": [
    "json_data = json.loads(request.text)                      #json_data is now a dictionary object\n",
    "print(json_data)"
   ]
  },
  {
   "cell_type": "markdown",
   "metadata": {},
   "source": [
    "Let's do this a better way! By using the city_id, which I will take from the city_id_dict object"
   ]
  },
  {
   "cell_type": "code",
   "execution_count": null,
   "metadata": {},
   "outputs": [],
   "source": [
    "#A brief overview of dictionaries.\n",
    "#dictionaries are a key, value pair. To access the value, you must use the key.\n",
    "\n",
    "print(city_id_dict['Bangkok'])\n",
    "print(city_id_dict['Beirut'])"
   ]
  },
  {
   "cell_type": "code",
   "execution_count": null,
   "metadata": {},
   "outputs": [],
   "source": [
    "city_name = 'Sao Paulo'                                   #change the city name here\n",
    "city_id_string = str(city_id_dict[f'{city_name}'])  \n",
    "\n",
    "#Make a request to get today's weather. This is straight from the documentation : api.openweathermap.org/data/2.5/weather?id={city id}&appid={API key}\n",
    "request = requests.get(f'http://api.openweathermap.org/data/2.5/weather?id={city_id_string}&appid={API_KEY}&units=imperial')\n"
   ]
  },
  {
   "cell_type": "markdown",
   "metadata": {},
   "source": [
    "*** Do It Yourself *** \n",
    "\n",
    "Write the previous cell again except change the city name to some other city from the city_id_dict. \n",
    "\n",
    "Copy and paste the request line as it is an make a new API request, except it will be for a different city this time"
   ]
  },
  {
   "cell_type": "code",
   "execution_count": null,
   "metadata": {},
   "outputs": [],
   "source": [
    "# Write your code here\n",
    "\n",
    "\n",
    "\n"
   ]
  },
  {
   "cell_type": "markdown",
   "metadata": {},
   "source": [
    "I now take the request and load the response, which is JSON data. Let's take a look at the weather results below for your chosen city."
   ]
  },
  {
   "cell_type": "code",
   "execution_count": null,
   "metadata": {
    "scrolled": true
   },
   "outputs": [],
   "source": [
    "json_data = json.loads(request.text)             #json_data is now a dictionary object\n",
    "print(json_data)\n",
    "\n"
   ]
  },
  {
   "cell_type": "markdown",
   "metadata": {},
   "source": [
    "See above that the data returned is simply a dictionary and we can parse that just like we would any other dictionary object."
   ]
  },
  {
   "cell_type": "code",
   "execution_count": null,
   "metadata": {},
   "outputs": [],
   "source": [
    "for keys, values in json_data.items():\n",
    "    print(keys)            #all the interesting data is contained in the 'list' key\n"
   ]
  },
  {
   "cell_type": "markdown",
   "metadata": {},
   "source": [
    "Inside the 'weather' key is a list of data. Lists are ordered objects, so we can use indexing to look more closely at each item in the list."
   ]
  },
  {
   "cell_type": "code",
   "execution_count": null,
   "metadata": {},
   "outputs": [],
   "source": [
    "print(json_data['weather'])                    #Looking at data in the 'weather' key of the json_data dictionary\n"
   ]
  },
  {
   "cell_type": "markdown",
   "metadata": {},
   "source": [
    "And again, inside that list object we have a dictionary, which we can parse the same as before. The actual conditions themselves are in the 'main' and 'description' keys."
   ]
  },
  {
   "cell_type": "code",
   "execution_count": null,
   "metadata": {},
   "outputs": [],
   "source": [
    "print(json_data['weather'][0]['main'])\n",
    "print(json_data['weather'][0]['description'])"
   ]
  },
  {
   "cell_type": "markdown",
   "metadata": {},
   "source": [
    "Another dictionary you might want to investigate from the json_data object is the 'main' dictionary"
   ]
  },
  {
   "cell_type": "code",
   "execution_count": null,
   "metadata": {},
   "outputs": [],
   "source": [
    "print(json_data['main'])"
   ]
  },
  {
   "cell_type": "markdown",
   "metadata": {},
   "source": [
    "Or if this gets confusing and unreadable, you can make a variable and store this more cleanly"
   ]
  },
  {
   "cell_type": "markdown",
   "metadata": {},
   "source": [
    "*** Do It Yourself ***\n",
    "\n",
    "Print the current temperature today the city that you chose\n",
    "\n",
    "Print the minimum and maximum temperature"
   ]
  },
  {
   "cell_type": "code",
   "execution_count": null,
   "metadata": {},
   "outputs": [],
   "source": [
    "# Write your code here\n",
    "\n",
    "\n",
    "\n",
    "\n"
   ]
  },
  {
   "cell_type": "markdown",
   "metadata": {},
   "source": [
    "*** Do It Yourself ***\n",
    "\n",
    "Choose one of the other keys from the json_data object. Investigate one that might be interesting to you and see what is inside!"
   ]
  },
  {
   "cell_type": "code",
   "execution_count": null,
   "metadata": {},
   "outputs": [],
   "source": [
    "# Write your code here\n",
    "\n",
    "\n",
    "\n",
    "\n"
   ]
  },
  {
   "cell_type": "markdown",
   "metadata": {},
   "source": [
    "<h1> 5 Day Forecast </h1>\n",
    "\n",
    "Now lets make a request to get the 5 day forecast. This returns the forecast at 3 hour intervals for the next 5 days. Again, I took the 'request' straight from the documentation page for OpenWeatherMap."
   ]
  },
  {
   "cell_type": "code",
   "execution_count": null,
   "metadata": {},
   "outputs": [],
   "source": [
    "#make request for 5 day forecast\n",
    "#API docs: https://openweathermap.org/forecast5\n",
    "request = requests.get(f'http://api.openweathermap.org/data/2.5/forecast?id={city_id_string}&APPID=333de4e909a5ffe9bfa46f0f89cad105&units=imperial&')\n",
    "\n",
    "json_data = json.loads(request.text)\n",
    "\n",
    "print(json_data)            #note how messy and hard to read this is. Yet, it is a dictionary\n"
   ]
  },
  {
   "cell_type": "markdown",
   "metadata": {},
   "source": [
    "This is messy, so let's separate each 3 hour forecast with a blank line. \n",
    "\n",
    "There is still a lot of data. How much exactly?  24 hours / 3 hours = 8. 5 days x 8 predictions per day = 40 predictions total."
   ]
  },
  {
   "cell_type": "code",
   "execution_count": null,
   "metadata": {},
   "outputs": [],
   "source": [
    "#take my word for it, the interesting stuff is in the 'list' key of the json_data dictionary\n",
    "\n",
    "for measurement in json_data['list']:\n",
    "    print(measurement)\n",
    "    print()"
   ]
  },
  {
   "cell_type": "markdown",
   "metadata": {},
   "source": [
    "If I was not sure how many items were in this list, I can print it using the python built-in len() function"
   ]
  },
  {
   "cell_type": "code",
   "execution_count": null,
   "metadata": {},
   "outputs": [],
   "source": [
    "print(len(json_data['list']))"
   ]
  },
  {
   "cell_type": "markdown",
   "metadata": {},
   "source": [
    "*** Do It Yourself ***\n",
    "\n",
    "Print the datetime stamp for each measurement\n"
   ]
  },
  {
   "cell_type": "code",
   "execution_count": null,
   "metadata": {},
   "outputs": [],
   "source": [
    "# Write your code here. Start with this...\n",
    "\n",
    "for measurement in json_data['list']:\n",
    "    print(measurement)\n",
    "    print(measurement['dt'])\n",
    "    print()"
   ]
  },
  {
   "cell_type": "markdown",
   "metadata": {},
   "source": [
    "*** Do It Yourself ***\n",
    "\n",
    "Print just the datetime stamp if the time is midnight"
   ]
  },
  {
   "cell_type": "code",
   "execution_count": null,
   "metadata": {},
   "outputs": [],
   "source": [
    "# Write your code here. Start with this...\n",
    "# Hint: think about string slicing\n",
    "\n",
    "\n",
    "for measurement in json_data['list']:\n",
    "    print(measurement['dt_txt'])\n",
    "\n"
   ]
  },
  {
   "cell_type": "markdown",
   "metadata": {},
   "source": [
    "Just as an example, let's use string indexing to find one forecast prediction for each day. Luckily, this data is structured so look at the below example. From looking at the data, in the 'dt_txt' key I have a standard date/time stamp. You can see below I am taking the measurement at just 12 noon for each day. The time stamp is at the locations 11-20 in each 'dt_txt' key.\n",
    "\n",
    "After doing this, I just have 5 results. One for each of the next five days for my target city."
   ]
  },
  {
   "cell_type": "code",
   "execution_count": null,
   "metadata": {},
   "outputs": [],
   "source": [
    "for daily_measurement in json_data['list']:\n",
    "    if daily_measurement['dt_txt'][11:20] == '12:00:00':\n",
    "        print(daily_measurement)\n",
    "        print(daily_measurement['dt_txt'][:10])\n",
    "        print(daily_measurement['main']['temp'])                                   #it gets tricky to parse through nested dictionaries\n",
    "        print()"
   ]
  },
  {
   "cell_type": "markdown",
   "metadata": {},
   "source": [
    "Here, I use some string formatting and a little more filtering to print some nice looking output. Here, I have found the time stamp of 12 noon for each day. Then within that I have taken the date from the date/time stamp. Then the temperature for each day. And finally put it all together in a string, printing the city, date, and temperature for that day."
   ]
  },
  {
   "cell_type": "code",
   "execution_count": null,
   "metadata": {},
   "outputs": [],
   "source": [
    "#A cleaner version of the above block\n",
    "for daily_measurement in json_data['list']:\n",
    "    time_stamp = daily_measurement['dt_txt'][11:20]\n",
    "    if time_stamp == '12:00:00':\n",
    "        day = daily_measurement['dt_txt'][:10]\n",
    "        temperature = daily_measurement['main']['temp']\n",
    "        print(f'The temperature in {city_name} on {day} will be {temperature}F degrees')"
   ]
  },
  {
   "cell_type": "markdown",
   "metadata": {},
   "source": [
    "So as you see, this allows you to slice and dice the weather data in many ways. You can automate things, depending on weather conditions, link this to other applications, and so on. I encourange you to play with the script, change the city, look at the results, and so on. "
   ]
  },
  {
   "cell_type": "markdown",
   "metadata": {},
   "source": [
    "<h1> More Exercises! </h1>"
   ]
  },
  {
   "cell_type": "markdown",
   "metadata": {},
   "source": [
    "We have only touched on some of the data that is hidden in each weather forecast. Let's do some more exercises with our data. "
   ]
  },
  {
   "cell_type": "markdown",
   "metadata": {},
   "source": [
    "<strong>Exercise 1:  </strong>\n",
    "\n",
    "Make a request to get the 5 day forcast for a city from the city_id_dict at the top of the screen. Use other examples from the code in this Jupyter Notebook document and for your city, print which day in the next 5 days will be the hottest and coldest. \n",
    "\n"
   ]
  },
  {
   "cell_type": "code",
   "execution_count": null,
   "metadata": {},
   "outputs": [],
   "source": [
    "# Write your code here...\n",
    "\n",
    "\n",
    "\n",
    "\n"
   ]
  },
  {
   "cell_type": "markdown",
   "metadata": {},
   "source": [
    "<strong>Exercise 2: </strong>\n",
    "\n",
    "Take 5 cities from the city_id_dict (New York, Beirut, Addis Ababa, Bogota). Print which city has the hottest and coldest weather today. There is more than 1 way to do this but the easiest way would be to loop through the items in the city_id_dict and make an API request. You can also do this by looking at the [API documentation](https://openweathermap.org/current#cities) and making only one API request.\n"
   ]
  },
  {
   "cell_type": "code",
   "execution_count": null,
   "metadata": {},
   "outputs": [],
   "source": [
    "# Write your code here...\n",
    "\n",
    "\n",
    "\n",
    "\n"
   ]
  },
  {
   "cell_type": "markdown",
   "metadata": {},
   "source": [
    "<strong>Exercise 3</strong>\n",
    "\n",
    "Choose a city from the city_id_dict and print the hottest and coldest temperatures at any time within the next 5 days."
   ]
  },
  {
   "cell_type": "code",
   "execution_count": null,
   "metadata": {},
   "outputs": [],
   "source": [
    "# Write your code here...\n",
    "\n",
    "\n",
    "\n",
    "\n",
    "\n"
   ]
  }
 ],
 "metadata": {
  "kernelspec": {
   "display_name": "Python 3",
   "language": "python",
   "name": "python3"
  },
  "language_info": {
   "codemirror_mode": {
    "name": "ipython",
    "version": 3
   },
   "file_extension": ".py",
   "mimetype": "text/x-python",
   "name": "python",
   "nbconvert_exporter": "python",
   "pygments_lexer": "ipython3",
   "version": "3.7.4"
  }
 },
 "nbformat": 4,
 "nbformat_minor": 4
}
