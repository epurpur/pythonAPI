{
 "cells": [
  {
   "cell_type": "markdown",
   "metadata": {},
   "source": [
    "## OpenWeatherMap Python API\n",
    "\n",
    "In this notebook we will be working with [OpenWeatherMap](https://openweathermap.org/) python API.\n",
    "\n",
    "OpenWeatherMap is a weather forecasting site, among many others. And they have exposed their data via their API so that we can interact with it using python.\n",
    "\n",
    "## Get API Key\n",
    "\n",
    "The first thing we need to do is get an API key. To do that, go [here](https://openweathermap.org/api) and sign up. It should only take a few minutes to do.\n",
    "\n",
    "After that, scroll down and you see that OpenWeatherMap provides different subscription levels which provide different data. The free API key allows you access to today's weather and the 5 day forcast, among other things. This is what we will be working with today. \n",
    "\n",
    "OpenWeatherMap provides really nice documentation for how to submit requests using Python "
   ]
  },
  {
   "cell_type": "code",
   "execution_count": 2,
   "metadata": {},
   "outputs": [
    {
     "name": "stdout",
     "output_type": "stream",
     "text": [
      "Requirement already satisfied: requests in /Applications/anaconda3/lib/python3.7/site-packages (2.22.0)\n",
      "Requirement already satisfied: urllib3!=1.25.0,!=1.25.1,<1.26,>=1.21.1 in /Applications/anaconda3/lib/python3.7/site-packages (from requests) (1.24.2)\n",
      "Requirement already satisfied: certifi>=2017.4.17 in /Applications/anaconda3/lib/python3.7/site-packages (from requests) (2019.6.16)\n",
      "Requirement already satisfied: chardet<3.1.0,>=3.0.2 in /Applications/anaconda3/lib/python3.7/site-packages (from requests) (3.0.4)\n",
      "Requirement already satisfied: idna<2.9,>=2.5 in /Applications/anaconda3/lib/python3.7/site-packages (from requests) (2.8)\n"
     ]
    }
   ],
   "source": [
    "!pip install requests"
   ]
  },
  {
   "cell_type": "code",
   "execution_count": 1,
   "metadata": {},
   "outputs": [],
   "source": [
    "import json\n",
    "import requests"
   ]
  },
  {
   "cell_type": "code",
   "execution_count": 4,
   "metadata": {},
   "outputs": [],
   "source": [
    "#app_id = 'copy and paste your app id here'                    #Note: this is NOT secure and is only being used for example purposes\n",
    "app_id = '333de4e909a5ffe9bfa46f0f89cad105'                    #Note: this is NOT secure and is only being used for example purposes\n",
    "\n",
    "#Each city in the world has a unique id number. There are over 1,000,000 so I have given you a few to start with.\n",
    "#You are welcome to look in the data dictionary for more.\n",
    "city_id_dict = {'Charlottesville': 4752046,                                     \n",
    "                'New York': 5128581,\n",
    "                'Chicago': 4887398,\n",
    "                'Paris': 6455259,\n",
    "                'Cape Town': 3369157,\n",
    "                'Beirut': 276781,\n",
    "                'Dubai': 292223,\n",
    "                'Shanghai': 1796236,\n",
    "                'Moscow': 524901,\n",
    "                'Addis Ababa': 344979,\n",
    "                'Bangkok': 1609350,\n",
    "                'Oslo': 6453366,\n",
    "                'Sao Paulo': 3448439,\n",
    "                'Bogota': 3688689,\n",
    "                'Havana': 3553478}\n"
   ]
  },
  {
   "cell_type": "markdown",
   "metadata": {},
   "source": [
    "The following is where I create my API request via a URL. As you can see, I create a variable called \"request\", in which I construct a URL address which will be submitted to OpenWeatherMap. I've already created a couple variables (app_id and city_id_string) which I insert into my url request using f-string formatting. \n",
    "\n",
    "Below, we are making a request for today's weather. We will do a request for the 5 day forecast later."
   ]
  },
  {
   "cell_type": "code",
   "execution_count": 29,
   "metadata": {},
   "outputs": [],
   "source": [
    "city_name = 'Sao Paulo'                                               #change the city name here\n",
    "city_id_string = str(city_id_dict[f'{city_name}'])                                         \n",
    "\n",
    "#Make a request to get today's weather. This is straight from the documentation.\n",
    "request = requests.get(f'http://api.openweathermap.org/data/2.5/group?APPID={app_id}&id={city_id_string}&units=imperial')               #this actually makes the request to the API via the URL with correct parameters\n"
   ]
  },
  {
   "cell_type": "markdown",
   "metadata": {},
   "source": [
    "I now take the request a load the response, which is JSON data. Let's take a look at the weather results below for your chosen city."
   ]
  },
  {
   "cell_type": "code",
   "execution_count": 30,
   "metadata": {},
   "outputs": [
    {
     "name": "stdout",
     "output_type": "stream",
     "text": [
      "{'cnt': 1, 'list': [{'coord': {'lon': -46.64, 'lat': -23.55}, 'sys': {'country': 'BR', 'timezone': -10800, 'sunrise': 1570005968, 'sunset': 1570050340}, 'weather': [{'id': 800, 'main': 'Clear', 'description': 'clear sky', 'icon': '01d'}], 'main': {'temp': 87.58, 'pressure': 1014, 'humidity': 38, 'temp_min': 80.6, 'temp_max': 91.4}, 'visibility': 10000, 'wind': {'speed': 8.05, 'deg': 160}, 'clouds': {'all': 0}, 'dt': 1570046966, 'id': 3448439, 'name': 'Sao Paulo'}]}\n"
     ]
    }
   ],
   "source": [
    "json_data = json.loads(request.text)                                                #json_data is now a dictionary object\n",
    "print(json_data)\n"
   ]
  },
  {
   "cell_type": "markdown",
   "metadata": {},
   "source": [
    "See above that the data returned is simply a dictionary and we can parse that just like we would any other dictionary object."
   ]
  },
  {
   "cell_type": "code",
   "execution_count": 31,
   "metadata": {},
   "outputs": [
    {
     "name": "stdout",
     "output_type": "stream",
     "text": [
      "cnt\n",
      "list\n"
     ]
    }
   ],
   "source": [
    "for keys, values in json_data.items():\n",
    "    print(keys)                                             #all the interesting data is contained in the 'list' key\n"
   ]
  },
  {
   "cell_type": "markdown",
   "metadata": {},
   "source": [
    "Inside the 'list' key is a list of data. Lists are ordered objects, so we can use indexing to look more closely at each item in the list."
   ]
  },
  {
   "cell_type": "code",
   "execution_count": 32,
   "metadata": {},
   "outputs": [
    {
     "name": "stdout",
     "output_type": "stream",
     "text": [
      "{'coord': {'lon': -46.64, 'lat': -23.55}, 'sys': {'country': 'BR', 'timezone': -10800, 'sunrise': 1570005968, 'sunset': 1570050340}, 'weather': [{'id': 800, 'main': 'Clear', 'description': 'clear sky', 'icon': '01d'}], 'main': {'temp': 87.58, 'pressure': 1014, 'humidity': 38, 'temp_min': 80.6, 'temp_max': 91.4}, 'visibility': 10000, 'wind': {'speed': 8.05, 'deg': 160}, 'clouds': {'all': 0}, 'dt': 1570046966, 'id': 3448439, 'name': 'Sao Paulo'}\n"
     ]
    }
   ],
   "source": [
    "print(json_data['list'][0])                     #Looking at first object in list\n"
   ]
  },
  {
   "cell_type": "markdown",
   "metadata": {},
   "source": [
    "And again, inside that list object we have a dictionary (actually several, nested in eachother), which we can parse the same as before. The actual conditions themselves are in the 'main' key."
   ]
  },
  {
   "cell_type": "code",
   "execution_count": 15,
   "metadata": {},
   "outputs": [
    {
     "name": "stdout",
     "output_type": "stream",
     "text": [
      "{'temp': 44.1, 'pressure': 1011, 'humidity': 70, 'temp_min': 42.01, 'temp_max': 46}\n"
     ]
    }
   ],
   "source": [
    "print(json_data['list'][0]['main'])"
   ]
  },
  {
   "cell_type": "markdown",
   "metadata": {},
   "source": [
    "And one last time, within 'main' is another dictionary of keys and values"
   ]
  },
  {
   "cell_type": "code",
   "execution_count": 33,
   "metadata": {},
   "outputs": [
    {
     "name": "stdout",
     "output_type": "stream",
     "text": [
      "80.6\n"
     ]
    }
   ],
   "source": [
    "print(json_data['list'][0]['main']['temp_min'])"
   ]
  },
  {
   "cell_type": "markdown",
   "metadata": {},
   "source": [
    "Or if this gets confusing and unreadable, you can make a variable and store this more cleanly"
   ]
  },
  {
   "cell_type": "code",
   "execution_count": 34,
   "metadata": {},
   "outputs": [
    {
     "name": "stdout",
     "output_type": "stream",
     "text": [
      "80.6\n"
     ]
    }
   ],
   "source": [
    "min_temp = json_data['list'][0]['main']['temp_min']\n",
    "print(min_temp)"
   ]
  },
  {
   "cell_type": "markdown",
   "metadata": {},
   "source": [
    "Now lets make a request to get the 5 day forecast. This returns the forecast at 3 hour intervals for the next 5 days. Again, I took the 'request' straight from the documentation page for OpenWeatherMap"
   ]
  },
  {
   "cell_type": "code",
   "execution_count": 35,
   "metadata": {},
   "outputs": [
    {
     "name": "stdout",
     "output_type": "stream",
     "text": [
      "{'cod': '200', 'message': 0.0056, 'cnt': 40, 'list': [{'dt': 1570050000, 'main': {'temp': 74.61, 'temp_min': 74.61, 'temp_max': 79.35, 'pressure': 1010.62, 'sea_level': 1010.62, 'grnd_level': 918.58, 'humidity': 34, 'temp_kf': -2.63}, 'weather': [{'id': 800, 'main': 'Clear', 'description': 'clear sky', 'icon': '01d'}], 'clouds': {'all': 0}, 'wind': {'speed': 3.49, 'deg': 185.102}, 'sys': {'pod': 'd'}, 'dt_txt': '2019-10-02 21:00:00'}, {'dt': 1570060800, 'main': {'temp': 70.27, 'temp_min': 70.27, 'temp_max': 73.82, 'pressure': 1012.46, 'sea_level': 1012.46, 'grnd_level': 920.09, 'humidity': 53, 'temp_kf': -1.98}, 'weather': [{'id': 800, 'main': 'Clear', 'description': 'clear sky', 'icon': '01n'}], 'clouds': {'all': 0}, 'wind': {'speed': 3.91, 'deg': 124.263}, 'sys': {'pod': 'n'}, 'dt_txt': '2019-10-03 00:00:00'}, {'dt': 1570071600, 'main': {'temp': 69.06, 'temp_min': 69.06, 'temp_max': 71.43, 'pressure': 1012.59, 'sea_level': 1012.59, 'grnd_level': 920.14, 'humidity': 48, 'temp_kf': -1.32}, 'weather': [{'id': 803, 'main': 'Clouds', 'description': 'broken clouds', 'icon': '04n'}], 'clouds': {'all': 67}, 'wind': {'speed': 2.95, 'deg': 117.947}, 'sys': {'pod': 'n'}, 'dt_txt': '2019-10-03 03:00:00'}, {'dt': 1570082400, 'main': {'temp': 68.63, 'temp_min': 68.63, 'temp_max': 69.81, 'pressure': 1012.62, 'sea_level': 1012.62, 'grnd_level': 919.45, 'humidity': 46, 'temp_kf': -0.66}, 'weather': [{'id': 803, 'main': 'Clouds', 'description': 'broken clouds', 'icon': '04n'}], 'clouds': {'all': 56}, 'wind': {'speed': 2.91, 'deg': 114.812}, 'sys': {'pod': 'n'}, 'dt_txt': '2019-10-03 06:00:00'}, {'dt': 1570093200, 'main': {'temp': 66.18, 'temp_min': 66.18, 'temp_max': 66.18, 'pressure': 1014.65, 'sea_level': 1014.65, 'grnd_level': 920.72, 'humidity': 54, 'temp_kf': 0}, 'weather': [{'id': 803, 'main': 'Clouds', 'description': 'broken clouds', 'icon': '04d'}], 'clouds': {'all': 56}, 'wind': {'speed': 4.94, 'deg': 157.328}, 'sys': {'pod': 'd'}, 'dt_txt': '2019-10-03 09:00:00'}, {'dt': 1570104000, 'main': {'temp': 75.19, 'temp_min': 75.19, 'temp_max': 75.19, 'pressure': 1016.91, 'sea_level': 1016.91, 'grnd_level': 923.12, 'humidity': 51, 'temp_kf': 0}, 'weather': [{'id': 803, 'main': 'Clouds', 'description': 'broken clouds', 'icon': '04d'}], 'clouds': {'all': 78}, 'wind': {'speed': 6.55, 'deg': 159.693}, 'sys': {'pod': 'd'}, 'dt_txt': '2019-10-03 12:00:00'}, {'dt': 1570114800, 'main': {'temp': 84.13, 'temp_min': 84.13, 'temp_max': 84.13, 'pressure': 1016.18, 'sea_level': 1016.18, 'grnd_level': 922.5, 'humidity': 28, 'temp_kf': 0}, 'weather': [{'id': 804, 'main': 'Clouds', 'description': 'overcast clouds', 'icon': '04d'}], 'clouds': {'all': 87}, 'wind': {'speed': 10.56, 'deg': 135.533}, 'sys': {'pod': 'd'}, 'dt_txt': '2019-10-03 15:00:00'}, {'dt': 1570125600, 'main': {'temp': 82.71, 'temp_min': 82.71, 'temp_max': 82.71, 'pressure': 1014.19, 'sea_level': 1014.19, 'grnd_level': 920.99, 'humidity': 29, 'temp_kf': 0}, 'weather': [{'id': 803, 'main': 'Clouds', 'description': 'broken clouds', 'icon': '04d'}], 'clouds': {'all': 74}, 'wind': {'speed': 9.98, 'deg': 136.701}, 'sys': {'pod': 'd'}, 'dt_txt': '2019-10-03 18:00:00'}, {'dt': 1570136400, 'main': {'temp': 69.24, 'temp_min': 69.24, 'temp_max': 69.24, 'pressure': 1015.04, 'sea_level': 1015.04, 'grnd_level': 921.67, 'humidity': 58, 'temp_kf': 0}, 'weather': [{'id': 803, 'main': 'Clouds', 'description': 'broken clouds', 'icon': '04d'}], 'clouds': {'all': 66}, 'wind': {'speed': 10.67, 'deg': 147.272}, 'sys': {'pod': 'd'}, 'dt_txt': '2019-10-03 21:00:00'}, {'dt': 1570147200, 'main': {'temp': 60.83, 'temp_min': 60.83, 'temp_max': 60.83, 'pressure': 1018.04, 'sea_level': 1018.04, 'grnd_level': 923.88, 'humidity': 82, 'temp_kf': 0}, 'weather': [{'id': 803, 'main': 'Clouds', 'description': 'broken clouds', 'icon': '04n'}], 'clouds': {'all': 57}, 'wind': {'speed': 10.31, 'deg': 145.355}, 'sys': {'pod': 'n'}, 'dt_txt': '2019-10-04 00:00:00'}, {'dt': 1570158000, 'main': {'temp': 59.03, 'temp_min': 59.03, 'temp_max': 59.03, 'pressure': 1018.26, 'sea_level': 1018.26, 'grnd_level': 923.74, 'humidity': 84, 'temp_kf': 0}, 'weather': [{'id': 801, 'main': 'Clouds', 'description': 'few clouds', 'icon': '02n'}], 'clouds': {'all': 18}, 'wind': {'speed': 9.46, 'deg': 136.141}, 'sys': {'pod': 'n'}, 'dt_txt': '2019-10-04 03:00:00'}, {'dt': 1570168800, 'main': {'temp': 58.29, 'temp_min': 58.29, 'temp_max': 58.29, 'pressure': 1016.99, 'sea_level': 1016.99, 'grnd_level': 922.48, 'humidity': 85, 'temp_kf': 0}, 'weather': [{'id': 801, 'main': 'Clouds', 'description': 'few clouds', 'icon': '02n'}], 'clouds': {'all': 15}, 'wind': {'speed': 6.91, 'deg': 125.641}, 'sys': {'pod': 'n'}, 'dt_txt': '2019-10-04 06:00:00'}, {'dt': 1570179600, 'main': {'temp': 56.47, 'temp_min': 56.47, 'temp_max': 56.47, 'pressure': 1016.74, 'sea_level': 1016.74, 'grnd_level': 922.26, 'humidity': 90, 'temp_kf': 0}, 'weather': [{'id': 800, 'main': 'Clear', 'description': 'clear sky', 'icon': '01d'}], 'clouds': {'all': 0}, 'wind': {'speed': 4.09, 'deg': 123.135}, 'sys': {'pod': 'd'}, 'dt_txt': '2019-10-04 09:00:00'}, {'dt': 1570190400, 'main': {'temp': 74.07, 'temp_min': 74.07, 'temp_max': 74.07, 'pressure': 1017.18, 'sea_level': 1017.18, 'grnd_level': 923.28, 'humidity': 45, 'temp_kf': 0}, 'weather': [{'id': 800, 'main': 'Clear', 'description': 'clear sky', 'icon': '01d'}], 'clouds': {'all': 2}, 'wind': {'speed': 4.32, 'deg': 87.681}, 'sys': {'pod': 'd'}, 'dt_txt': '2019-10-04 12:00:00'}, {'dt': 1570201200, 'main': {'temp': 90.5, 'temp_min': 90.5, 'temp_max': 90.5, 'pressure': 1014.7, 'sea_level': 1014.7, 'grnd_level': 921.36, 'humidity': 23, 'temp_kf': 0}, 'weather': [{'id': 800, 'main': 'Clear', 'description': 'clear sky', 'icon': '01d'}], 'clouds': {'all': 0}, 'wind': {'speed': 2.71, 'deg': 92.368}, 'sys': {'pod': 'd'}, 'dt_txt': '2019-10-04 15:00:00'}, {'dt': 1570212000, 'main': {'temp': 93.98, 'temp_min': 93.98, 'temp_max': 93.98, 'pressure': 1012.02, 'sea_level': 1012.02, 'grnd_level': 918.81, 'humidity': 21, 'temp_kf': 0}, 'weather': [{'id': 800, 'main': 'Clear', 'description': 'clear sky', 'icon': '01d'}], 'clouds': {'all': 0}, 'wind': {'speed': 0.09, 'deg': 197.928}, 'sys': {'pod': 'd'}, 'dt_txt': '2019-10-04 18:00:00'}, {'dt': 1570222800, 'main': {'temp': 76.05, 'temp_min': 76.05, 'temp_max': 76.05, 'pressure': 1011.97, 'sea_level': 1011.97, 'grnd_level': 919.22, 'humidity': 56, 'temp_kf': 0}, 'weather': [{'id': 800, 'main': 'Clear', 'description': 'clear sky', 'icon': '01d'}], 'clouds': {'all': 7}, 'wind': {'speed': 7.74, 'deg': 147.886}, 'sys': {'pod': 'd'}, 'dt_txt': '2019-10-04 21:00:00'}, {'dt': 1570233600, 'main': {'temp': 67.48, 'temp_min': 67.48, 'temp_max': 67.48, 'pressure': 1014.08, 'sea_level': 1014.08, 'grnd_level': 920.7, 'humidity': 72, 'temp_kf': 0}, 'weather': [{'id': 800, 'main': 'Clear', 'description': 'clear sky', 'icon': '01n'}], 'clouds': {'all': 3}, 'wind': {'speed': 4.85, 'deg': 142.94}, 'sys': {'pod': 'n'}, 'dt_txt': '2019-10-05 00:00:00'}, {'dt': 1570244400, 'main': {'temp': 65.66, 'temp_min': 65.66, 'temp_max': 65.66, 'pressure': 1014.05, 'sea_level': 1014.05, 'grnd_level': 920.54, 'humidity': 67, 'temp_kf': 0}, 'weather': [{'id': 800, 'main': 'Clear', 'description': 'clear sky', 'icon': '01n'}], 'clouds': {'all': 0}, 'wind': {'speed': 3.2, 'deg': 142.722}, 'sys': {'pod': 'n'}, 'dt_txt': '2019-10-05 03:00:00'}, {'dt': 1570255200, 'main': {'temp': 64.65, 'temp_min': 64.65, 'temp_max': 64.65, 'pressure': 1012.19, 'sea_level': 1012.19, 'grnd_level': 918.82, 'humidity': 66, 'temp_kf': 0}, 'weather': [{'id': 800, 'main': 'Clear', 'description': 'clear sky', 'icon': '01n'}], 'clouds': {'all': 3}, 'wind': {'speed': 3.13, 'deg': 112.273}, 'sys': {'pod': 'n'}, 'dt_txt': '2019-10-05 06:00:00'}, {'dt': 1570266000, 'main': {'temp': 64.56, 'temp_min': 64.56, 'temp_max': 64.56, 'pressure': 1012.59, 'sea_level': 1012.59, 'grnd_level': 918.95, 'humidity': 68, 'temp_kf': 0}, 'weather': [{'id': 804, 'main': 'Clouds', 'description': 'overcast clouds', 'icon': '04d'}], 'clouds': {'all': 100}, 'wind': {'speed': 2.19, 'deg': 56.961}, 'sys': {'pod': 'd'}, 'dt_txt': '2019-10-05 09:00:00'}, {'dt': 1570276800, 'main': {'temp': 80.42, 'temp_min': 80.42, 'temp_max': 80.42, 'pressure': 1013.46, 'sea_level': 1013.46, 'grnd_level': 919.89, 'humidity': 38, 'temp_kf': 0}, 'weather': [{'id': 804, 'main': 'Clouds', 'description': 'overcast clouds', 'icon': '04d'}], 'clouds': {'all': 100}, 'wind': {'speed': 5.23, 'deg': 355.449}, 'sys': {'pod': 'd'}, 'dt_txt': '2019-10-05 12:00:00'}, {'dt': 1570287600, 'main': {'temp': 88.97, 'temp_min': 88.97, 'temp_max': 88.97, 'pressure': 1011.66, 'sea_level': 1011.66, 'grnd_level': 919.21, 'humidity': 30, 'temp_kf': 0}, 'weather': [{'id': 803, 'main': 'Clouds', 'description': 'broken clouds', 'icon': '04d'}], 'clouds': {'all': 68}, 'wind': {'speed': 7.63, 'deg': 309.926}, 'sys': {'pod': 'd'}, 'dt_txt': '2019-10-05 15:00:00'}, {'dt': 1570298400, 'main': {'temp': 91.01, 'temp_min': 91.01, 'temp_max': 91.01, 'pressure': 1008.84, 'sea_level': 1008.84, 'grnd_level': 916.88, 'humidity': 26, 'temp_kf': 0}, 'weather': [{'id': 802, 'main': 'Clouds', 'description': 'scattered clouds', 'icon': '03d'}], 'clouds': {'all': 42}, 'wind': {'speed': 6.93, 'deg': 329.867}, 'sys': {'pod': 'd'}, 'dt_txt': '2019-10-05 18:00:00'}, {'dt': 1570309200, 'main': {'temp': 80.15, 'temp_min': 80.15, 'temp_max': 80.15, 'pressure': 1008.89, 'sea_level': 1008.89, 'grnd_level': 916.62, 'humidity': 39, 'temp_kf': 0}, 'weather': [{'id': 801, 'main': 'Clouds', 'description': 'few clouds', 'icon': '02d'}], 'clouds': {'all': 21}, 'wind': {'speed': 3.31, 'deg': 329.91}, 'sys': {'pod': 'd'}, 'dt_txt': '2019-10-05 21:00:00'}, {'dt': 1570320000, 'main': {'temp': 74.07, 'temp_min': 74.07, 'temp_max': 74.07, 'pressure': 1011.01, 'sea_level': 1011.01, 'grnd_level': 917.86, 'humidity': 49, 'temp_kf': 0}, 'weather': [{'id': 800, 'main': 'Clear', 'description': 'clear sky', 'icon': '01n'}], 'clouds': {'all': 10}, 'wind': {'speed': 2.84, 'deg': 63.637}, 'sys': {'pod': 'n'}, 'dt_txt': '2019-10-06 00:00:00'}, {'dt': 1570330800, 'main': {'temp': 67, 'temp_min': 67, 'temp_max': 67, 'pressure': 1011.67, 'sea_level': 1011.67, 'grnd_level': 919.06, 'humidity': 79, 'temp_kf': 0}, 'weather': [{'id': 802, 'main': 'Clouds', 'description': 'scattered clouds', 'icon': '03n'}], 'clouds': {'all': 46}, 'wind': {'speed': 9.44, 'deg': 191.126}, 'sys': {'pod': 'n'}, 'dt_txt': '2019-10-06 03:00:00'}, {'dt': 1570341600, 'main': {'temp': 64.13, 'temp_min': 64.13, 'temp_max': 64.13, 'pressure': 1011.56, 'sea_level': 1011.56, 'grnd_level': 918.52, 'humidity': 76, 'temp_kf': 0}, 'weather': [{'id': 803, 'main': 'Clouds', 'description': 'broken clouds', 'icon': '04n'}], 'clouds': {'all': 63}, 'wind': {'speed': 5.84, 'deg': 163.656}, 'sys': {'pod': 'n'}, 'dt_txt': '2019-10-06 06:00:00'}, {'dt': 1570352400, 'main': {'temp': 62.48, 'temp_min': 62.48, 'temp_max': 62.48, 'pressure': 1013.23, 'sea_level': 1013.23, 'grnd_level': 919.75, 'humidity': 84, 'temp_kf': 0}, 'weather': [{'id': 804, 'main': 'Clouds', 'description': 'overcast clouds', 'icon': '04d'}], 'clouds': {'all': 100}, 'wind': {'speed': 5.73, 'deg': 141.764}, 'sys': {'pod': 'd'}, 'dt_txt': '2019-10-06 09:00:00'}, {'dt': 1570363200, 'main': {'temp': 72.17, 'temp_min': 72.17, 'temp_max': 72.17, 'pressure': 1013.89, 'sea_level': 1013.89, 'grnd_level': 920.35, 'humidity': 60, 'temp_kf': 0}, 'weather': [{'id': 804, 'main': 'Clouds', 'description': 'overcast clouds', 'icon': '04d'}], 'clouds': {'all': 86}, 'wind': {'speed': 6.67, 'deg': 120.601}, 'sys': {'pod': 'd'}, 'dt_txt': '2019-10-06 12:00:00'}, {'dt': 1570374000, 'main': {'temp': 84.11, 'temp_min': 84.11, 'temp_max': 84.11, 'pressure': 1012.77, 'sea_level': 1012.77, 'grnd_level': 919.52, 'humidity': 40, 'temp_kf': 0}, 'weather': [{'id': 803, 'main': 'Clouds', 'description': 'broken clouds', 'icon': '04d'}], 'clouds': {'all': 68}, 'wind': {'speed': 5.84, 'deg': 128.031}, 'sys': {'pod': 'd'}, 'dt_txt': '2019-10-06 15:00:00'}, {'dt': 1570384800, 'main': {'temp': 70.29, 'temp_min': 70.29, 'temp_max': 70.29, 'pressure': 1011.78, 'sea_level': 1011.78, 'grnd_level': 918.98, 'humidity': 76, 'temp_kf': 0}, 'weather': [{'id': 500, 'main': 'Rain', 'description': 'light rain', 'icon': '10d'}], 'clouds': {'all': 81}, 'wind': {'speed': 6.4, 'deg': 191.392}, 'rain': {'3h': 0.812}, 'sys': {'pod': 'd'}, 'dt_txt': '2019-10-06 18:00:00'}, {'dt': 1570395600, 'main': {'temp': 66.99, 'temp_min': 66.99, 'temp_max': 66.99, 'pressure': 1013.41, 'sea_level': 1013.41, 'grnd_level': 919.8, 'humidity': 85, 'temp_kf': 0}, 'weather': [{'id': 500, 'main': 'Rain', 'description': 'light rain', 'icon': '10d'}], 'clouds': {'all': 99}, 'wind': {'speed': 5.3, 'deg': 131.12}, 'rain': {'3h': 0.5}, 'sys': {'pod': 'd'}, 'dt_txt': '2019-10-06 21:00:00'}, {'dt': 1570406400, 'main': {'temp': 65.06, 'temp_min': 65.06, 'temp_max': 65.06, 'pressure': 1015.46, 'sea_level': 1015.46, 'grnd_level': 921.73, 'humidity': 89, 'temp_kf': 0}, 'weather': [{'id': 500, 'main': 'Rain', 'description': 'light rain', 'icon': '10n'}], 'clouds': {'all': 99}, 'wind': {'speed': 5.17, 'deg': 148.466}, 'rain': {'3h': 0.312}, 'sys': {'pod': 'n'}, 'dt_txt': '2019-10-07 00:00:00'}, {'dt': 1570417200, 'main': {'temp': 65.9, 'temp_min': 65.9, 'temp_max': 65.9, 'pressure': 1014.67, 'sea_level': 1014.67, 'grnd_level': 920.85, 'humidity': 87, 'temp_kf': 0}, 'weather': [{'id': 804, 'main': 'Clouds', 'description': 'overcast clouds', 'icon': '04n'}], 'clouds': {'all': 91}, 'wind': {'speed': 4.56, 'deg': 141.748}, 'sys': {'pod': 'n'}, 'dt_txt': '2019-10-07 03:00:00'}, {'dt': 1570428000, 'main': {'temp': 64.07, 'temp_min': 64.07, 'temp_max': 64.07, 'pressure': 1013.61, 'sea_level': 1013.61, 'grnd_level': 920.01, 'humidity': 91, 'temp_kf': 0}, 'weather': [{'id': 804, 'main': 'Clouds', 'description': 'overcast clouds', 'icon': '04n'}], 'clouds': {'all': 89}, 'wind': {'speed': 3.38, 'deg': 121.302}, 'sys': {'pod': 'n'}, 'dt_txt': '2019-10-07 06:00:00'}, {'dt': 1570438800, 'main': {'temp': 64.46, 'temp_min': 64.46, 'temp_max': 64.46, 'pressure': 1013.95, 'sea_level': 1013.95, 'grnd_level': 920.13, 'humidity': 88, 'temp_kf': 0}, 'weather': [{'id': 804, 'main': 'Clouds', 'description': 'overcast clouds', 'icon': '04d'}], 'clouds': {'all': 94}, 'wind': {'speed': 2.64, 'deg': 89.466}, 'sys': {'pod': 'd'}, 'dt_txt': '2019-10-07 09:00:00'}, {'dt': 1570449600, 'main': {'temp': 77.21, 'temp_min': 77.21, 'temp_max': 77.21, 'pressure': 1015, 'sea_level': 1015, 'grnd_level': 921.54, 'humidity': 60, 'temp_kf': 0}, 'weather': [{'id': 804, 'main': 'Clouds', 'description': 'overcast clouds', 'icon': '04d'}], 'clouds': {'all': 96}, 'wind': {'speed': 1.52, 'deg': 177.201}, 'sys': {'pod': 'd'}, 'dt_txt': '2019-10-07 12:00:00'}, {'dt': 1570460400, 'main': {'temp': 89, 'temp_min': 89, 'temp_max': 89, 'pressure': 1013.96, 'sea_level': 1013.96, 'grnd_level': 920.26, 'humidity': 37, 'temp_kf': 0}, 'weather': [{'id': 804, 'main': 'Clouds', 'description': 'overcast clouds', 'icon': '04d'}], 'clouds': {'all': 86}, 'wind': {'speed': 0.58, 'deg': 124.061}, 'sys': {'pod': 'd'}, 'dt_txt': '2019-10-07 15:00:00'}, {'dt': 1570471200, 'main': {'temp': 76.47, 'temp_min': 76.47, 'temp_max': 76.47, 'pressure': 1012.16, 'sea_level': 1012.16, 'grnd_level': 919.12, 'humidity': 64, 'temp_kf': 0}, 'weather': [{'id': 500, 'main': 'Rain', 'description': 'light rain', 'icon': '10d'}], 'clouds': {'all': 79}, 'wind': {'speed': 6.91, 'deg': 155.992}, 'rain': {'3h': 2.063}, 'sys': {'pod': 'd'}, 'dt_txt': '2019-10-07 18:00:00'}], 'city': {'id': 3448439, 'name': 'Sao Paulo', 'coord': {'lat': -23.5476, 'lon': -46.6362}, 'country': 'BR', 'timezone': -10800, 'sunrise': 1570005967, 'sunset': 1570050339}}\n"
     ]
    }
   ],
   "source": [
    "#make request for 5 day forecast\n",
    "request = requests.get(f'http://api.openweathermap.org/data/2.5/forecast?id={city_id_string}&APPID=333de4e909a5ffe9bfa46f0f89cad105&units=imperial&')\n",
    "json_data = json.loads(request.text)\n",
    "\n",
    "print(json_data)            #note how messy and hard to read this is. Yet, it is a dictionary\n"
   ]
  },
  {
   "cell_type": "markdown",
   "metadata": {},
   "source": [
    "This is messy, so let's separate each 3 hour forecast with a blank line. \n",
    "\n",
    "There is still a lot of data. How much exactly?  24 hours / 3 hours = 8. 5 days x 8 predictions per day = 40 predictions total."
   ]
  },
  {
   "cell_type": "code",
   "execution_count": 36,
   "metadata": {},
   "outputs": [
    {
     "name": "stdout",
     "output_type": "stream",
     "text": [
      "{'dt': 1570050000, 'main': {'temp': 74.61, 'temp_min': 74.61, 'temp_max': 79.35, 'pressure': 1010.62, 'sea_level': 1010.62, 'grnd_level': 918.58, 'humidity': 34, 'temp_kf': -2.63}, 'weather': [{'id': 800, 'main': 'Clear', 'description': 'clear sky', 'icon': '01d'}], 'clouds': {'all': 0}, 'wind': {'speed': 3.49, 'deg': 185.102}, 'sys': {'pod': 'd'}, 'dt_txt': '2019-10-02 21:00:00'}\n",
      "\n",
      "{'dt': 1570060800, 'main': {'temp': 70.27, 'temp_min': 70.27, 'temp_max': 73.82, 'pressure': 1012.46, 'sea_level': 1012.46, 'grnd_level': 920.09, 'humidity': 53, 'temp_kf': -1.98}, 'weather': [{'id': 800, 'main': 'Clear', 'description': 'clear sky', 'icon': '01n'}], 'clouds': {'all': 0}, 'wind': {'speed': 3.91, 'deg': 124.263}, 'sys': {'pod': 'n'}, 'dt_txt': '2019-10-03 00:00:00'}\n",
      "\n",
      "{'dt': 1570071600, 'main': {'temp': 69.06, 'temp_min': 69.06, 'temp_max': 71.43, 'pressure': 1012.59, 'sea_level': 1012.59, 'grnd_level': 920.14, 'humidity': 48, 'temp_kf': -1.32}, 'weather': [{'id': 803, 'main': 'Clouds', 'description': 'broken clouds', 'icon': '04n'}], 'clouds': {'all': 67}, 'wind': {'speed': 2.95, 'deg': 117.947}, 'sys': {'pod': 'n'}, 'dt_txt': '2019-10-03 03:00:00'}\n",
      "\n",
      "{'dt': 1570082400, 'main': {'temp': 68.63, 'temp_min': 68.63, 'temp_max': 69.81, 'pressure': 1012.62, 'sea_level': 1012.62, 'grnd_level': 919.45, 'humidity': 46, 'temp_kf': -0.66}, 'weather': [{'id': 803, 'main': 'Clouds', 'description': 'broken clouds', 'icon': '04n'}], 'clouds': {'all': 56}, 'wind': {'speed': 2.91, 'deg': 114.812}, 'sys': {'pod': 'n'}, 'dt_txt': '2019-10-03 06:00:00'}\n",
      "\n",
      "{'dt': 1570093200, 'main': {'temp': 66.18, 'temp_min': 66.18, 'temp_max': 66.18, 'pressure': 1014.65, 'sea_level': 1014.65, 'grnd_level': 920.72, 'humidity': 54, 'temp_kf': 0}, 'weather': [{'id': 803, 'main': 'Clouds', 'description': 'broken clouds', 'icon': '04d'}], 'clouds': {'all': 56}, 'wind': {'speed': 4.94, 'deg': 157.328}, 'sys': {'pod': 'd'}, 'dt_txt': '2019-10-03 09:00:00'}\n",
      "\n",
      "{'dt': 1570104000, 'main': {'temp': 75.19, 'temp_min': 75.19, 'temp_max': 75.19, 'pressure': 1016.91, 'sea_level': 1016.91, 'grnd_level': 923.12, 'humidity': 51, 'temp_kf': 0}, 'weather': [{'id': 803, 'main': 'Clouds', 'description': 'broken clouds', 'icon': '04d'}], 'clouds': {'all': 78}, 'wind': {'speed': 6.55, 'deg': 159.693}, 'sys': {'pod': 'd'}, 'dt_txt': '2019-10-03 12:00:00'}\n",
      "\n",
      "{'dt': 1570114800, 'main': {'temp': 84.13, 'temp_min': 84.13, 'temp_max': 84.13, 'pressure': 1016.18, 'sea_level': 1016.18, 'grnd_level': 922.5, 'humidity': 28, 'temp_kf': 0}, 'weather': [{'id': 804, 'main': 'Clouds', 'description': 'overcast clouds', 'icon': '04d'}], 'clouds': {'all': 87}, 'wind': {'speed': 10.56, 'deg': 135.533}, 'sys': {'pod': 'd'}, 'dt_txt': '2019-10-03 15:00:00'}\n",
      "\n",
      "{'dt': 1570125600, 'main': {'temp': 82.71, 'temp_min': 82.71, 'temp_max': 82.71, 'pressure': 1014.19, 'sea_level': 1014.19, 'grnd_level': 920.99, 'humidity': 29, 'temp_kf': 0}, 'weather': [{'id': 803, 'main': 'Clouds', 'description': 'broken clouds', 'icon': '04d'}], 'clouds': {'all': 74}, 'wind': {'speed': 9.98, 'deg': 136.701}, 'sys': {'pod': 'd'}, 'dt_txt': '2019-10-03 18:00:00'}\n",
      "\n",
      "{'dt': 1570136400, 'main': {'temp': 69.24, 'temp_min': 69.24, 'temp_max': 69.24, 'pressure': 1015.04, 'sea_level': 1015.04, 'grnd_level': 921.67, 'humidity': 58, 'temp_kf': 0}, 'weather': [{'id': 803, 'main': 'Clouds', 'description': 'broken clouds', 'icon': '04d'}], 'clouds': {'all': 66}, 'wind': {'speed': 10.67, 'deg': 147.272}, 'sys': {'pod': 'd'}, 'dt_txt': '2019-10-03 21:00:00'}\n",
      "\n",
      "{'dt': 1570147200, 'main': {'temp': 60.83, 'temp_min': 60.83, 'temp_max': 60.83, 'pressure': 1018.04, 'sea_level': 1018.04, 'grnd_level': 923.88, 'humidity': 82, 'temp_kf': 0}, 'weather': [{'id': 803, 'main': 'Clouds', 'description': 'broken clouds', 'icon': '04n'}], 'clouds': {'all': 57}, 'wind': {'speed': 10.31, 'deg': 145.355}, 'sys': {'pod': 'n'}, 'dt_txt': '2019-10-04 00:00:00'}\n",
      "\n",
      "{'dt': 1570158000, 'main': {'temp': 59.03, 'temp_min': 59.03, 'temp_max': 59.03, 'pressure': 1018.26, 'sea_level': 1018.26, 'grnd_level': 923.74, 'humidity': 84, 'temp_kf': 0}, 'weather': [{'id': 801, 'main': 'Clouds', 'description': 'few clouds', 'icon': '02n'}], 'clouds': {'all': 18}, 'wind': {'speed': 9.46, 'deg': 136.141}, 'sys': {'pod': 'n'}, 'dt_txt': '2019-10-04 03:00:00'}\n",
      "\n",
      "{'dt': 1570168800, 'main': {'temp': 58.29, 'temp_min': 58.29, 'temp_max': 58.29, 'pressure': 1016.99, 'sea_level': 1016.99, 'grnd_level': 922.48, 'humidity': 85, 'temp_kf': 0}, 'weather': [{'id': 801, 'main': 'Clouds', 'description': 'few clouds', 'icon': '02n'}], 'clouds': {'all': 15}, 'wind': {'speed': 6.91, 'deg': 125.641}, 'sys': {'pod': 'n'}, 'dt_txt': '2019-10-04 06:00:00'}\n",
      "\n",
      "{'dt': 1570179600, 'main': {'temp': 56.47, 'temp_min': 56.47, 'temp_max': 56.47, 'pressure': 1016.74, 'sea_level': 1016.74, 'grnd_level': 922.26, 'humidity': 90, 'temp_kf': 0}, 'weather': [{'id': 800, 'main': 'Clear', 'description': 'clear sky', 'icon': '01d'}], 'clouds': {'all': 0}, 'wind': {'speed': 4.09, 'deg': 123.135}, 'sys': {'pod': 'd'}, 'dt_txt': '2019-10-04 09:00:00'}\n",
      "\n",
      "{'dt': 1570190400, 'main': {'temp': 74.07, 'temp_min': 74.07, 'temp_max': 74.07, 'pressure': 1017.18, 'sea_level': 1017.18, 'grnd_level': 923.28, 'humidity': 45, 'temp_kf': 0}, 'weather': [{'id': 800, 'main': 'Clear', 'description': 'clear sky', 'icon': '01d'}], 'clouds': {'all': 2}, 'wind': {'speed': 4.32, 'deg': 87.681}, 'sys': {'pod': 'd'}, 'dt_txt': '2019-10-04 12:00:00'}\n",
      "\n",
      "{'dt': 1570201200, 'main': {'temp': 90.5, 'temp_min': 90.5, 'temp_max': 90.5, 'pressure': 1014.7, 'sea_level': 1014.7, 'grnd_level': 921.36, 'humidity': 23, 'temp_kf': 0}, 'weather': [{'id': 800, 'main': 'Clear', 'description': 'clear sky', 'icon': '01d'}], 'clouds': {'all': 0}, 'wind': {'speed': 2.71, 'deg': 92.368}, 'sys': {'pod': 'd'}, 'dt_txt': '2019-10-04 15:00:00'}\n",
      "\n",
      "{'dt': 1570212000, 'main': {'temp': 93.98, 'temp_min': 93.98, 'temp_max': 93.98, 'pressure': 1012.02, 'sea_level': 1012.02, 'grnd_level': 918.81, 'humidity': 21, 'temp_kf': 0}, 'weather': [{'id': 800, 'main': 'Clear', 'description': 'clear sky', 'icon': '01d'}], 'clouds': {'all': 0}, 'wind': {'speed': 0.09, 'deg': 197.928}, 'sys': {'pod': 'd'}, 'dt_txt': '2019-10-04 18:00:00'}\n",
      "\n",
      "{'dt': 1570222800, 'main': {'temp': 76.05, 'temp_min': 76.05, 'temp_max': 76.05, 'pressure': 1011.97, 'sea_level': 1011.97, 'grnd_level': 919.22, 'humidity': 56, 'temp_kf': 0}, 'weather': [{'id': 800, 'main': 'Clear', 'description': 'clear sky', 'icon': '01d'}], 'clouds': {'all': 7}, 'wind': {'speed': 7.74, 'deg': 147.886}, 'sys': {'pod': 'd'}, 'dt_txt': '2019-10-04 21:00:00'}\n",
      "\n",
      "{'dt': 1570233600, 'main': {'temp': 67.48, 'temp_min': 67.48, 'temp_max': 67.48, 'pressure': 1014.08, 'sea_level': 1014.08, 'grnd_level': 920.7, 'humidity': 72, 'temp_kf': 0}, 'weather': [{'id': 800, 'main': 'Clear', 'description': 'clear sky', 'icon': '01n'}], 'clouds': {'all': 3}, 'wind': {'speed': 4.85, 'deg': 142.94}, 'sys': {'pod': 'n'}, 'dt_txt': '2019-10-05 00:00:00'}\n",
      "\n",
      "{'dt': 1570244400, 'main': {'temp': 65.66, 'temp_min': 65.66, 'temp_max': 65.66, 'pressure': 1014.05, 'sea_level': 1014.05, 'grnd_level': 920.54, 'humidity': 67, 'temp_kf': 0}, 'weather': [{'id': 800, 'main': 'Clear', 'description': 'clear sky', 'icon': '01n'}], 'clouds': {'all': 0}, 'wind': {'speed': 3.2, 'deg': 142.722}, 'sys': {'pod': 'n'}, 'dt_txt': '2019-10-05 03:00:00'}\n",
      "\n",
      "{'dt': 1570255200, 'main': {'temp': 64.65, 'temp_min': 64.65, 'temp_max': 64.65, 'pressure': 1012.19, 'sea_level': 1012.19, 'grnd_level': 918.82, 'humidity': 66, 'temp_kf': 0}, 'weather': [{'id': 800, 'main': 'Clear', 'description': 'clear sky', 'icon': '01n'}], 'clouds': {'all': 3}, 'wind': {'speed': 3.13, 'deg': 112.273}, 'sys': {'pod': 'n'}, 'dt_txt': '2019-10-05 06:00:00'}\n",
      "\n",
      "{'dt': 1570266000, 'main': {'temp': 64.56, 'temp_min': 64.56, 'temp_max': 64.56, 'pressure': 1012.59, 'sea_level': 1012.59, 'grnd_level': 918.95, 'humidity': 68, 'temp_kf': 0}, 'weather': [{'id': 804, 'main': 'Clouds', 'description': 'overcast clouds', 'icon': '04d'}], 'clouds': {'all': 100}, 'wind': {'speed': 2.19, 'deg': 56.961}, 'sys': {'pod': 'd'}, 'dt_txt': '2019-10-05 09:00:00'}\n",
      "\n",
      "{'dt': 1570276800, 'main': {'temp': 80.42, 'temp_min': 80.42, 'temp_max': 80.42, 'pressure': 1013.46, 'sea_level': 1013.46, 'grnd_level': 919.89, 'humidity': 38, 'temp_kf': 0}, 'weather': [{'id': 804, 'main': 'Clouds', 'description': 'overcast clouds', 'icon': '04d'}], 'clouds': {'all': 100}, 'wind': {'speed': 5.23, 'deg': 355.449}, 'sys': {'pod': 'd'}, 'dt_txt': '2019-10-05 12:00:00'}\n",
      "\n",
      "{'dt': 1570287600, 'main': {'temp': 88.97, 'temp_min': 88.97, 'temp_max': 88.97, 'pressure': 1011.66, 'sea_level': 1011.66, 'grnd_level': 919.21, 'humidity': 30, 'temp_kf': 0}, 'weather': [{'id': 803, 'main': 'Clouds', 'description': 'broken clouds', 'icon': '04d'}], 'clouds': {'all': 68}, 'wind': {'speed': 7.63, 'deg': 309.926}, 'sys': {'pod': 'd'}, 'dt_txt': '2019-10-05 15:00:00'}\n",
      "\n",
      "{'dt': 1570298400, 'main': {'temp': 91.01, 'temp_min': 91.01, 'temp_max': 91.01, 'pressure': 1008.84, 'sea_level': 1008.84, 'grnd_level': 916.88, 'humidity': 26, 'temp_kf': 0}, 'weather': [{'id': 802, 'main': 'Clouds', 'description': 'scattered clouds', 'icon': '03d'}], 'clouds': {'all': 42}, 'wind': {'speed': 6.93, 'deg': 329.867}, 'sys': {'pod': 'd'}, 'dt_txt': '2019-10-05 18:00:00'}\n",
      "\n",
      "{'dt': 1570309200, 'main': {'temp': 80.15, 'temp_min': 80.15, 'temp_max': 80.15, 'pressure': 1008.89, 'sea_level': 1008.89, 'grnd_level': 916.62, 'humidity': 39, 'temp_kf': 0}, 'weather': [{'id': 801, 'main': 'Clouds', 'description': 'few clouds', 'icon': '02d'}], 'clouds': {'all': 21}, 'wind': {'speed': 3.31, 'deg': 329.91}, 'sys': {'pod': 'd'}, 'dt_txt': '2019-10-05 21:00:00'}\n",
      "\n",
      "{'dt': 1570320000, 'main': {'temp': 74.07, 'temp_min': 74.07, 'temp_max': 74.07, 'pressure': 1011.01, 'sea_level': 1011.01, 'grnd_level': 917.86, 'humidity': 49, 'temp_kf': 0}, 'weather': [{'id': 800, 'main': 'Clear', 'description': 'clear sky', 'icon': '01n'}], 'clouds': {'all': 10}, 'wind': {'speed': 2.84, 'deg': 63.637}, 'sys': {'pod': 'n'}, 'dt_txt': '2019-10-06 00:00:00'}\n",
      "\n",
      "{'dt': 1570330800, 'main': {'temp': 67, 'temp_min': 67, 'temp_max': 67, 'pressure': 1011.67, 'sea_level': 1011.67, 'grnd_level': 919.06, 'humidity': 79, 'temp_kf': 0}, 'weather': [{'id': 802, 'main': 'Clouds', 'description': 'scattered clouds', 'icon': '03n'}], 'clouds': {'all': 46}, 'wind': {'speed': 9.44, 'deg': 191.126}, 'sys': {'pod': 'n'}, 'dt_txt': '2019-10-06 03:00:00'}\n",
      "\n",
      "{'dt': 1570341600, 'main': {'temp': 64.13, 'temp_min': 64.13, 'temp_max': 64.13, 'pressure': 1011.56, 'sea_level': 1011.56, 'grnd_level': 918.52, 'humidity': 76, 'temp_kf': 0}, 'weather': [{'id': 803, 'main': 'Clouds', 'description': 'broken clouds', 'icon': '04n'}], 'clouds': {'all': 63}, 'wind': {'speed': 5.84, 'deg': 163.656}, 'sys': {'pod': 'n'}, 'dt_txt': '2019-10-06 06:00:00'}\n",
      "\n",
      "{'dt': 1570352400, 'main': {'temp': 62.48, 'temp_min': 62.48, 'temp_max': 62.48, 'pressure': 1013.23, 'sea_level': 1013.23, 'grnd_level': 919.75, 'humidity': 84, 'temp_kf': 0}, 'weather': [{'id': 804, 'main': 'Clouds', 'description': 'overcast clouds', 'icon': '04d'}], 'clouds': {'all': 100}, 'wind': {'speed': 5.73, 'deg': 141.764}, 'sys': {'pod': 'd'}, 'dt_txt': '2019-10-06 09:00:00'}\n",
      "\n",
      "{'dt': 1570363200, 'main': {'temp': 72.17, 'temp_min': 72.17, 'temp_max': 72.17, 'pressure': 1013.89, 'sea_level': 1013.89, 'grnd_level': 920.35, 'humidity': 60, 'temp_kf': 0}, 'weather': [{'id': 804, 'main': 'Clouds', 'description': 'overcast clouds', 'icon': '04d'}], 'clouds': {'all': 86}, 'wind': {'speed': 6.67, 'deg': 120.601}, 'sys': {'pod': 'd'}, 'dt_txt': '2019-10-06 12:00:00'}\n",
      "\n",
      "{'dt': 1570374000, 'main': {'temp': 84.11, 'temp_min': 84.11, 'temp_max': 84.11, 'pressure': 1012.77, 'sea_level': 1012.77, 'grnd_level': 919.52, 'humidity': 40, 'temp_kf': 0}, 'weather': [{'id': 803, 'main': 'Clouds', 'description': 'broken clouds', 'icon': '04d'}], 'clouds': {'all': 68}, 'wind': {'speed': 5.84, 'deg': 128.031}, 'sys': {'pod': 'd'}, 'dt_txt': '2019-10-06 15:00:00'}\n",
      "\n",
      "{'dt': 1570384800, 'main': {'temp': 70.29, 'temp_min': 70.29, 'temp_max': 70.29, 'pressure': 1011.78, 'sea_level': 1011.78, 'grnd_level': 918.98, 'humidity': 76, 'temp_kf': 0}, 'weather': [{'id': 500, 'main': 'Rain', 'description': 'light rain', 'icon': '10d'}], 'clouds': {'all': 81}, 'wind': {'speed': 6.4, 'deg': 191.392}, 'rain': {'3h': 0.812}, 'sys': {'pod': 'd'}, 'dt_txt': '2019-10-06 18:00:00'}\n",
      "\n",
      "{'dt': 1570395600, 'main': {'temp': 66.99, 'temp_min': 66.99, 'temp_max': 66.99, 'pressure': 1013.41, 'sea_level': 1013.41, 'grnd_level': 919.8, 'humidity': 85, 'temp_kf': 0}, 'weather': [{'id': 500, 'main': 'Rain', 'description': 'light rain', 'icon': '10d'}], 'clouds': {'all': 99}, 'wind': {'speed': 5.3, 'deg': 131.12}, 'rain': {'3h': 0.5}, 'sys': {'pod': 'd'}, 'dt_txt': '2019-10-06 21:00:00'}\n",
      "\n",
      "{'dt': 1570406400, 'main': {'temp': 65.06, 'temp_min': 65.06, 'temp_max': 65.06, 'pressure': 1015.46, 'sea_level': 1015.46, 'grnd_level': 921.73, 'humidity': 89, 'temp_kf': 0}, 'weather': [{'id': 500, 'main': 'Rain', 'description': 'light rain', 'icon': '10n'}], 'clouds': {'all': 99}, 'wind': {'speed': 5.17, 'deg': 148.466}, 'rain': {'3h': 0.312}, 'sys': {'pod': 'n'}, 'dt_txt': '2019-10-07 00:00:00'}\n",
      "\n",
      "{'dt': 1570417200, 'main': {'temp': 65.9, 'temp_min': 65.9, 'temp_max': 65.9, 'pressure': 1014.67, 'sea_level': 1014.67, 'grnd_level': 920.85, 'humidity': 87, 'temp_kf': 0}, 'weather': [{'id': 804, 'main': 'Clouds', 'description': 'overcast clouds', 'icon': '04n'}], 'clouds': {'all': 91}, 'wind': {'speed': 4.56, 'deg': 141.748}, 'sys': {'pod': 'n'}, 'dt_txt': '2019-10-07 03:00:00'}\n",
      "\n",
      "{'dt': 1570428000, 'main': {'temp': 64.07, 'temp_min': 64.07, 'temp_max': 64.07, 'pressure': 1013.61, 'sea_level': 1013.61, 'grnd_level': 920.01, 'humidity': 91, 'temp_kf': 0}, 'weather': [{'id': 804, 'main': 'Clouds', 'description': 'overcast clouds', 'icon': '04n'}], 'clouds': {'all': 89}, 'wind': {'speed': 3.38, 'deg': 121.302}, 'sys': {'pod': 'n'}, 'dt_txt': '2019-10-07 06:00:00'}\n",
      "\n",
      "{'dt': 1570438800, 'main': {'temp': 64.46, 'temp_min': 64.46, 'temp_max': 64.46, 'pressure': 1013.95, 'sea_level': 1013.95, 'grnd_level': 920.13, 'humidity': 88, 'temp_kf': 0}, 'weather': [{'id': 804, 'main': 'Clouds', 'description': 'overcast clouds', 'icon': '04d'}], 'clouds': {'all': 94}, 'wind': {'speed': 2.64, 'deg': 89.466}, 'sys': {'pod': 'd'}, 'dt_txt': '2019-10-07 09:00:00'}\n",
      "\n",
      "{'dt': 1570449600, 'main': {'temp': 77.21, 'temp_min': 77.21, 'temp_max': 77.21, 'pressure': 1015, 'sea_level': 1015, 'grnd_level': 921.54, 'humidity': 60, 'temp_kf': 0}, 'weather': [{'id': 804, 'main': 'Clouds', 'description': 'overcast clouds', 'icon': '04d'}], 'clouds': {'all': 96}, 'wind': {'speed': 1.52, 'deg': 177.201}, 'sys': {'pod': 'd'}, 'dt_txt': '2019-10-07 12:00:00'}\n",
      "\n",
      "{'dt': 1570460400, 'main': {'temp': 89, 'temp_min': 89, 'temp_max': 89, 'pressure': 1013.96, 'sea_level': 1013.96, 'grnd_level': 920.26, 'humidity': 37, 'temp_kf': 0}, 'weather': [{'id': 804, 'main': 'Clouds', 'description': 'overcast clouds', 'icon': '04d'}], 'clouds': {'all': 86}, 'wind': {'speed': 0.58, 'deg': 124.061}, 'sys': {'pod': 'd'}, 'dt_txt': '2019-10-07 15:00:00'}\n",
      "\n",
      "{'dt': 1570471200, 'main': {'temp': 76.47, 'temp_min': 76.47, 'temp_max': 76.47, 'pressure': 1012.16, 'sea_level': 1012.16, 'grnd_level': 919.12, 'humidity': 64, 'temp_kf': 0}, 'weather': [{'id': 500, 'main': 'Rain', 'description': 'light rain', 'icon': '10d'}], 'clouds': {'all': 79}, 'wind': {'speed': 6.91, 'deg': 155.992}, 'rain': {'3h': 2.063}, 'sys': {'pod': 'd'}, 'dt_txt': '2019-10-07 18:00:00'}\n",
      "\n"
     ]
    }
   ],
   "source": [
    "#take my word for it, the innteresting stuff is in the 'list' key of the json_data dictionary\n",
    "\n",
    "for measurement in json_data['list']:\n",
    "    print(measurement)\n",
    "    print()"
   ]
  },
  {
   "cell_type": "markdown",
   "metadata": {},
   "source": [
    "Just as an example, let's use string indexing to find one forecast prediction for each day. Luckily, this data is structured so look at the below example. From looking at the data, in the 'dt_txt' key I have a standard date/time stamp. You can see below I am taking the measurement at just 12 noon for each day. The time stamp is at the locations 11-20 in each 'dt_txt' key.\n",
    "\n",
    "After doing this, I just have 5 results. One for each of the next five days for my target city."
   ]
  },
  {
   "cell_type": "code",
   "execution_count": 37,
   "metadata": {},
   "outputs": [
    {
     "name": "stdout",
     "output_type": "stream",
     "text": [
      "{'dt': 1570104000, 'main': {'temp': 75.19, 'temp_min': 75.19, 'temp_max': 75.19, 'pressure': 1016.91, 'sea_level': 1016.91, 'grnd_level': 923.12, 'humidity': 51, 'temp_kf': 0}, 'weather': [{'id': 803, 'main': 'Clouds', 'description': 'broken clouds', 'icon': '04d'}], 'clouds': {'all': 78}, 'wind': {'speed': 6.55, 'deg': 159.693}, 'sys': {'pod': 'd'}, 'dt_txt': '2019-10-03 12:00:00'}\n",
      "2019-10-03\n",
      "75.19\n",
      "\n",
      "{'dt': 1570190400, 'main': {'temp': 74.07, 'temp_min': 74.07, 'temp_max': 74.07, 'pressure': 1017.18, 'sea_level': 1017.18, 'grnd_level': 923.28, 'humidity': 45, 'temp_kf': 0}, 'weather': [{'id': 800, 'main': 'Clear', 'description': 'clear sky', 'icon': '01d'}], 'clouds': {'all': 2}, 'wind': {'speed': 4.32, 'deg': 87.681}, 'sys': {'pod': 'd'}, 'dt_txt': '2019-10-04 12:00:00'}\n",
      "2019-10-04\n",
      "74.07\n",
      "\n",
      "{'dt': 1570276800, 'main': {'temp': 80.42, 'temp_min': 80.42, 'temp_max': 80.42, 'pressure': 1013.46, 'sea_level': 1013.46, 'grnd_level': 919.89, 'humidity': 38, 'temp_kf': 0}, 'weather': [{'id': 804, 'main': 'Clouds', 'description': 'overcast clouds', 'icon': '04d'}], 'clouds': {'all': 100}, 'wind': {'speed': 5.23, 'deg': 355.449}, 'sys': {'pod': 'd'}, 'dt_txt': '2019-10-05 12:00:00'}\n",
      "2019-10-05\n",
      "80.42\n",
      "\n",
      "{'dt': 1570363200, 'main': {'temp': 72.17, 'temp_min': 72.17, 'temp_max': 72.17, 'pressure': 1013.89, 'sea_level': 1013.89, 'grnd_level': 920.35, 'humidity': 60, 'temp_kf': 0}, 'weather': [{'id': 804, 'main': 'Clouds', 'description': 'overcast clouds', 'icon': '04d'}], 'clouds': {'all': 86}, 'wind': {'speed': 6.67, 'deg': 120.601}, 'sys': {'pod': 'd'}, 'dt_txt': '2019-10-06 12:00:00'}\n",
      "2019-10-06\n",
      "72.17\n",
      "\n",
      "{'dt': 1570449600, 'main': {'temp': 77.21, 'temp_min': 77.21, 'temp_max': 77.21, 'pressure': 1015, 'sea_level': 1015, 'grnd_level': 921.54, 'humidity': 60, 'temp_kf': 0}, 'weather': [{'id': 804, 'main': 'Clouds', 'description': 'overcast clouds', 'icon': '04d'}], 'clouds': {'all': 96}, 'wind': {'speed': 1.52, 'deg': 177.201}, 'sys': {'pod': 'd'}, 'dt_txt': '2019-10-07 12:00:00'}\n",
      "2019-10-07\n",
      "77.21\n",
      "\n"
     ]
    }
   ],
   "source": [
    "for daily_measurement in json_data['list']:\n",
    "    if daily_measurement['dt_txt'][11:20] == '12:00:00':\n",
    "        print(daily_measurement)\n",
    "        print(daily_measurement['dt_txt'][:10])\n",
    "        print(daily_measurement['main']['temp'])                                   #it gets tricky to parse through nested dictionaries\n",
    "        print()"
   ]
  },
  {
   "cell_type": "markdown",
   "metadata": {},
   "source": [
    "Here, I use some string formatting and a little more filtering to print some nice looking output. Here, I have found the time stamp of 12 noon for each day. Then within that I have taken the date from the date/time stamp. Then the temperature for each day. And finally put it all together in a string, printing the city, date, and temperature for that day."
   ]
  },
  {
   "cell_type": "code",
   "execution_count": 38,
   "metadata": {},
   "outputs": [
    {
     "name": "stdout",
     "output_type": "stream",
     "text": [
      "The temperature in Sao Paulo on 2019-10-03 will be 75.19 degrees\n",
      "The temperature in Sao Paulo on 2019-10-04 will be 74.07 degrees\n",
      "The temperature in Sao Paulo on 2019-10-05 will be 80.42 degrees\n",
      "The temperature in Sao Paulo on 2019-10-06 will be 72.17 degrees\n",
      "The temperature in Sao Paulo on 2019-10-07 will be 77.21 degrees\n"
     ]
    }
   ],
   "source": [
    "#A cleaner version of the above block\n",
    "for daily_measurement in json_data['list']:\n",
    "    time_stamp = daily_measurement['dt_txt'][11:20]\n",
    "    if time_stamp == '12:00:00':\n",
    "        day = daily_measurement['dt_txt'][:10]\n",
    "        temperature = daily_measurement['main']['temp']\n",
    "        print(f'The temperature in {city_name} on {day} will be {temperature} degrees')"
   ]
  },
  {
   "cell_type": "markdown",
   "metadata": {},
   "source": [
    "So as you see, this allows you to slice and dice the weather data in many ways. You can automate things, depending on weather conditions, link this to other applications, and so on. I encourange you to play with the script, change the city, look at the results, and so on. "
   ]
  },
  {
   "cell_type": "code",
   "execution_count": null,
   "metadata": {},
   "outputs": [],
   "source": []
  }
 ],
 "metadata": {
  "kernelspec": {
   "display_name": "Python 3",
   "language": "python",
   "name": "python3"
  },
  "language_info": {
   "codemirror_mode": {
    "name": "ipython",
    "version": 3
   },
   "file_extension": ".py",
   "mimetype": "text/x-python",
   "name": "python",
   "nbconvert_exporter": "python",
   "pygments_lexer": "ipython3",
   "version": "3.7.3"
  }
 },
 "nbformat": 4,
 "nbformat_minor": 2
}
