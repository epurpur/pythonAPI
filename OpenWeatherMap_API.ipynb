{
 "cells": [
  {
   "cell_type": "markdown",
   "metadata": {},
   "source": [
    "## OpenWeatherMap Python API\n",
    "\n",
    "In this notebook we will be working with [OpenWeatherMap](https://openweathermap.org/) python API.\n",
    "\n",
    "OpenWeatherMap is a weather forecasting site, among many others. And they have exposed their data via their API so that we can interact with it using python.\n",
    "\n",
    "## Get API Key\n",
    "\n",
    "The first thing we need to do is get an API key. To do that, go [here](https://openweathermap.org/api) and sign up. It should only take a few minutes to do.\n",
    "\n",
    "After that, scroll down and you see that OpenWeatherMap provides different subscription levels which provide different data. The free API key allows you access to today's weather and the 5 day forcast, among other things. This is what we will be working with today. \n",
    "\n",
    "OpenWeatherMap provides really nice documentation for how to submit requests using Python \n",
    "\n",
    "\n",
    "The first thing we need to do is install the 'requests' library. Requests is one of many libraries available that someone out there wrote and published for the world to use. We need to use a package manager called conda to install this. "
   ]
  },
  {
   "cell_type": "code",
   "execution_count": null,
   "metadata": {},
   "outputs": [],
   "source": [
    "!conda install requests"
   ]
  },
  {
   "cell_type": "markdown",
   "metadata": {},
   "source": [
    "Now let's import the libraries we will be using in this workshop. We don't need to install json because it is already installed with base python."
   ]
  },
  {
   "cell_type": "code",
   "execution_count": null,
   "metadata": {},
   "outputs": [],
   "source": [
    "import json\n",
    "import requests"
   ]
  },
  {
   "cell_type": "code",
   "execution_count": 35,
   "metadata": {},
   "outputs": [],
   "source": [
    "#Note: this is my API key and is only being used for example purposes. Please don't spam OpenWeatherMap using my API key.\n",
    "#sign up for your own API key here: https://home.openweathermap.org/users/sign_up\n",
    "app_id = '333de4e909a5ffe9bfa46f0f89cad105'                    \n",
    "\n",
    "#Each city in the world has a unique id number. There are over 1,000,000 so I have given you a few to start with.\n",
    "#You are welcome to look in the data dictionary for more.\n",
    "city_id_dict = {'Charlottesville': 4752046,                                     \n",
    "                'New York': 5128581,\n",
    "                'Chicago': 4887398,\n",
    "                'Paris': 6455259,\n",
    "                'Cape Town': 3369157,\n",
    "                'Beirut': 276781,\n",
    "                'Dubai': 292223,\n",
    "                'Shanghai': 1796236,\n",
    "                'Moscow': 524901,\n",
    "                'Addis Ababa': 344979,\n",
    "                'Bangkok': 1609350,\n",
    "                'Oslo': 6453366,\n",
    "                'Sao Paulo': 3448439,\n",
    "                'Bogota': 3688689,\n",
    "                'Havana': 3553478}\n"
   ]
  },
  {
   "cell_type": "markdown",
   "metadata": {},
   "source": [
    "The following is where I create my API request via a URL. As you can see, I create a variable called \"request\", in which I construct a URL address which will be submitted to OpenWeatherMap. I've already created a couple variables (app_id, city_name, and city_id_string) which I insert into my url request using f-string formatting. \n",
    "\n",
    "Below, we are making a request for today's weather. We will do a request for the 5 day forecast later."
   ]
  },
  {
   "cell_type": "code",
   "execution_count": 34,
   "metadata": {},
   "outputs": [],
   "source": [
    "city_name = 'Oslo'                                               #change the city name here\n",
    "city_id_string = str(city_id_dict[f'{city_name}'])                                         \n",
    "\n",
    "#Make a request to get today's weather. This is straight from the documentation.\n",
    "request = requests.get(f'http://api.openweathermap.org/data/2.5/group?APPID={app_id}&id={city_id_string}&units=imperial')               #this actually makes the request to the API via the URL with correct parameters\n"
   ]
  },
  {
   "cell_type": "markdown",
   "metadata": {},
   "source": [
    "I now take the request a load the response, which is JSON data. Let's take a look at the weather results below for your chosen city."
   ]
  },
  {
   "cell_type": "code",
   "execution_count": 42,
   "metadata": {
    "scrolled": true
   },
   "outputs": [
    {
     "name": "stdout",
     "output_type": "stream",
     "text": [
      "{'cnt': 1, 'list': [{'coord': {'lon': 10.73, 'lat': 59.91}, 'sys': {'country': 'NO', 'timezone': 3600, 'sunrise': 1579679588, 'sunset': 1579705408}, 'weather': [{'id': 800, 'main': 'Clear', 'description': 'clear sky', 'icon': '01n'}], 'main': {'temp': 28.85, 'feels_like': 22.75, 'temp_min': 27, 'temp_max': 30.2, 'pressure': 1028, 'humidity': 74}, 'visibility': 10000, 'wind': {'speed': 2.24}, 'clouds': {'all': 0}, 'dt': 1579727603, 'id': 6453366, 'name': 'Oslo'}]}\n"
     ]
    }
   ],
   "source": [
    "json_data = json.loads(request.text)                                                #json_data is now a dictionary object\n",
    "print(json_data)\n",
    "\n"
   ]
  },
  {
   "cell_type": "markdown",
   "metadata": {},
   "source": [
    "See above that the data returned is simply a dictionary and we can parse that just like we would any other dictionary object."
   ]
  },
  {
   "cell_type": "code",
   "execution_count": 37,
   "metadata": {},
   "outputs": [
    {
     "name": "stdout",
     "output_type": "stream",
     "text": [
      "cnt\n",
      "list\n"
     ]
    }
   ],
   "source": [
    "for keys, values in json_data.items():\n",
    "    print(keys)                                             #all the interesting data is contained in the 'list' key\n"
   ]
  },
  {
   "cell_type": "markdown",
   "metadata": {},
   "source": [
    "Inside the 'list' key is a list of data. Lists are ordered objects, so we can use indexing to look more closely at each item in the list."
   ]
  },
  {
   "cell_type": "code",
   "execution_count": 38,
   "metadata": {},
   "outputs": [
    {
     "name": "stdout",
     "output_type": "stream",
     "text": [
      "{'coord': {'lon': 10.73, 'lat': 59.91}, 'sys': {'country': 'NO', 'timezone': 3600, 'sunrise': 1579679588, 'sunset': 1579705408}, 'weather': [{'id': 800, 'main': 'Clear', 'description': 'clear sky', 'icon': '01n'}], 'main': {'temp': 28.85, 'feels_like': 22.75, 'temp_min': 27, 'temp_max': 30.2, 'pressure': 1028, 'humidity': 74}, 'visibility': 10000, 'wind': {'speed': 2.24}, 'clouds': {'all': 0}, 'dt': 1579727603, 'id': 6453366, 'name': 'Oslo'}\n"
     ]
    }
   ],
   "source": [
    "print(json_data['list'][0])                     #Looking at first object in list\n"
   ]
  },
  {
   "cell_type": "markdown",
   "metadata": {},
   "source": [
    "And again, inside that list object we have a dictionary (actually several, nested in eachother), which we can parse the same as before. The actual conditions themselves are in the 'main' key."
   ]
  },
  {
   "cell_type": "code",
   "execution_count": 39,
   "metadata": {},
   "outputs": [
    {
     "name": "stdout",
     "output_type": "stream",
     "text": [
      "{'temp': 28.85, 'feels_like': 22.75, 'temp_min': 27, 'temp_max': 30.2, 'pressure': 1028, 'humidity': 74}\n"
     ]
    }
   ],
   "source": [
    "print(json_data['list'][0]['main'])"
   ]
  },
  {
   "cell_type": "markdown",
   "metadata": {},
   "source": [
    "And one last time, within 'main' is another dictionary of keys and values"
   ]
  },
  {
   "cell_type": "code",
   "execution_count": 40,
   "metadata": {},
   "outputs": [
    {
     "name": "stdout",
     "output_type": "stream",
     "text": [
      "27\n"
     ]
    }
   ],
   "source": [
    "print(json_data['list'][0]['main']['temp_min'])"
   ]
  },
  {
   "cell_type": "markdown",
   "metadata": {},
   "source": [
    "Or if this gets confusing and unreadable, you can make a variable and store this more cleanly"
   ]
  },
  {
   "cell_type": "code",
   "execution_count": 41,
   "metadata": {},
   "outputs": [
    {
     "name": "stdout",
     "output_type": "stream",
     "text": [
      "27\n"
     ]
    }
   ],
   "source": [
    "min_temp = json_data['list'][0]['main']['temp_min']\n",
    "print(min_temp)"
   ]
  },
  {
   "cell_type": "markdown",
   "metadata": {},
   "source": [
    "Now lets make a request to get the 5 day forecast. This returns the forecast at 3 hour intervals for the next 5 days. Again, I took the 'request' straight from the documentation page for OpenWeatherMap"
   ]
  },
  {
   "cell_type": "code",
   "execution_count": 43,
   "metadata": {},
   "outputs": [
    {
     "name": "stdout",
     "output_type": "stream",
     "text": [
      "{'cod': '200', 'message': 0, 'cnt': 40, 'list': [{'dt': 1579737600, 'main': {'temp': 27.63, 'feels_like': 21.61, 'temp_min': 24.15, 'temp_max': 27.63, 'pressure': 1029, 'sea_level': 1029, 'grnd_level': 988, 'humidity': 81, 'temp_kf': 1.93}, 'weather': [{'id': 801, 'main': 'Clouds', 'description': 'few clouds', 'icon': '02n'}], 'clouds': {'all': 13}, 'wind': {'speed': 2.26, 'deg': 309}, 'sys': {'pod': 'n'}, 'dt_txt': '2020-01-23 00:00:00'}, {'dt': 1579748400, 'main': {'temp': 26.26, 'feels_like': 19.76, 'temp_min': 23.65, 'temp_max': 26.26, 'pressure': 1025, 'sea_level': 1025, 'grnd_level': 985, 'humidity': 80, 'temp_kf': 1.45}, 'weather': [{'id': 803, 'main': 'Clouds', 'description': 'broken clouds', 'icon': '04n'}], 'clouds': {'all': 66}, 'wind': {'speed': 2.82, 'deg': 302}, 'sys': {'pod': 'n'}, 'dt_txt': '2020-01-23 03:00:00'}, {'dt': 1579759200, 'main': {'temp': 27.32, 'feels_like': 21.22, 'temp_min': 25.59, 'temp_max': 27.32, 'pressure': 1021, 'sea_level': 1021, 'grnd_level': 982, 'humidity': 70, 'temp_kf': 0.96}, 'weather': [{'id': 803, 'main': 'Clouds', 'description': 'broken clouds', 'icon': '04n'}], 'clouds': {'all': 71}, 'wind': {'speed': 1.77, 'deg': 262}, 'sys': {'pod': 'n'}, 'dt_txt': '2020-01-23 06:00:00'}, {'dt': 1579770000, 'main': {'temp': 28.04, 'feels_like': 21.51, 'temp_min': 27.18, 'temp_max': 28.04, 'pressure': 1018, 'sea_level': 1018, 'grnd_level': 979, 'humidity': 63, 'temp_kf': 0.48}, 'weather': [{'id': 804, 'main': 'Clouds', 'description': 'overcast clouds', 'icon': '04d'}], 'clouds': {'all': 100}, 'wind': {'speed': 2.28, 'deg': 262}, 'sys': {'pod': 'd'}, 'dt_txt': '2020-01-23 09:00:00'}, {'dt': 1579780800, 'main': {'temp': 33.58, 'feels_like': 26.15, 'temp_min': 33.58, 'temp_max': 33.58, 'pressure': 1016, 'sea_level': 1016, 'grnd_level': 976, 'humidity': 70, 'temp_kf': 0}, 'weather': [{'id': 804, 'main': 'Clouds', 'description': 'overcast clouds', 'icon': '04d'}], 'clouds': {'all': 100}, 'wind': {'speed': 5.23, 'deg': 193}, 'sys': {'pod': 'd'}, 'dt_txt': '2020-01-23 12:00:00'}, {'dt': 1579791600, 'main': {'temp': 38.26, 'feels_like': 31.3, 'temp_min': 38.26, 'temp_max': 38.26, 'pressure': 1014, 'sea_level': 1014, 'grnd_level': 975, 'humidity': 82, 'temp_kf': 0}, 'weather': [{'id': 804, 'main': 'Clouds', 'description': 'overcast clouds', 'icon': '04d'}], 'clouds': {'all': 100}, 'wind': {'speed': 6.35, 'deg': 219}, 'sys': {'pod': 'd'}, 'dt_txt': '2020-01-23 15:00:00'}, {'dt': 1579802400, 'main': {'temp': 36.79, 'feels_like': 30, 'temp_min': 36.79, 'temp_max': 36.79, 'pressure': 1012, 'sea_level': 1012, 'grnd_level': 973, 'humidity': 84, 'temp_kf': 0}, 'weather': [{'id': 804, 'main': 'Clouds', 'description': 'overcast clouds', 'icon': '04n'}], 'clouds': {'all': 100}, 'wind': {'speed': 5.82, 'deg': 211}, 'sys': {'pod': 'n'}, 'dt_txt': '2020-01-23 18:00:00'}, {'dt': 1579813200, 'main': {'temp': 36.12, 'feels_like': 29.41, 'temp_min': 36.12, 'temp_max': 36.12, 'pressure': 1011, 'sea_level': 1011, 'grnd_level': 972, 'humidity': 87, 'temp_kf': 0}, 'weather': [{'id': 804, 'main': 'Clouds', 'description': 'overcast clouds', 'icon': '04n'}], 'clouds': {'all': 91}, 'wind': {'speed': 5.75, 'deg': 218}, 'sys': {'pod': 'n'}, 'dt_txt': '2020-01-23 21:00:00'}, {'dt': 1579824000, 'main': {'temp': 34.23, 'feels_like': 28.06, 'temp_min': 34.23, 'temp_max': 34.23, 'pressure': 1009, 'sea_level': 1009, 'grnd_level': 971, 'humidity': 90, 'temp_kf': 0}, 'weather': [{'id': 804, 'main': 'Clouds', 'description': 'overcast clouds', 'icon': '04n'}], 'clouds': {'all': 96}, 'wind': {'speed': 4.52, 'deg': 202}, 'sys': {'pod': 'n'}, 'dt_txt': '2020-01-24 00:00:00'}, {'dt': 1579834800, 'main': {'temp': 33.13, 'feels_like': 27.75, 'temp_min': 33.13, 'temp_max': 33.13, 'pressure': 1008, 'sea_level': 1008, 'grnd_level': 969, 'humidity': 91, 'temp_kf': 0}, 'weather': [{'id': 804, 'main': 'Clouds', 'description': 'overcast clouds', 'icon': '04n'}], 'clouds': {'all': 100}, 'wind': {'speed': 2.91, 'deg': 234}, 'sys': {'pod': 'n'}, 'dt_txt': '2020-01-24 03:00:00'}, {'dt': 1579845600, 'main': {'temp': 31.73, 'feels_like': 25.72, 'temp_min': 31.73, 'temp_max': 31.73, 'pressure': 1008, 'sea_level': 1008, 'grnd_level': 969, 'humidity': 86, 'temp_kf': 0}, 'weather': [{'id': 804, 'main': 'Clouds', 'description': 'overcast clouds', 'icon': '04n'}], 'clouds': {'all': 100}, 'wind': {'speed': 3.36, 'deg': 227}, 'sys': {'pod': 'n'}, 'dt_txt': '2020-01-24 06:00:00'}, {'dt': 1579856400, 'main': {'temp': 31.28, 'feels_like': 25.14, 'temp_min': 31.28, 'temp_max': 31.28, 'pressure': 1008, 'sea_level': 1008, 'grnd_level': 969, 'humidity': 79, 'temp_kf': 0}, 'weather': [{'id': 800, 'main': 'Clear', 'description': 'clear sky', 'icon': '01d'}], 'clouds': {'all': 4}, 'wind': {'speed': 3.04, 'deg': 207}, 'sys': {'pod': 'd'}, 'dt_txt': '2020-01-24 09:00:00'}, {'dt': 1579867200, 'main': {'temp': 35.29, 'feels_like': 27.63, 'temp_min': 35.29, 'temp_max': 35.29, 'pressure': 1007, 'sea_level': 1007, 'grnd_level': 969, 'humidity': 68, 'temp_kf': 0}, 'weather': [{'id': 802, 'main': 'Clouds', 'description': 'scattered clouds', 'icon': '03d'}], 'clouds': {'all': 28}, 'wind': {'speed': 5.84, 'deg': 201}, 'sys': {'pod': 'd'}, 'dt_txt': '2020-01-24 12:00:00'}, {'dt': 1579878000, 'main': {'temp': 31.03, 'feels_like': 23.72, 'temp_min': 31.03, 'temp_max': 31.03, 'pressure': 1007, 'sea_level': 1007, 'grnd_level': 968, 'humidity': 81, 'temp_kf': 0}, 'weather': [{'id': 802, 'main': 'Clouds', 'description': 'scattered clouds', 'icon': '03d'}], 'clouds': {'all': 41}, 'wind': {'speed': 5.21, 'deg': 201}, 'sys': {'pod': 'd'}, 'dt_txt': '2020-01-24 15:00:00'}, {'dt': 1579888800, 'main': {'temp': 30.36, 'feels_like': 23.58, 'temp_min': 30.36, 'temp_max': 30.36, 'pressure': 1007, 'sea_level': 1007, 'grnd_level': 969, 'humidity': 74, 'temp_kf': 0}, 'weather': [{'id': 802, 'main': 'Clouds', 'description': 'scattered clouds', 'icon': '03n'}], 'clouds': {'all': 36}, 'wind': {'speed': 3.74, 'deg': 209}, 'sys': {'pod': 'n'}, 'dt_txt': '2020-01-24 18:00:00'}, {'dt': 1579899600, 'main': {'temp': 30.81, 'feels_like': 23.07, 'temp_min': 30.81, 'temp_max': 30.81, 'pressure': 1008, 'sea_level': 1008, 'grnd_level': 969, 'humidity': 69, 'temp_kf': 0}, 'weather': [{'id': 804, 'main': 'Clouds', 'description': 'overcast clouds', 'icon': '04n'}], 'clouds': {'all': 99}, 'wind': {'speed': 5.19, 'deg': 220}, 'sys': {'pod': 'n'}, 'dt_txt': '2020-01-24 21:00:00'}, {'dt': 1579910400, 'main': {'temp': 29.71, 'feels_like': 23.04, 'temp_min': 29.71, 'temp_max': 29.71, 'pressure': 1009, 'sea_level': 1009, 'grnd_level': 970, 'humidity': 74, 'temp_kf': 0}, 'weather': [{'id': 804, 'main': 'Clouds', 'description': 'overcast clouds', 'icon': '04n'}], 'clouds': {'all': 99}, 'wind': {'speed': 3.4, 'deg': 253}, 'sys': {'pod': 'n'}, 'dt_txt': '2020-01-25 00:00:00'}, {'dt': 1579921200, 'main': {'temp': 29.71, 'feels_like': 22.86, 'temp_min': 29.71, 'temp_max': 29.71, 'pressure': 1008, 'sea_level': 1008, 'grnd_level': 969, 'humidity': 73, 'temp_kf': 0}, 'weather': [{'id': 804, 'main': 'Clouds', 'description': 'overcast clouds', 'icon': '04n'}], 'clouds': {'all': 100}, 'wind': {'speed': 3.67, 'deg': 239}, 'sys': {'pod': 'n'}, 'dt_txt': '2020-01-25 03:00:00'}, {'dt': 1579932000, 'main': {'temp': 29.57, 'feels_like': 22.82, 'temp_min': 29.57, 'temp_max': 29.57, 'pressure': 1010, 'sea_level': 1010, 'grnd_level': 970, 'humidity': 76, 'temp_kf': 0}, 'weather': [{'id': 804, 'main': 'Clouds', 'description': 'overcast clouds', 'icon': '04n'}], 'clouds': {'all': 100}, 'wind': {'speed': 3.65, 'deg': 264}, 'sys': {'pod': 'n'}, 'dt_txt': '2020-01-25 06:00:00'}, {'dt': 1579942800, 'main': {'temp': 29.08, 'feels_like': 22.6, 'temp_min': 29.08, 'temp_max': 29.08, 'pressure': 1011, 'sea_level': 1011, 'grnd_level': 971, 'humidity': 77, 'temp_kf': 0}, 'weather': [{'id': 804, 'main': 'Clouds', 'description': 'overcast clouds', 'icon': '04d'}], 'clouds': {'all': 100}, 'wind': {'speed': 3.11, 'deg': 292}, 'sys': {'pod': 'd'}, 'dt_txt': '2020-01-25 09:00:00'}, {'dt': 1579953600, 'main': {'temp': 31.3, 'feels_like': 25.65, 'temp_min': 31.3, 'temp_max': 31.3, 'pressure': 1010, 'sea_level': 1010, 'grnd_level': 971, 'humidity': 73, 'temp_kf': 0}, 'weather': [{'id': 804, 'main': 'Clouds', 'description': 'overcast clouds', 'icon': '04d'}], 'clouds': {'all': 100}, 'wind': {'speed': 1.81, 'deg': 249}, 'sys': {'pod': 'd'}, 'dt_txt': '2020-01-25 12:00:00'}, {'dt': 1579964400, 'main': {'temp': 31.14, 'feels_like': 25.95, 'temp_min': 31.14, 'temp_max': 31.14, 'pressure': 1009, 'sea_level': 1009, 'grnd_level': 970, 'humidity': 76, 'temp_kf': 0}, 'weather': [{'id': 804, 'main': 'Clouds', 'description': 'overcast clouds', 'icon': '04d'}], 'clouds': {'all': 100}, 'wind': {'speed': 1.14, 'deg': 273}, 'sys': {'pod': 'd'}, 'dt_txt': '2020-01-25 15:00:00'}, {'dt': 1579975200, 'main': {'temp': 31.26, 'feels_like': 25.84, 'temp_min': 31.26, 'temp_max': 31.26, 'pressure': 1009, 'sea_level': 1009, 'grnd_level': 969, 'humidity': 78, 'temp_kf': 0}, 'weather': [{'id': 804, 'main': 'Clouds', 'description': 'overcast clouds', 'icon': '04n'}], 'clouds': {'all': 100}, 'wind': {'speed': 1.72, 'deg': 208}, 'sys': {'pod': 'n'}, 'dt_txt': '2020-01-25 18:00:00'}, {'dt': 1579986000, 'main': {'temp': 31.8, 'feels_like': 26.33, 'temp_min': 31.8, 'temp_max': 31.8, 'pressure': 1009, 'sea_level': 1009, 'grnd_level': 969, 'humidity': 82, 'temp_kf': 0}, 'weather': [{'id': 804, 'main': 'Clouds', 'description': 'overcast clouds', 'icon': '04n'}], 'clouds': {'all': 100}, 'wind': {'speed': 2.17, 'deg': 215}, 'sys': {'pod': 'n'}, 'dt_txt': '2020-01-25 21:00:00'}, {'dt': 1579996800, 'main': {'temp': 31.1, 'feels_like': 25.86, 'temp_min': 31.1, 'temp_max': 31.1, 'pressure': 1008, 'sea_level': 1008, 'grnd_level': 969, 'humidity': 91, 'temp_kf': 0}, 'weather': [{'id': 804, 'main': 'Clouds', 'description': 'overcast clouds', 'icon': '04n'}], 'clouds': {'all': 100}, 'wind': {'speed': 2.17, 'deg': 219}, 'sys': {'pod': 'n'}, 'dt_txt': '2020-01-26 00:00:00'}, {'dt': 1580007600, 'main': {'temp': 30.38, 'feels_like': 25.48, 'temp_min': 30.38, 'temp_max': 30.38, 'pressure': 1007, 'sea_level': 1007, 'grnd_level': 968, 'humidity': 96, 'temp_kf': 0}, 'weather': [{'id': 804, 'main': 'Clouds', 'description': 'overcast clouds', 'icon': '04n'}], 'clouds': {'all': 100}, 'wind': {'speed': 1.7, 'deg': 208}, 'sys': {'pod': 'n'}, 'dt_txt': '2020-01-26 03:00:00'}, {'dt': 1580018400, 'main': {'temp': 30.24, 'feels_like': 24.82, 'temp_min': 30.24, 'temp_max': 30.24, 'pressure': 1007, 'sea_level': 1007, 'grnd_level': 968, 'humidity': 97, 'temp_kf': 0}, 'weather': [{'id': 804, 'main': 'Clouds', 'description': 'overcast clouds', 'icon': '04n'}], 'clouds': {'all': 100}, 'wind': {'speed': 2.64, 'deg': 186}, 'sys': {'pod': 'n'}, 'dt_txt': '2020-01-26 06:00:00'}, {'dt': 1580029200, 'main': {'temp': 32.79, 'feels_like': 25.99, 'temp_min': 32.79, 'temp_max': 32.79, 'pressure': 1007, 'sea_level': 1007, 'grnd_level': 968, 'humidity': 97, 'temp_kf': 0}, 'weather': [{'id': 804, 'main': 'Clouds', 'description': 'overcast clouds', 'icon': '04d'}], 'clouds': {'all': 100}, 'wind': {'speed': 5.75, 'deg': 178}, 'sys': {'pod': 'd'}, 'dt_txt': '2020-01-26 09:00:00'}, {'dt': 1580040000, 'main': {'temp': 37.17, 'feels_like': 29.23, 'temp_min': 37.17, 'temp_max': 37.17, 'pressure': 1006, 'sea_level': 1006, 'grnd_level': 968, 'humidity': 95, 'temp_kf': 0}, 'weather': [{'id': 804, 'main': 'Clouds', 'description': 'overcast clouds', 'icon': '04d'}], 'clouds': {'all': 100}, 'wind': {'speed': 8.81, 'deg': 190}, 'sys': {'pod': 'd'}, 'dt_txt': '2020-01-26 12:00:00'}, {'dt': 1580050800, 'main': {'temp': 37.04, 'feels_like': 28.69, 'temp_min': 37.04, 'temp_max': 37.04, 'pressure': 1005, 'sea_level': 1005, 'grnd_level': 966, 'humidity': 97, 'temp_kf': 0}, 'weather': [{'id': 804, 'main': 'Clouds', 'description': 'overcast clouds', 'icon': '04d'}], 'clouds': {'all': 100}, 'wind': {'speed': 9.69, 'deg': 178}, 'sys': {'pod': 'd'}, 'dt_txt': '2020-01-26 15:00:00'}, {'dt': 1580061600, 'main': {'temp': 37.6, 'feels_like': 28.33, 'temp_min': 37.6, 'temp_max': 37.6, 'pressure': 1003, 'sea_level': 1003, 'grnd_level': 964, 'humidity': 96, 'temp_kf': 0}, 'weather': [{'id': 500, 'main': 'Rain', 'description': 'light rain', 'icon': '10n'}], 'clouds': {'all': 100}, 'wind': {'speed': 11.39, 'deg': 173}, 'rain': {'3h': 0.13}, 'sys': {'pod': 'n'}, 'dt_txt': '2020-01-26 18:00:00'}, {'dt': 1580072400, 'main': {'temp': 38.08, 'feels_like': 28.49, 'temp_min': 38.08, 'temp_max': 38.08, 'pressure': 1000, 'sea_level': 1000, 'grnd_level': 962, 'humidity': 96, 'temp_kf': 0}, 'weather': [{'id': 500, 'main': 'Rain', 'description': 'light rain', 'icon': '10n'}], 'clouds': {'all': 100}, 'wind': {'speed': 12.12, 'deg': 175}, 'rain': {'3h': 0.81}, 'sys': {'pod': 'n'}, 'dt_txt': '2020-01-26 21:00:00'}, {'dt': 1580083200, 'main': {'temp': 38.14, 'feels_like': 28.13, 'temp_min': 38.14, 'temp_max': 38.14, 'pressure': 996, 'sea_level': 996, 'grnd_level': 959, 'humidity': 96, 'temp_kf': 0}, 'weather': [{'id': 500, 'main': 'Rain', 'description': 'light rain', 'icon': '10n'}], 'clouds': {'all': 100}, 'wind': {'speed': 12.88, 'deg': 173}, 'rain': {'3h': 0.75}, 'sys': {'pod': 'n'}, 'dt_txt': '2020-01-27 00:00:00'}, {'dt': 1580094000, 'main': {'temp': 37.4, 'feels_like': 27.37, 'temp_min': 37.4, 'temp_max': 37.4, 'pressure': 994, 'sea_level': 994, 'grnd_level': 956, 'humidity': 88, 'temp_kf': 0}, 'weather': [{'id': 500, 'main': 'Rain', 'description': 'light rain', 'icon': '10n'}], 'clouds': {'all': 100}, 'wind': {'speed': 12.03, 'deg': 202}, 'rain': {'3h': 1}, 'sys': {'pod': 'n'}, 'dt_txt': '2020-01-27 03:00:00'}, {'dt': 1580104800, 'main': {'temp': 33.55, 'feels_like': 23.58, 'temp_min': 33.55, 'temp_max': 33.55, 'pressure': 996, 'sea_level': 996, 'grnd_level': 957, 'humidity': 74, 'temp_kf': 0}, 'weather': [{'id': 804, 'main': 'Clouds', 'description': 'overcast clouds', 'icon': '04n'}], 'clouds': {'all': 87}, 'wind': {'speed': 9.98, 'deg': 225}, 'sys': {'pod': 'n'}, 'dt_txt': '2020-01-27 06:00:00'}, {'dt': 1580115600, 'main': {'temp': 32.07, 'feels_like': 23.95, 'temp_min': 32.07, 'temp_max': 32.07, 'pressure': 998, 'sea_level': 998, 'grnd_level': 959, 'humidity': 73, 'temp_kf': 0}, 'weather': [{'id': 804, 'main': 'Clouds', 'description': 'overcast clouds', 'icon': '04d'}], 'clouds': {'all': 88}, 'wind': {'speed': 6.33, 'deg': 217}, 'sys': {'pod': 'd'}, 'dt_txt': '2020-01-27 09:00:00'}, {'dt': 1580126400, 'main': {'temp': 34.84, 'feels_like': 26.31, 'temp_min': 34.84, 'temp_max': 34.84, 'pressure': 999, 'sea_level': 999, 'grnd_level': 961, 'humidity': 65, 'temp_kf': 0}, 'weather': [{'id': 803, 'main': 'Clouds', 'description': 'broken clouds', 'icon': '04d'}], 'clouds': {'all': 75}, 'wind': {'speed': 7.07, 'deg': 214}, 'sys': {'pod': 'd'}, 'dt_txt': '2020-01-27 12:00:00'}, {'dt': 1580137200, 'main': {'temp': 32.13, 'feels_like': 24.49, 'temp_min': 32.13, 'temp_max': 32.13, 'pressure': 1001, 'sea_level': 1001, 'grnd_level': 961, 'humidity': 72, 'temp_kf': 0}, 'weather': [{'id': 802, 'main': 'Clouds', 'description': 'scattered clouds', 'icon': '03d'}], 'clouds': {'all': 33}, 'wind': {'speed': 5.41, 'deg': 214}, 'sys': {'pod': 'd'}, 'dt_txt': '2020-01-27 15:00:00'}, {'dt': 1580148000, 'main': {'temp': 31.05, 'feels_like': 22.78, 'temp_min': 31.05, 'temp_max': 31.05, 'pressure': 1000, 'sea_level': 1000, 'grnd_level': 961, 'humidity': 81, 'temp_kf': 0}, 'weather': [{'id': 803, 'main': 'Clouds', 'description': 'broken clouds', 'icon': '04n'}], 'clouds': {'all': 67}, 'wind': {'speed': 6.89, 'deg': 176}, 'sys': {'pod': 'n'}, 'dt_txt': '2020-01-27 18:00:00'}, {'dt': 1580158800, 'main': {'temp': 33.87, 'feels_like': 24.1, 'temp_min': 33.87, 'temp_max': 33.87, 'pressure': 996, 'sea_level': 996, 'grnd_level': 957, 'humidity': 97, 'temp_kf': 0}, 'weather': [{'id': 600, 'main': 'Snow', 'description': 'light snow', 'icon': '13n'}], 'clouds': {'all': 100}, 'wind': {'speed': 11.3, 'deg': 164}, 'snow': {'3h': 0.19}, 'sys': {'pod': 'n'}, 'dt_txt': '2020-01-27 21:00:00'}], 'city': {'id': 6453366, 'name': 'Oslo', 'coord': {'lat': 59.9118, 'lon': 10.7337}, 'country': 'NO', 'timezone': 3600, 'sunrise': 1579679588, 'sunset': 1579705407}}\n"
     ]
    }
   ],
   "source": [
    "#make request for 5 day forecast\n",
    "request = requests.get(f'http://api.openweathermap.org/data/2.5/forecast?id={city_id_string}&APPID=333de4e909a5ffe9bfa46f0f89cad105&units=imperial&')\n",
    "json_data = json.loads(request.text)\n",
    "\n",
    "print(json_data)            #note how messy and hard to read this is. Yet, it is a dictionary\n"
   ]
  },
  {
   "cell_type": "markdown",
   "metadata": {},
   "source": [
    "This is messy, so let's separate each 3 hour forecast with a blank line. \n",
    "\n",
    "There is still a lot of data. How much exactly?  24 hours / 3 hours = 8. 5 days x 8 predictions per day = 40 predictions total."
   ]
  },
  {
   "cell_type": "code",
   "execution_count": 44,
   "metadata": {},
   "outputs": [
    {
     "name": "stdout",
     "output_type": "stream",
     "text": [
      "{'dt': 1579737600, 'main': {'temp': 27.63, 'feels_like': 21.61, 'temp_min': 24.15, 'temp_max': 27.63, 'pressure': 1029, 'sea_level': 1029, 'grnd_level': 988, 'humidity': 81, 'temp_kf': 1.93}, 'weather': [{'id': 801, 'main': 'Clouds', 'description': 'few clouds', 'icon': '02n'}], 'clouds': {'all': 13}, 'wind': {'speed': 2.26, 'deg': 309}, 'sys': {'pod': 'n'}, 'dt_txt': '2020-01-23 00:00:00'}\n",
      "\n",
      "{'dt': 1579748400, 'main': {'temp': 26.26, 'feels_like': 19.76, 'temp_min': 23.65, 'temp_max': 26.26, 'pressure': 1025, 'sea_level': 1025, 'grnd_level': 985, 'humidity': 80, 'temp_kf': 1.45}, 'weather': [{'id': 803, 'main': 'Clouds', 'description': 'broken clouds', 'icon': '04n'}], 'clouds': {'all': 66}, 'wind': {'speed': 2.82, 'deg': 302}, 'sys': {'pod': 'n'}, 'dt_txt': '2020-01-23 03:00:00'}\n",
      "\n",
      "{'dt': 1579759200, 'main': {'temp': 27.32, 'feels_like': 21.22, 'temp_min': 25.59, 'temp_max': 27.32, 'pressure': 1021, 'sea_level': 1021, 'grnd_level': 982, 'humidity': 70, 'temp_kf': 0.96}, 'weather': [{'id': 803, 'main': 'Clouds', 'description': 'broken clouds', 'icon': '04n'}], 'clouds': {'all': 71}, 'wind': {'speed': 1.77, 'deg': 262}, 'sys': {'pod': 'n'}, 'dt_txt': '2020-01-23 06:00:00'}\n",
      "\n",
      "{'dt': 1579770000, 'main': {'temp': 28.04, 'feels_like': 21.51, 'temp_min': 27.18, 'temp_max': 28.04, 'pressure': 1018, 'sea_level': 1018, 'grnd_level': 979, 'humidity': 63, 'temp_kf': 0.48}, 'weather': [{'id': 804, 'main': 'Clouds', 'description': 'overcast clouds', 'icon': '04d'}], 'clouds': {'all': 100}, 'wind': {'speed': 2.28, 'deg': 262}, 'sys': {'pod': 'd'}, 'dt_txt': '2020-01-23 09:00:00'}\n",
      "\n",
      "{'dt': 1579780800, 'main': {'temp': 33.58, 'feels_like': 26.15, 'temp_min': 33.58, 'temp_max': 33.58, 'pressure': 1016, 'sea_level': 1016, 'grnd_level': 976, 'humidity': 70, 'temp_kf': 0}, 'weather': [{'id': 804, 'main': 'Clouds', 'description': 'overcast clouds', 'icon': '04d'}], 'clouds': {'all': 100}, 'wind': {'speed': 5.23, 'deg': 193}, 'sys': {'pod': 'd'}, 'dt_txt': '2020-01-23 12:00:00'}\n",
      "\n",
      "{'dt': 1579791600, 'main': {'temp': 38.26, 'feels_like': 31.3, 'temp_min': 38.26, 'temp_max': 38.26, 'pressure': 1014, 'sea_level': 1014, 'grnd_level': 975, 'humidity': 82, 'temp_kf': 0}, 'weather': [{'id': 804, 'main': 'Clouds', 'description': 'overcast clouds', 'icon': '04d'}], 'clouds': {'all': 100}, 'wind': {'speed': 6.35, 'deg': 219}, 'sys': {'pod': 'd'}, 'dt_txt': '2020-01-23 15:00:00'}\n",
      "\n",
      "{'dt': 1579802400, 'main': {'temp': 36.79, 'feels_like': 30, 'temp_min': 36.79, 'temp_max': 36.79, 'pressure': 1012, 'sea_level': 1012, 'grnd_level': 973, 'humidity': 84, 'temp_kf': 0}, 'weather': [{'id': 804, 'main': 'Clouds', 'description': 'overcast clouds', 'icon': '04n'}], 'clouds': {'all': 100}, 'wind': {'speed': 5.82, 'deg': 211}, 'sys': {'pod': 'n'}, 'dt_txt': '2020-01-23 18:00:00'}\n",
      "\n",
      "{'dt': 1579813200, 'main': {'temp': 36.12, 'feels_like': 29.41, 'temp_min': 36.12, 'temp_max': 36.12, 'pressure': 1011, 'sea_level': 1011, 'grnd_level': 972, 'humidity': 87, 'temp_kf': 0}, 'weather': [{'id': 804, 'main': 'Clouds', 'description': 'overcast clouds', 'icon': '04n'}], 'clouds': {'all': 91}, 'wind': {'speed': 5.75, 'deg': 218}, 'sys': {'pod': 'n'}, 'dt_txt': '2020-01-23 21:00:00'}\n",
      "\n",
      "{'dt': 1579824000, 'main': {'temp': 34.23, 'feels_like': 28.06, 'temp_min': 34.23, 'temp_max': 34.23, 'pressure': 1009, 'sea_level': 1009, 'grnd_level': 971, 'humidity': 90, 'temp_kf': 0}, 'weather': [{'id': 804, 'main': 'Clouds', 'description': 'overcast clouds', 'icon': '04n'}], 'clouds': {'all': 96}, 'wind': {'speed': 4.52, 'deg': 202}, 'sys': {'pod': 'n'}, 'dt_txt': '2020-01-24 00:00:00'}\n",
      "\n",
      "{'dt': 1579834800, 'main': {'temp': 33.13, 'feels_like': 27.75, 'temp_min': 33.13, 'temp_max': 33.13, 'pressure': 1008, 'sea_level': 1008, 'grnd_level': 969, 'humidity': 91, 'temp_kf': 0}, 'weather': [{'id': 804, 'main': 'Clouds', 'description': 'overcast clouds', 'icon': '04n'}], 'clouds': {'all': 100}, 'wind': {'speed': 2.91, 'deg': 234}, 'sys': {'pod': 'n'}, 'dt_txt': '2020-01-24 03:00:00'}\n",
      "\n",
      "{'dt': 1579845600, 'main': {'temp': 31.73, 'feels_like': 25.72, 'temp_min': 31.73, 'temp_max': 31.73, 'pressure': 1008, 'sea_level': 1008, 'grnd_level': 969, 'humidity': 86, 'temp_kf': 0}, 'weather': [{'id': 804, 'main': 'Clouds', 'description': 'overcast clouds', 'icon': '04n'}], 'clouds': {'all': 100}, 'wind': {'speed': 3.36, 'deg': 227}, 'sys': {'pod': 'n'}, 'dt_txt': '2020-01-24 06:00:00'}\n",
      "\n",
      "{'dt': 1579856400, 'main': {'temp': 31.28, 'feels_like': 25.14, 'temp_min': 31.28, 'temp_max': 31.28, 'pressure': 1008, 'sea_level': 1008, 'grnd_level': 969, 'humidity': 79, 'temp_kf': 0}, 'weather': [{'id': 800, 'main': 'Clear', 'description': 'clear sky', 'icon': '01d'}], 'clouds': {'all': 4}, 'wind': {'speed': 3.04, 'deg': 207}, 'sys': {'pod': 'd'}, 'dt_txt': '2020-01-24 09:00:00'}\n",
      "\n",
      "{'dt': 1579867200, 'main': {'temp': 35.29, 'feels_like': 27.63, 'temp_min': 35.29, 'temp_max': 35.29, 'pressure': 1007, 'sea_level': 1007, 'grnd_level': 969, 'humidity': 68, 'temp_kf': 0}, 'weather': [{'id': 802, 'main': 'Clouds', 'description': 'scattered clouds', 'icon': '03d'}], 'clouds': {'all': 28}, 'wind': {'speed': 5.84, 'deg': 201}, 'sys': {'pod': 'd'}, 'dt_txt': '2020-01-24 12:00:00'}\n",
      "\n",
      "{'dt': 1579878000, 'main': {'temp': 31.03, 'feels_like': 23.72, 'temp_min': 31.03, 'temp_max': 31.03, 'pressure': 1007, 'sea_level': 1007, 'grnd_level': 968, 'humidity': 81, 'temp_kf': 0}, 'weather': [{'id': 802, 'main': 'Clouds', 'description': 'scattered clouds', 'icon': '03d'}], 'clouds': {'all': 41}, 'wind': {'speed': 5.21, 'deg': 201}, 'sys': {'pod': 'd'}, 'dt_txt': '2020-01-24 15:00:00'}\n",
      "\n",
      "{'dt': 1579888800, 'main': {'temp': 30.36, 'feels_like': 23.58, 'temp_min': 30.36, 'temp_max': 30.36, 'pressure': 1007, 'sea_level': 1007, 'grnd_level': 969, 'humidity': 74, 'temp_kf': 0}, 'weather': [{'id': 802, 'main': 'Clouds', 'description': 'scattered clouds', 'icon': '03n'}], 'clouds': {'all': 36}, 'wind': {'speed': 3.74, 'deg': 209}, 'sys': {'pod': 'n'}, 'dt_txt': '2020-01-24 18:00:00'}\n",
      "\n",
      "{'dt': 1579899600, 'main': {'temp': 30.81, 'feels_like': 23.07, 'temp_min': 30.81, 'temp_max': 30.81, 'pressure': 1008, 'sea_level': 1008, 'grnd_level': 969, 'humidity': 69, 'temp_kf': 0}, 'weather': [{'id': 804, 'main': 'Clouds', 'description': 'overcast clouds', 'icon': '04n'}], 'clouds': {'all': 99}, 'wind': {'speed': 5.19, 'deg': 220}, 'sys': {'pod': 'n'}, 'dt_txt': '2020-01-24 21:00:00'}\n",
      "\n",
      "{'dt': 1579910400, 'main': {'temp': 29.71, 'feels_like': 23.04, 'temp_min': 29.71, 'temp_max': 29.71, 'pressure': 1009, 'sea_level': 1009, 'grnd_level': 970, 'humidity': 74, 'temp_kf': 0}, 'weather': [{'id': 804, 'main': 'Clouds', 'description': 'overcast clouds', 'icon': '04n'}], 'clouds': {'all': 99}, 'wind': {'speed': 3.4, 'deg': 253}, 'sys': {'pod': 'n'}, 'dt_txt': '2020-01-25 00:00:00'}\n",
      "\n",
      "{'dt': 1579921200, 'main': {'temp': 29.71, 'feels_like': 22.86, 'temp_min': 29.71, 'temp_max': 29.71, 'pressure': 1008, 'sea_level': 1008, 'grnd_level': 969, 'humidity': 73, 'temp_kf': 0}, 'weather': [{'id': 804, 'main': 'Clouds', 'description': 'overcast clouds', 'icon': '04n'}], 'clouds': {'all': 100}, 'wind': {'speed': 3.67, 'deg': 239}, 'sys': {'pod': 'n'}, 'dt_txt': '2020-01-25 03:00:00'}\n",
      "\n",
      "{'dt': 1579932000, 'main': {'temp': 29.57, 'feels_like': 22.82, 'temp_min': 29.57, 'temp_max': 29.57, 'pressure': 1010, 'sea_level': 1010, 'grnd_level': 970, 'humidity': 76, 'temp_kf': 0}, 'weather': [{'id': 804, 'main': 'Clouds', 'description': 'overcast clouds', 'icon': '04n'}], 'clouds': {'all': 100}, 'wind': {'speed': 3.65, 'deg': 264}, 'sys': {'pod': 'n'}, 'dt_txt': '2020-01-25 06:00:00'}\n",
      "\n",
      "{'dt': 1579942800, 'main': {'temp': 29.08, 'feels_like': 22.6, 'temp_min': 29.08, 'temp_max': 29.08, 'pressure': 1011, 'sea_level': 1011, 'grnd_level': 971, 'humidity': 77, 'temp_kf': 0}, 'weather': [{'id': 804, 'main': 'Clouds', 'description': 'overcast clouds', 'icon': '04d'}], 'clouds': {'all': 100}, 'wind': {'speed': 3.11, 'deg': 292}, 'sys': {'pod': 'd'}, 'dt_txt': '2020-01-25 09:00:00'}\n",
      "\n",
      "{'dt': 1579953600, 'main': {'temp': 31.3, 'feels_like': 25.65, 'temp_min': 31.3, 'temp_max': 31.3, 'pressure': 1010, 'sea_level': 1010, 'grnd_level': 971, 'humidity': 73, 'temp_kf': 0}, 'weather': [{'id': 804, 'main': 'Clouds', 'description': 'overcast clouds', 'icon': '04d'}], 'clouds': {'all': 100}, 'wind': {'speed': 1.81, 'deg': 249}, 'sys': {'pod': 'd'}, 'dt_txt': '2020-01-25 12:00:00'}\n",
      "\n",
      "{'dt': 1579964400, 'main': {'temp': 31.14, 'feels_like': 25.95, 'temp_min': 31.14, 'temp_max': 31.14, 'pressure': 1009, 'sea_level': 1009, 'grnd_level': 970, 'humidity': 76, 'temp_kf': 0}, 'weather': [{'id': 804, 'main': 'Clouds', 'description': 'overcast clouds', 'icon': '04d'}], 'clouds': {'all': 100}, 'wind': {'speed': 1.14, 'deg': 273}, 'sys': {'pod': 'd'}, 'dt_txt': '2020-01-25 15:00:00'}\n",
      "\n",
      "{'dt': 1579975200, 'main': {'temp': 31.26, 'feels_like': 25.84, 'temp_min': 31.26, 'temp_max': 31.26, 'pressure': 1009, 'sea_level': 1009, 'grnd_level': 969, 'humidity': 78, 'temp_kf': 0}, 'weather': [{'id': 804, 'main': 'Clouds', 'description': 'overcast clouds', 'icon': '04n'}], 'clouds': {'all': 100}, 'wind': {'speed': 1.72, 'deg': 208}, 'sys': {'pod': 'n'}, 'dt_txt': '2020-01-25 18:00:00'}\n",
      "\n",
      "{'dt': 1579986000, 'main': {'temp': 31.8, 'feels_like': 26.33, 'temp_min': 31.8, 'temp_max': 31.8, 'pressure': 1009, 'sea_level': 1009, 'grnd_level': 969, 'humidity': 82, 'temp_kf': 0}, 'weather': [{'id': 804, 'main': 'Clouds', 'description': 'overcast clouds', 'icon': '04n'}], 'clouds': {'all': 100}, 'wind': {'speed': 2.17, 'deg': 215}, 'sys': {'pod': 'n'}, 'dt_txt': '2020-01-25 21:00:00'}\n",
      "\n",
      "{'dt': 1579996800, 'main': {'temp': 31.1, 'feels_like': 25.86, 'temp_min': 31.1, 'temp_max': 31.1, 'pressure': 1008, 'sea_level': 1008, 'grnd_level': 969, 'humidity': 91, 'temp_kf': 0}, 'weather': [{'id': 804, 'main': 'Clouds', 'description': 'overcast clouds', 'icon': '04n'}], 'clouds': {'all': 100}, 'wind': {'speed': 2.17, 'deg': 219}, 'sys': {'pod': 'n'}, 'dt_txt': '2020-01-26 00:00:00'}\n",
      "\n",
      "{'dt': 1580007600, 'main': {'temp': 30.38, 'feels_like': 25.48, 'temp_min': 30.38, 'temp_max': 30.38, 'pressure': 1007, 'sea_level': 1007, 'grnd_level': 968, 'humidity': 96, 'temp_kf': 0}, 'weather': [{'id': 804, 'main': 'Clouds', 'description': 'overcast clouds', 'icon': '04n'}], 'clouds': {'all': 100}, 'wind': {'speed': 1.7, 'deg': 208}, 'sys': {'pod': 'n'}, 'dt_txt': '2020-01-26 03:00:00'}\n",
      "\n",
      "{'dt': 1580018400, 'main': {'temp': 30.24, 'feels_like': 24.82, 'temp_min': 30.24, 'temp_max': 30.24, 'pressure': 1007, 'sea_level': 1007, 'grnd_level': 968, 'humidity': 97, 'temp_kf': 0}, 'weather': [{'id': 804, 'main': 'Clouds', 'description': 'overcast clouds', 'icon': '04n'}], 'clouds': {'all': 100}, 'wind': {'speed': 2.64, 'deg': 186}, 'sys': {'pod': 'n'}, 'dt_txt': '2020-01-26 06:00:00'}\n",
      "\n",
      "{'dt': 1580029200, 'main': {'temp': 32.79, 'feels_like': 25.99, 'temp_min': 32.79, 'temp_max': 32.79, 'pressure': 1007, 'sea_level': 1007, 'grnd_level': 968, 'humidity': 97, 'temp_kf': 0}, 'weather': [{'id': 804, 'main': 'Clouds', 'description': 'overcast clouds', 'icon': '04d'}], 'clouds': {'all': 100}, 'wind': {'speed': 5.75, 'deg': 178}, 'sys': {'pod': 'd'}, 'dt_txt': '2020-01-26 09:00:00'}\n",
      "\n",
      "{'dt': 1580040000, 'main': {'temp': 37.17, 'feels_like': 29.23, 'temp_min': 37.17, 'temp_max': 37.17, 'pressure': 1006, 'sea_level': 1006, 'grnd_level': 968, 'humidity': 95, 'temp_kf': 0}, 'weather': [{'id': 804, 'main': 'Clouds', 'description': 'overcast clouds', 'icon': '04d'}], 'clouds': {'all': 100}, 'wind': {'speed': 8.81, 'deg': 190}, 'sys': {'pod': 'd'}, 'dt_txt': '2020-01-26 12:00:00'}\n",
      "\n",
      "{'dt': 1580050800, 'main': {'temp': 37.04, 'feels_like': 28.69, 'temp_min': 37.04, 'temp_max': 37.04, 'pressure': 1005, 'sea_level': 1005, 'grnd_level': 966, 'humidity': 97, 'temp_kf': 0}, 'weather': [{'id': 804, 'main': 'Clouds', 'description': 'overcast clouds', 'icon': '04d'}], 'clouds': {'all': 100}, 'wind': {'speed': 9.69, 'deg': 178}, 'sys': {'pod': 'd'}, 'dt_txt': '2020-01-26 15:00:00'}\n",
      "\n",
      "{'dt': 1580061600, 'main': {'temp': 37.6, 'feels_like': 28.33, 'temp_min': 37.6, 'temp_max': 37.6, 'pressure': 1003, 'sea_level': 1003, 'grnd_level': 964, 'humidity': 96, 'temp_kf': 0}, 'weather': [{'id': 500, 'main': 'Rain', 'description': 'light rain', 'icon': '10n'}], 'clouds': {'all': 100}, 'wind': {'speed': 11.39, 'deg': 173}, 'rain': {'3h': 0.13}, 'sys': {'pod': 'n'}, 'dt_txt': '2020-01-26 18:00:00'}\n",
      "\n",
      "{'dt': 1580072400, 'main': {'temp': 38.08, 'feels_like': 28.49, 'temp_min': 38.08, 'temp_max': 38.08, 'pressure': 1000, 'sea_level': 1000, 'grnd_level': 962, 'humidity': 96, 'temp_kf': 0}, 'weather': [{'id': 500, 'main': 'Rain', 'description': 'light rain', 'icon': '10n'}], 'clouds': {'all': 100}, 'wind': {'speed': 12.12, 'deg': 175}, 'rain': {'3h': 0.81}, 'sys': {'pod': 'n'}, 'dt_txt': '2020-01-26 21:00:00'}\n",
      "\n",
      "{'dt': 1580083200, 'main': {'temp': 38.14, 'feels_like': 28.13, 'temp_min': 38.14, 'temp_max': 38.14, 'pressure': 996, 'sea_level': 996, 'grnd_level': 959, 'humidity': 96, 'temp_kf': 0}, 'weather': [{'id': 500, 'main': 'Rain', 'description': 'light rain', 'icon': '10n'}], 'clouds': {'all': 100}, 'wind': {'speed': 12.88, 'deg': 173}, 'rain': {'3h': 0.75}, 'sys': {'pod': 'n'}, 'dt_txt': '2020-01-27 00:00:00'}\n",
      "\n",
      "{'dt': 1580094000, 'main': {'temp': 37.4, 'feels_like': 27.37, 'temp_min': 37.4, 'temp_max': 37.4, 'pressure': 994, 'sea_level': 994, 'grnd_level': 956, 'humidity': 88, 'temp_kf': 0}, 'weather': [{'id': 500, 'main': 'Rain', 'description': 'light rain', 'icon': '10n'}], 'clouds': {'all': 100}, 'wind': {'speed': 12.03, 'deg': 202}, 'rain': {'3h': 1}, 'sys': {'pod': 'n'}, 'dt_txt': '2020-01-27 03:00:00'}\n",
      "\n",
      "{'dt': 1580104800, 'main': {'temp': 33.55, 'feels_like': 23.58, 'temp_min': 33.55, 'temp_max': 33.55, 'pressure': 996, 'sea_level': 996, 'grnd_level': 957, 'humidity': 74, 'temp_kf': 0}, 'weather': [{'id': 804, 'main': 'Clouds', 'description': 'overcast clouds', 'icon': '04n'}], 'clouds': {'all': 87}, 'wind': {'speed': 9.98, 'deg': 225}, 'sys': {'pod': 'n'}, 'dt_txt': '2020-01-27 06:00:00'}\n",
      "\n",
      "{'dt': 1580115600, 'main': {'temp': 32.07, 'feels_like': 23.95, 'temp_min': 32.07, 'temp_max': 32.07, 'pressure': 998, 'sea_level': 998, 'grnd_level': 959, 'humidity': 73, 'temp_kf': 0}, 'weather': [{'id': 804, 'main': 'Clouds', 'description': 'overcast clouds', 'icon': '04d'}], 'clouds': {'all': 88}, 'wind': {'speed': 6.33, 'deg': 217}, 'sys': {'pod': 'd'}, 'dt_txt': '2020-01-27 09:00:00'}\n",
      "\n",
      "{'dt': 1580126400, 'main': {'temp': 34.84, 'feels_like': 26.31, 'temp_min': 34.84, 'temp_max': 34.84, 'pressure': 999, 'sea_level': 999, 'grnd_level': 961, 'humidity': 65, 'temp_kf': 0}, 'weather': [{'id': 803, 'main': 'Clouds', 'description': 'broken clouds', 'icon': '04d'}], 'clouds': {'all': 75}, 'wind': {'speed': 7.07, 'deg': 214}, 'sys': {'pod': 'd'}, 'dt_txt': '2020-01-27 12:00:00'}\n",
      "\n",
      "{'dt': 1580137200, 'main': {'temp': 32.13, 'feels_like': 24.49, 'temp_min': 32.13, 'temp_max': 32.13, 'pressure': 1001, 'sea_level': 1001, 'grnd_level': 961, 'humidity': 72, 'temp_kf': 0}, 'weather': [{'id': 802, 'main': 'Clouds', 'description': 'scattered clouds', 'icon': '03d'}], 'clouds': {'all': 33}, 'wind': {'speed': 5.41, 'deg': 214}, 'sys': {'pod': 'd'}, 'dt_txt': '2020-01-27 15:00:00'}\n",
      "\n",
      "{'dt': 1580148000, 'main': {'temp': 31.05, 'feels_like': 22.78, 'temp_min': 31.05, 'temp_max': 31.05, 'pressure': 1000, 'sea_level': 1000, 'grnd_level': 961, 'humidity': 81, 'temp_kf': 0}, 'weather': [{'id': 803, 'main': 'Clouds', 'description': 'broken clouds', 'icon': '04n'}], 'clouds': {'all': 67}, 'wind': {'speed': 6.89, 'deg': 176}, 'sys': {'pod': 'n'}, 'dt_txt': '2020-01-27 18:00:00'}\n",
      "\n",
      "{'dt': 1580158800, 'main': {'temp': 33.87, 'feels_like': 24.1, 'temp_min': 33.87, 'temp_max': 33.87, 'pressure': 996, 'sea_level': 996, 'grnd_level': 957, 'humidity': 97, 'temp_kf': 0}, 'weather': [{'id': 600, 'main': 'Snow', 'description': 'light snow', 'icon': '13n'}], 'clouds': {'all': 100}, 'wind': {'speed': 11.3, 'deg': 164}, 'snow': {'3h': 0.19}, 'sys': {'pod': 'n'}, 'dt_txt': '2020-01-27 21:00:00'}\n",
      "\n"
     ]
    }
   ],
   "source": [
    "#take my word for it, the interesting stuff is in the 'list' key of the json_data dictionary\n",
    "\n",
    "for measurement in json_data['list']:\n",
    "    print(measurement)\n",
    "    print()"
   ]
  },
  {
   "cell_type": "markdown",
   "metadata": {},
   "source": [
    "Just as an example, let's use string indexing to find one forecast prediction for each day. Luckily, this data is structured so look at the below example. From looking at the data, in the 'dt_txt' key I have a standard date/time stamp. You can see below I am taking the measurement at just 12 noon for each day. The time stamp is at the locations 11-20 in each 'dt_txt' key.\n",
    "\n",
    "After doing this, I just have 5 results. One for each of the next five days for my target city."
   ]
  },
  {
   "cell_type": "code",
   "execution_count": 45,
   "metadata": {},
   "outputs": [
    {
     "name": "stdout",
     "output_type": "stream",
     "text": [
      "{'dt': 1579780800, 'main': {'temp': 33.58, 'feels_like': 26.15, 'temp_min': 33.58, 'temp_max': 33.58, 'pressure': 1016, 'sea_level': 1016, 'grnd_level': 976, 'humidity': 70, 'temp_kf': 0}, 'weather': [{'id': 804, 'main': 'Clouds', 'description': 'overcast clouds', 'icon': '04d'}], 'clouds': {'all': 100}, 'wind': {'speed': 5.23, 'deg': 193}, 'sys': {'pod': 'd'}, 'dt_txt': '2020-01-23 12:00:00'}\n",
      "2020-01-23\n",
      "33.58\n",
      "\n",
      "{'dt': 1579867200, 'main': {'temp': 35.29, 'feels_like': 27.63, 'temp_min': 35.29, 'temp_max': 35.29, 'pressure': 1007, 'sea_level': 1007, 'grnd_level': 969, 'humidity': 68, 'temp_kf': 0}, 'weather': [{'id': 802, 'main': 'Clouds', 'description': 'scattered clouds', 'icon': '03d'}], 'clouds': {'all': 28}, 'wind': {'speed': 5.84, 'deg': 201}, 'sys': {'pod': 'd'}, 'dt_txt': '2020-01-24 12:00:00'}\n",
      "2020-01-24\n",
      "35.29\n",
      "\n",
      "{'dt': 1579953600, 'main': {'temp': 31.3, 'feels_like': 25.65, 'temp_min': 31.3, 'temp_max': 31.3, 'pressure': 1010, 'sea_level': 1010, 'grnd_level': 971, 'humidity': 73, 'temp_kf': 0}, 'weather': [{'id': 804, 'main': 'Clouds', 'description': 'overcast clouds', 'icon': '04d'}], 'clouds': {'all': 100}, 'wind': {'speed': 1.81, 'deg': 249}, 'sys': {'pod': 'd'}, 'dt_txt': '2020-01-25 12:00:00'}\n",
      "2020-01-25\n",
      "31.3\n",
      "\n",
      "{'dt': 1580040000, 'main': {'temp': 37.17, 'feels_like': 29.23, 'temp_min': 37.17, 'temp_max': 37.17, 'pressure': 1006, 'sea_level': 1006, 'grnd_level': 968, 'humidity': 95, 'temp_kf': 0}, 'weather': [{'id': 804, 'main': 'Clouds', 'description': 'overcast clouds', 'icon': '04d'}], 'clouds': {'all': 100}, 'wind': {'speed': 8.81, 'deg': 190}, 'sys': {'pod': 'd'}, 'dt_txt': '2020-01-26 12:00:00'}\n",
      "2020-01-26\n",
      "37.17\n",
      "\n",
      "{'dt': 1580126400, 'main': {'temp': 34.84, 'feels_like': 26.31, 'temp_min': 34.84, 'temp_max': 34.84, 'pressure': 999, 'sea_level': 999, 'grnd_level': 961, 'humidity': 65, 'temp_kf': 0}, 'weather': [{'id': 803, 'main': 'Clouds', 'description': 'broken clouds', 'icon': '04d'}], 'clouds': {'all': 75}, 'wind': {'speed': 7.07, 'deg': 214}, 'sys': {'pod': 'd'}, 'dt_txt': '2020-01-27 12:00:00'}\n",
      "2020-01-27\n",
      "34.84\n",
      "\n"
     ]
    }
   ],
   "source": [
    "for daily_measurement in json_data['list']:\n",
    "    if daily_measurement['dt_txt'][11:20] == '12:00:00':\n",
    "        print(daily_measurement)\n",
    "        print(daily_measurement['dt_txt'][:10])\n",
    "        print(daily_measurement['main']['temp'])                                   #it gets tricky to parse through nested dictionaries\n",
    "        print()"
   ]
  },
  {
   "cell_type": "markdown",
   "metadata": {},
   "source": [
    "Here, I use some string formatting and a little more filtering to print some nice looking output. Here, I have found the time stamp of 12 noon for each day. Then within that I have taken the date from the date/time stamp. Then the temperature for each day. And finally put it all together in a string, printing the city, date, and temperature for that day."
   ]
  },
  {
   "cell_type": "code",
   "execution_count": 46,
   "metadata": {},
   "outputs": [
    {
     "name": "stdout",
     "output_type": "stream",
     "text": [
      "The temperature in Oslo on 2020-01-23 will be 33.58 degrees\n",
      "The temperature in Oslo on 2020-01-24 will be 35.29 degrees\n",
      "The temperature in Oslo on 2020-01-25 will be 31.3 degrees\n",
      "The temperature in Oslo on 2020-01-26 will be 37.17 degrees\n",
      "The temperature in Oslo on 2020-01-27 will be 34.84 degrees\n"
     ]
    }
   ],
   "source": [
    "#A cleaner version of the above block\n",
    "for daily_measurement in json_data['list']:\n",
    "    time_stamp = daily_measurement['dt_txt'][11:20]\n",
    "    if time_stamp == '12:00:00':\n",
    "        day = daily_measurement['dt_txt'][:10]\n",
    "        temperature = daily_measurement['main']['temp']\n",
    "        print(f'The temperature in {city_name} on {day} will be {temperature} degrees')"
   ]
  },
  {
   "cell_type": "markdown",
   "metadata": {},
   "source": [
    "So as you see, this allows you to slice and dice the weather data in many ways. You can automate things, depending on weather conditions, link this to other applications, and so on. I encourange you to play with the script, change the city, look at the results, and so on. "
   ]
  },
  {
   "cell_type": "code",
   "execution_count": null,
   "metadata": {},
   "outputs": [],
   "source": []
  }
 ],
 "metadata": {
  "kernelspec": {
   "display_name": "Python 3",
   "language": "python",
   "name": "python3"
  },
  "language_info": {
   "codemirror_mode": {
    "name": "ipython",
    "version": 3
   },
   "file_extension": ".py",
   "mimetype": "text/x-python",
   "name": "python",
   "nbconvert_exporter": "python",
   "pygments_lexer": "ipython3",
   "version": "3.7.3"
  }
 },
 "nbformat": 4,
 "nbformat_minor": 4
}
