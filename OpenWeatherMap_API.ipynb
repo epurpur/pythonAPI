{
 "cells": [
  {
   "cell_type": "markdown",
   "metadata": {},
   "source": [
    "## OpenWeatherMap Python API\n",
    "\n",
    "In this notebook we will be working with [OpenWeatherMap](https://openweathermap.org/) python API.\n",
    "\n",
    "OpenWeatherMap is a weather forecasting site, among many others. And they have exposed their data via their API so that we can interact with it using python.\n",
    "\n",
    "## Get API Key\n",
    "\n",
    "The first thing we need to do is get an API key. To do that, go [here](https://openweathermap.org/api) and sign up. It should only take a few minutes to do.\n",
    "\n",
    "After that, scroll down and you see that OpenWeatherMap provides different subscription levels which provide different data. The free API key allows you access to today's weather and the 5 day forcast, among other things. This is what we will be working with today. \n",
    "\n",
    "OpenWeatherMap provides really nice documentation for how to submit requests using Python \n",
    "\n",
    "\n",
    "The first thing we need to do is install the 'requests' library. Requests is one of many libraries available that someone out there wrote and published for the world to use. We need to use a package manager called conda to install this. "
   ]
  },
  {
   "cell_type": "code",
   "execution_count": 1,
   "metadata": {},
   "outputs": [
    {
     "name": "stdout",
     "output_type": "stream",
     "text": [
      "Collecting package metadata (current_repodata.json): done\n",
      "Solving environment: done\n",
      "\n",
      "## Package Plan ##\n",
      "\n",
      "  environment location: /Applications/anaconda3\n",
      "\n",
      "  added / updated specs:\n",
      "    - requests\n",
      "\n",
      "\n",
      "The following packages will be downloaded:\n",
      "\n",
      "    package                    |            build\n",
      "    ---------------------------|-----------------\n",
      "    conda-4.8.5                |           py37_0         2.9 MB\n",
      "    openssl-1.1.1h             |       haf1e3a3_0         2.2 MB\n",
      "    ------------------------------------------------------------\n",
      "                                           Total:         5.1 MB\n",
      "\n",
      "The following packages will be UPDATED:\n",
      "\n",
      "  conda                                        4.8.4-py37_0 --> 4.8.5-py37_0\n",
      "  openssl                                 1.1.1g-h1de35cc_0 --> 1.1.1h-haf1e3a3_0\n",
      "\n",
      "\n",
      "\n",
      "Downloading and Extracting Packages\n",
      "conda-4.8.5          | 2.9 MB    | ##################################### | 100% \n",
      "openssl-1.1.1h       | 2.2 MB    | ##################################### | 100% \n",
      "Preparing transaction: done\n",
      "Verifying transaction: done\n",
      "Executing transaction: done\n"
     ]
    }
   ],
   "source": [
    "!conda install --yes requests"
   ]
  },
  {
   "cell_type": "markdown",
   "metadata": {},
   "source": [
    "Now let's import the libraries we will be using in this workshop. We don't need to install json because it is already installed with base python."
   ]
  },
  {
   "cell_type": "code",
   "execution_count": 2,
   "metadata": {},
   "outputs": [],
   "source": [
    "import json\n",
    "import requests"
   ]
  },
  {
   "cell_type": "code",
   "execution_count": 7,
   "metadata": {},
   "outputs": [],
   "source": [
    "#Note: this is my API key and is only being used for example purposes. Please don't spam OpenWeatherMap using my API key.\n",
    "#sign up for your own API key here: https://home.openweathermap.org/users/sign_up\n",
    "API_KEY = '333de4e909a5ffe9bfa46f0f89cad105'                    \n",
    "\n",
    "#Each city in the world has a unique id number. There are over 1,000,000 so I have given you a few to start with.\n",
    "#You are welcome to look in the data dictionary for more.\n",
    "city_id_dict = {'Charlottesville': 4752046,                                     \n",
    "                'New York': 5128581,\n",
    "                'Chicago': 4887398,\n",
    "                'Paris': 6455259,\n",
    "                'Cape Town': 3369157,\n",
    "                'Beirut': 276781,\n",
    "                'Dubai': 292223,\n",
    "                'Shanghai': 1796236,\n",
    "                'Moscow': 524901,\n",
    "                'Addis Ababa': 344979,\n",
    "                'Bangkok': 1609350,\n",
    "                'Oslo': 6453366,\n",
    "                'Sao Paulo': 3448439,\n",
    "                'Bogota': 3688689,\n",
    "                'Havana': 3553478}\n"
   ]
  },
  {
   "cell_type": "markdown",
   "metadata": {},
   "source": [
    "The following is where I create my API request via a URL. As you can see, I create a variable called \"request\", in which I construct a URL address which will be submitted to OpenWeatherMap. I've already created a couple variables (app_id, city_name, and city_id_string) which I insert into my url request using f-string formatting. \n",
    "\n",
    "Below, we are making a request for today's weather. First we will do it using the city name, next we will do it using the city_id from the city_id_dict seen above"
   ]
  },
  {
   "cell_type": "code",
   "execution_count": 40,
   "metadata": {},
   "outputs": [],
   "source": [
    "city_name = 'Portland'\n",
    "\n",
    "request = requests.get(f'http://api.openweathermap.org/data/2.5/weather?q={city_name}&appid={API_KEY}')\n"
   ]
  },
  {
   "cell_type": "code",
   "execution_count": 41,
   "metadata": {},
   "outputs": [
    {
     "name": "stdout",
     "output_type": "stream",
     "text": [
      "{'coord': {'lon': -122.68, 'lat': 45.52}, 'weather': [{'id': 800, 'main': 'Clear', 'description': 'clear sky', 'icon': '01d'}], 'base': 'stations', 'main': {'temp': 287.24, 'feels_like': 284.74, 'temp_min': 284.82, 'temp_max': 289.26, 'pressure': 1026, 'humidity': 76}, 'visibility': 10000, 'wind': {'speed': 3.6, 'deg': 310}, 'clouds': {'all': 1}, 'dt': 1601308706, 'sys': {'type': 1, 'id': 5321, 'country': 'US', 'sunrise': 1601301951, 'sunset': 1601344580}, 'timezone': -25200, 'id': 5746545, 'name': 'Portland', 'cod': 200}\n"
     ]
    }
   ],
   "source": [
    "json_data = json.loads(request.text)                      #json_data is now a dictionary object\n",
    "print(json_data)"
   ]
  },
  {
   "cell_type": "markdown",
   "metadata": {},
   "source": [
    "Let's do this a better way! By using the city_id, which I will take from the city_id_dict object"
   ]
  },
  {
   "cell_type": "code",
   "execution_count": 44,
   "metadata": {},
   "outputs": [],
   "source": [
    "city_name = 'Oslo'                                               #change the city name here\n",
    "city_id_string = str(city_id_dict[f'{city_name}'])                                         \n",
    "\n",
    "#Make a request to get today's weather. This is straight from the documentation : api.openweathermap.org/data/2.5/weather?id={city id}&appid={API key}\n",
    "#request = requests.get(f'http://api.openweathermap.org/data/2.5/group?APPID={app_id}&id={city_id_string}&units=imperial')               #this actually makes the request to the API via the URL with correct parameters\n",
    "request = requests.get(f'http://api.openweathermap.org/data/2.5/weather?id={city_id_string}&appid={API_KEY}&units=imperial')\n"
   ]
  },
  {
   "cell_type": "markdown",
   "metadata": {},
   "source": [
    "*** Do It Yourself *** \n",
    "\n",
    "Write the previous cell again except change the city name to some other city from the city_id_dict.\n",
    "\n",
    "Make a new API_KEY variable and include your own API key. \n",
    "\n",
    "Copy and paste the request line as it is an make a new API request, except it will be for a different city this time"
   ]
  },
  {
   "cell_type": "code",
   "execution_count": 13,
   "metadata": {},
   "outputs": [],
   "source": [
    "# Write your code here\n",
    "\n",
    "\n",
    "\n"
   ]
  },
  {
   "cell_type": "markdown",
   "metadata": {},
   "source": [
    "I now take the request and load the response, which is JSON data. Let's take a look at the weather results below for your chosen city."
   ]
  },
  {
   "cell_type": "code",
   "execution_count": 17,
   "metadata": {
    "scrolled": true
   },
   "outputs": [
    {
     "name": "stdout",
     "output_type": "stream",
     "text": [
      "{'coord': {'lon': 10.73, 'lat': 59.91}, 'weather': [{'id': 801, 'main': 'Clouds', 'description': 'few clouds', 'icon': '02d'}], 'base': 'stations', 'main': {'temp': 58.01, 'feels_like': 56.14, 'temp_min': 57, 'temp_max': 59, 'pressure': 991, 'humidity': 72}, 'visibility': 10000, 'wind': {'speed': 3, 'deg': 74}, 'clouds': {'all': 24}, 'dt': 1601307011, 'sys': {'type': 3, 'id': 2009047, 'country': 'NO', 'sunrise': 1601270163, 'sunset': 1601312347}, 'timezone': 7200, 'id': 6453366, 'name': 'Oslo', 'cod': 200}\n"
     ]
    }
   ],
   "source": [
    "json_data = json.loads(request.text)                      #json_data is now a dictionary object\n",
    "print(json_data)\n",
    "\n"
   ]
  },
  {
   "cell_type": "markdown",
   "metadata": {},
   "source": [
    "See above that the data returned is simply a dictionary and we can parse that just like we would any other dictionary object."
   ]
  },
  {
   "cell_type": "code",
   "execution_count": 18,
   "metadata": {},
   "outputs": [
    {
     "name": "stdout",
     "output_type": "stream",
     "text": [
      "coord\n",
      "weather\n",
      "base\n",
      "main\n",
      "visibility\n",
      "wind\n",
      "clouds\n",
      "dt\n",
      "sys\n",
      "timezone\n",
      "id\n",
      "name\n",
      "cod\n"
     ]
    }
   ],
   "source": [
    "for keys, values in json_data.items():\n",
    "    print(keys)                                       #all the interesting data is contained in the 'list' key\n"
   ]
  },
  {
   "cell_type": "markdown",
   "metadata": {},
   "source": [
    "Inside the 'weather' key is a list of data. Lists are ordered objects, so we can use indexing to look more closely at each item in the list."
   ]
  },
  {
   "cell_type": "code",
   "execution_count": 22,
   "metadata": {},
   "outputs": [
    {
     "name": "stdout",
     "output_type": "stream",
     "text": [
      "[{'id': 801, 'main': 'Clouds', 'description': 'few clouds', 'icon': '02d'}]\n"
     ]
    }
   ],
   "source": [
    "print(json_data['weather'])                    #Looking at data in the 'weather' key of the json_data dictionary\n"
   ]
  },
  {
   "cell_type": "markdown",
   "metadata": {},
   "source": [
    "And again, inside that list object we have a dictionary, which we can parse the same as before. The actual conditions themselves are in the 'main' and 'description' keys."
   ]
  },
  {
   "cell_type": "code",
   "execution_count": 24,
   "metadata": {},
   "outputs": [
    {
     "name": "stdout",
     "output_type": "stream",
     "text": [
      "Clouds\n",
      "few clouds\n"
     ]
    }
   ],
   "source": [
    "print(json_data['weather'][0]['main'])\n",
    "print(json_data['weather'][0]['description'])"
   ]
  },
  {
   "cell_type": "markdown",
   "metadata": {},
   "source": [
    "Another dictionary you might want to investigate from the json_data object is the 'main' dictionary"
   ]
  },
  {
   "cell_type": "code",
   "execution_count": 25,
   "metadata": {},
   "outputs": [
    {
     "name": "stdout",
     "output_type": "stream",
     "text": [
      "{'temp': 58.01, 'feels_like': 56.14, 'temp_min': 57, 'temp_max': 59, 'pressure': 991, 'humidity': 72}\n"
     ]
    }
   ],
   "source": [
    "print(json_data['main'])"
   ]
  },
  {
   "cell_type": "markdown",
   "metadata": {},
   "source": [
    "Or if this gets confusing and unreadable, you can make a variable and store this more cleanly"
   ]
  },
  {
   "cell_type": "markdown",
   "metadata": {},
   "source": [
    "*** Do It Yourself ***\n",
    "\n",
    "Print the current temperature today the city that you chose\n",
    "\n",
    "Print the minimum and maximum temperature"
   ]
  },
  {
   "cell_type": "code",
   "execution_count": 26,
   "metadata": {},
   "outputs": [],
   "source": [
    "# Write your code here\n",
    "\n",
    "\n",
    "\n",
    "\n"
   ]
  },
  {
   "cell_type": "markdown",
   "metadata": {},
   "source": [
    "*** Do It Yourself ***\n",
    "\n",
    "Choose one of the other keys from the json_data object. Investigate one that might be interesting to you and see what is inside!"
   ]
  },
  {
   "cell_type": "code",
   "execution_count": 27,
   "metadata": {},
   "outputs": [],
   "source": [
    "# Write your code here\n",
    "\n",
    "\n",
    "\n",
    "\n"
   ]
  },
  {
   "cell_type": "markdown",
   "metadata": {},
   "source": [
    "Now lets make a request to get the 5 day forecast. This returns the forecast at 3 hour intervals for the next 5 days. Again, I took the 'request' straight from the documentation page for OpenWeatherMap\n",
    "\n",
    "<strong> Note: </strong> The 5 day forecast appears not to be documented any more in OpenWeatherMap's API documentation? The docs now list a '4 day weather forecast' option. But I liked the 5 day weather forecast example I have used in the past so I stuck with it. My guess is that this example will eventually stop working, but OpenWeatherMap maintains it as a legacy tool because there are probably a lot of people still using this API in their applications (myself included!)"
   ]
  },
  {
   "cell_type": "code",
   "execution_count": 51,
   "metadata": {},
   "outputs": [
    {
     "name": "stdout",
     "output_type": "stream",
     "text": [
      "{'cod': '200', 'message': 0, 'cnt': 40, 'list': [{'dt': 1601316000, 'main': {'temp': 56.91, 'feels_like': 55.47, 'temp_min': 56.82, 'temp_max': 56.91, 'pressure': 1003, 'sea_level': 1003, 'grnd_level': 1014, 'humidity': 78, 'temp_kf': 0.05}, 'weather': [{'id': 802, 'main': 'Clouds', 'description': 'scattered clouds', 'icon': '03n'}], 'clouds': {'all': 30}, 'wind': {'speed': 2.77, 'deg': 32}, 'visibility': 10000, 'pop': 0, 'sys': {'pod': 'n'}, 'dt_txt': '2020-09-28 18:00:00'}, {'dt': 1601326800, 'main': {'temp': 57.09, 'feels_like': 55.96, 'temp_min': 57.09, 'temp_max': 57.11, 'pressure': 1010, 'sea_level': 1010, 'grnd_level': 1015, 'humidity': 81, 'temp_kf': -0.01}, 'weather': [{'id': 803, 'main': 'Clouds', 'description': 'broken clouds', 'icon': '04n'}], 'clouds': {'all': 83}, 'wind': {'speed': 2.8, 'deg': 39}, 'visibility': 10000, 'pop': 0, 'sys': {'pod': 'n'}, 'dt_txt': '2020-09-28 21:00:00'}, {'dt': 1601337600, 'main': {'temp': 56.5, 'feels_like': 55.54, 'temp_min': 56.46, 'temp_max': 56.5, 'pressure': 1013, 'sea_level': 1013, 'grnd_level': 1014, 'humidity': 87, 'temp_kf': 0.02}, 'weather': [{'id': 500, 'main': 'Rain', 'description': 'light rain', 'icon': '10n'}], 'clouds': {'all': 95}, 'wind': {'speed': 3.18, 'deg': 33}, 'visibility': 10000, 'pop': 0.29, 'rain': {'3h': 0.2}, 'sys': {'pod': 'n'}, 'dt_txt': '2020-09-29 00:00:00'}, {'dt': 1601348400, 'main': {'temp': 55.99, 'feels_like': 55.74, 'temp_min': 55.99, 'temp_max': 55.99, 'pressure': 1014, 'sea_level': 1014, 'grnd_level': 1014, 'humidity': 91, 'temp_kf': 0}, 'weather': [{'id': 500, 'main': 'Rain', 'description': 'light rain', 'icon': '10n'}], 'clouds': {'all': 96}, 'wind': {'speed': 2.33, 'deg': 47}, 'visibility': 10000, 'pop': 0.99, 'rain': {'3h': 1.26}, 'sys': {'pod': 'n'}, 'dt_txt': '2020-09-29 03:00:00'}, {'dt': 1601359200, 'main': {'temp': 56.32, 'feels_like': 56.41, 'temp_min': 56.32, 'temp_max': 56.32, 'pressure': 1014, 'sea_level': 1014, 'grnd_level': 1014, 'humidity': 92, 'temp_kf': 0}, 'weather': [{'id': 500, 'main': 'Rain', 'description': 'light rain', 'icon': '10d'}], 'clouds': {'all': 98}, 'wind': {'speed': 2.06, 'deg': 130}, 'visibility': 6424, 'pop': 1, 'rain': {'3h': 1.32}, 'sys': {'pod': 'd'}, 'dt_txt': '2020-09-29 06:00:00'}, {'dt': 1601370000, 'main': {'temp': 56.57, 'feels_like': 54.61, 'temp_min': 56.57, 'temp_max': 56.57, 'pressure': 1015, 'sea_level': 1015, 'grnd_level': 1015, 'humidity': 89, 'temp_kf': 0}, 'weather': [{'id': 500, 'main': 'Rain', 'description': 'light rain', 'icon': '10d'}], 'clouds': {'all': 100}, 'wind': {'speed': 5.35, 'deg': 176}, 'visibility': 9437, 'pop': 0.9, 'rain': {'3h': 0.67}, 'sys': {'pod': 'd'}, 'dt_txt': '2020-09-29 09:00:00'}, {'dt': 1601380800, 'main': {'temp': 55.58, 'feels_like': 54.25, 'temp_min': 55.58, 'temp_max': 55.58, 'pressure': 1015, 'sea_level': 1015, 'grnd_level': 1015, 'humidity': 88, 'temp_kf': 0}, 'weather': [{'id': 500, 'main': 'Rain', 'description': 'light rain', 'icon': '10d'}], 'clouds': {'all': 99}, 'wind': {'speed': 3.53, 'deg': 159}, 'visibility': 10000, 'pop': 0.86, 'rain': {'3h': 0.5}, 'sys': {'pod': 'd'}, 'dt_txt': '2020-09-29 12:00:00'}, {'dt': 1601391600, 'main': {'temp': 58.48, 'feels_like': 55.22, 'temp_min': 58.48, 'temp_max': 58.48, 'pressure': 1015, 'sea_level': 1015, 'grnd_level': 1015, 'humidity': 75, 'temp_kf': 0}, 'weather': [{'id': 803, 'main': 'Clouds', 'description': 'broken clouds', 'icon': '04d'}], 'clouds': {'all': 52}, 'wind': {'speed': 6.2, 'deg': 179}, 'visibility': 10000, 'pop': 0.03, 'sys': {'pod': 'd'}, 'dt_txt': '2020-09-29 15:00:00'}, {'dt': 1601402400, 'main': {'temp': 51.31, 'feels_like': 48.92, 'temp_min': 51.31, 'temp_max': 51.31, 'pressure': 1016, 'sea_level': 1016, 'grnd_level': 1016, 'humidity': 90, 'temp_kf': 0}, 'weather': [{'id': 802, 'main': 'Clouds', 'description': 'scattered clouds', 'icon': '03n'}], 'clouds': {'all': 49}, 'wind': {'speed': 3.67, 'deg': 172}, 'visibility': 10000, 'pop': 0, 'sys': {'pod': 'n'}, 'dt_txt': '2020-09-29 18:00:00'}, {'dt': 1601413200, 'main': {'temp': 49.19, 'feels_like': 47.34, 'temp_min': 49.19, 'temp_max': 49.19, 'pressure': 1017, 'sea_level': 1017, 'grnd_level': 1017, 'humidity': 91, 'temp_kf': 0}, 'weather': [{'id': 801, 'main': 'Clouds', 'description': 'few clouds', 'icon': '02n'}], 'clouds': {'all': 11}, 'wind': {'speed': 1.92, 'deg': 135}, 'visibility': 10000, 'pop': 0.08, 'sys': {'pod': 'n'}, 'dt_txt': '2020-09-29 21:00:00'}, {'dt': 1601424000, 'main': {'temp': 51.48, 'feels_like': 49.41, 'temp_min': 51.48, 'temp_max': 51.48, 'pressure': 1017, 'sea_level': 1017, 'grnd_level': 1017, 'humidity': 89, 'temp_kf': 0}, 'weather': [{'id': 803, 'main': 'Clouds', 'description': 'broken clouds', 'icon': '04n'}], 'clouds': {'all': 51}, 'wind': {'speed': 3.04, 'deg': 129}, 'visibility': 10000, 'pop': 0.12, 'sys': {'pod': 'n'}, 'dt_txt': '2020-09-30 00:00:00'}, {'dt': 1601434800, 'main': {'temp': 50.85, 'feels_like': 48.7, 'temp_min': 50.85, 'temp_max': 50.85, 'pressure': 1017, 'sea_level': 1017, 'grnd_level': 1017, 'humidity': 88, 'temp_kf': 0}, 'weather': [{'id': 500, 'main': 'Rain', 'description': 'light rain', 'icon': '10n'}], 'clouds': {'all': 100}, 'wind': {'speed': 2.77, 'deg': 123}, 'visibility': 10000, 'pop': 0.37, 'rain': {'3h': 0.21}, 'sys': {'pod': 'n'}, 'dt_txt': '2020-09-30 03:00:00'}, {'dt': 1601445600, 'main': {'temp': 50.52, 'feels_like': 48.49, 'temp_min': 50.52, 'temp_max': 50.52, 'pressure': 1016, 'sea_level': 1016, 'grnd_level': 1016, 'humidity': 87, 'temp_kf': 0}, 'weather': [{'id': 804, 'main': 'Clouds', 'description': 'overcast clouds', 'icon': '04d'}], 'clouds': {'all': 100}, 'wind': {'speed': 2.28, 'deg': 110}, 'visibility': 10000, 'pop': 0.11, 'sys': {'pod': 'd'}, 'dt_txt': '2020-09-30 06:00:00'}, {'dt': 1601456400, 'main': {'temp': 53.69, 'feels_like': 51.48, 'temp_min': 53.69, 'temp_max': 53.69, 'pressure': 1017, 'sea_level': 1017, 'grnd_level': 1017, 'humidity': 83, 'temp_kf': 0}, 'weather': [{'id': 804, 'main': 'Clouds', 'description': 'overcast clouds', 'icon': '04d'}], 'clouds': {'all': 93}, 'wind': {'speed': 3.44, 'deg': 142}, 'visibility': 10000, 'pop': 0.12, 'sys': {'pod': 'd'}, 'dt_txt': '2020-09-30 09:00:00'}, {'dt': 1601467200, 'main': {'temp': 57.06, 'feels_like': 55, 'temp_min': 57.06, 'temp_max': 57.06, 'pressure': 1016, 'sea_level': 1016, 'grnd_level': 1016, 'humidity': 79, 'temp_kf': 0}, 'weather': [{'id': 804, 'main': 'Clouds', 'description': 'overcast clouds', 'icon': '04d'}], 'clouds': {'all': 97}, 'wind': {'speed': 4.09, 'deg': 160}, 'visibility': 10000, 'pop': 0.11, 'sys': {'pod': 'd'}, 'dt_txt': '2020-09-30 12:00:00'}, {'dt': 1601478000, 'main': {'temp': 59.34, 'feels_like': 57.45, 'temp_min': 59.34, 'temp_max': 59.34, 'pressure': 1016, 'sea_level': 1016, 'grnd_level': 1016, 'humidity': 73, 'temp_kf': 0}, 'weather': [{'id': 500, 'main': 'Rain', 'description': 'light rain', 'icon': '10d'}], 'clouds': {'all': 61}, 'wind': {'speed': 3.83, 'deg': 168}, 'visibility': 10000, 'pop': 0.21, 'rain': {'3h': 0.22}, 'sys': {'pod': 'd'}, 'dt_txt': '2020-09-30 15:00:00'}, {'dt': 1601488800, 'main': {'temp': 51.98, 'feels_like': 50.65, 'temp_min': 51.98, 'temp_max': 51.98, 'pressure': 1017, 'sea_level': 1017, 'grnd_level': 1017, 'humidity': 87, 'temp_kf': 0}, 'weather': [{'id': 803, 'main': 'Clouds', 'description': 'broken clouds', 'icon': '04n'}], 'clouds': {'all': 61}, 'wind': {'speed': 1.7, 'deg': 47}, 'visibility': 10000, 'pop': 0.01, 'sys': {'pod': 'n'}, 'dt_txt': '2020-09-30 18:00:00'}, {'dt': 1601499600, 'main': {'temp': 51.13, 'feels_like': 48.97, 'temp_min': 51.13, 'temp_max': 51.13, 'pressure': 1017, 'sea_level': 1017, 'grnd_level': 1017, 'humidity': 87, 'temp_kf': 0}, 'weather': [{'id': 802, 'main': 'Clouds', 'description': 'scattered clouds', 'icon': '03n'}], 'clouds': {'all': 40}, 'wind': {'speed': 2.77, 'deg': 50}, 'visibility': 10000, 'pop': 0, 'sys': {'pod': 'n'}, 'dt_txt': '2020-09-30 21:00:00'}, {'dt': 1601510400, 'main': {'temp': 50.41, 'feels_like': 47.66, 'temp_min': 50.41, 'temp_max': 50.41, 'pressure': 1016, 'sea_level': 1016, 'grnd_level': 1016, 'humidity': 88, 'temp_kf': 0}, 'weather': [{'id': 803, 'main': 'Clouds', 'description': 'broken clouds', 'icon': '04n'}], 'clouds': {'all': 51}, 'wind': {'speed': 3.67, 'deg': 46}, 'visibility': 10000, 'pop': 0, 'sys': {'pod': 'n'}, 'dt_txt': '2020-10-01 00:00:00'}, {'dt': 1601521200, 'main': {'temp': 50.22, 'feels_like': 47.59, 'temp_min': 50.22, 'temp_max': 50.22, 'pressure': 1015, 'sea_level': 1015, 'grnd_level': 1015, 'humidity': 89, 'temp_kf': 0}, 'weather': [{'id': 804, 'main': 'Clouds', 'description': 'overcast clouds', 'icon': '04n'}], 'clouds': {'all': 90}, 'wind': {'speed': 3.47, 'deg': 50}, 'visibility': 10000, 'pop': 0, 'sys': {'pod': 'n'}, 'dt_txt': '2020-10-01 03:00:00'}, {'dt': 1601532000, 'main': {'temp': 48.78, 'feels_like': 45.64, 'temp_min': 48.78, 'temp_max': 48.78, 'pressure': 1015, 'sea_level': 1015, 'grnd_level': 1015, 'humidity': 91, 'temp_kf': 0}, 'weather': [{'id': 803, 'main': 'Clouds', 'description': 'broken clouds', 'icon': '04d'}], 'clouds': {'all': 74}, 'wind': {'speed': 4.03, 'deg': 54}, 'visibility': 10000, 'pop': 0, 'sys': {'pod': 'd'}, 'dt_txt': '2020-10-01 06:00:00'}, {'dt': 1601542800, 'main': {'temp': 51.94, 'feels_like': 48.11, 'temp_min': 51.94, 'temp_max': 51.94, 'pressure': 1015, 'sea_level': 1015, 'grnd_level': 1015, 'humidity': 82, 'temp_kf': 0}, 'weather': [{'id': 804, 'main': 'Clouds', 'description': 'overcast clouds', 'icon': '04d'}], 'clouds': {'all': 97}, 'wind': {'speed': 5.41, 'deg': 68}, 'visibility': 10000, 'pop': 0, 'sys': {'pod': 'd'}, 'dt_txt': '2020-10-01 09:00:00'}, {'dt': 1601553600, 'main': {'temp': 57.97, 'feels_like': 53.8, 'temp_min': 57.97, 'temp_max': 57.97, 'pressure': 1015, 'sea_level': 1015, 'grnd_level': 1015, 'humidity': 67, 'temp_kf': 0}, 'weather': [{'id': 804, 'main': 'Clouds', 'description': 'overcast clouds', 'icon': '04d'}], 'clouds': {'all': 94}, 'wind': {'speed': 6.22, 'deg': 85}, 'visibility': 10000, 'pop': 0, 'sys': {'pod': 'd'}, 'dt_txt': '2020-10-01 12:00:00'}, {'dt': 1601564400, 'main': {'temp': 60.01, 'feels_like': 55.74, 'temp_min': 60.01, 'temp_max': 60.01, 'pressure': 1014, 'sea_level': 1014, 'grnd_level': 1014, 'humidity': 61, 'temp_kf': 0}, 'weather': [{'id': 800, 'main': 'Clear', 'description': 'clear sky', 'icon': '01d'}], 'clouds': {'all': 9}, 'wind': {'speed': 6.13, 'deg': 75}, 'visibility': 10000, 'pop': 0, 'sys': {'pod': 'd'}, 'dt_txt': '2020-10-01 15:00:00'}, {'dt': 1601575200, 'main': {'temp': 52.3, 'feels_like': 47.91, 'temp_min': 52.3, 'temp_max': 52.3, 'pressure': 1015, 'sea_level': 1015, 'grnd_level': 1015, 'humidity': 77, 'temp_kf': 0}, 'weather': [{'id': 800, 'main': 'Clear', 'description': 'clear sky', 'icon': '01n'}], 'clouds': {'all': 5}, 'wind': {'speed': 5.86, 'deg': 49}, 'visibility': 10000, 'pop': 0, 'sys': {'pod': 'n'}, 'dt_txt': '2020-10-01 18:00:00'}, {'dt': 1601586000, 'main': {'temp': 53.02, 'feels_like': 47.39, 'temp_min': 53.02, 'temp_max': 53.02, 'pressure': 1015, 'sea_level': 1015, 'grnd_level': 1015, 'humidity': 82, 'temp_kf': 0}, 'weather': [{'id': 803, 'main': 'Clouds', 'description': 'broken clouds', 'icon': '04n'}], 'clouds': {'all': 63}, 'wind': {'speed': 9.08, 'deg': 59}, 'visibility': 10000, 'pop': 0, 'sys': {'pod': 'n'}, 'dt_txt': '2020-10-01 21:00:00'}, {'dt': 1601596800, 'main': {'temp': 52.88, 'feels_like': 47.37, 'temp_min': 52.88, 'temp_max': 52.88, 'pressure': 1015, 'sea_level': 1015, 'grnd_level': 1015, 'humidity': 86, 'temp_kf': 0}, 'weather': [{'id': 500, 'main': 'Rain', 'description': 'light rain', 'icon': '10n'}], 'clouds': {'all': 81}, 'wind': {'speed': 9.37, 'deg': 57}, 'visibility': 10000, 'pop': 0.58, 'rain': {'3h': 0.87}, 'sys': {'pod': 'n'}, 'dt_txt': '2020-10-02 00:00:00'}, {'dt': 1601607600, 'main': {'temp': 51.82, 'feels_like': 45.28, 'temp_min': 51.82, 'temp_max': 51.82, 'pressure': 1015, 'sea_level': 1015, 'grnd_level': 1015, 'humidity': 84, 'temp_kf': 0}, 'weather': [{'id': 500, 'main': 'Rain', 'description': 'light rain', 'icon': '10n'}], 'clouds': {'all': 100}, 'wind': {'speed': 10.45, 'deg': 57}, 'visibility': 10000, 'pop': 0.33, 'rain': {'3h': 0.12}, 'sys': {'pod': 'n'}, 'dt_txt': '2020-10-02 03:00:00'}, {'dt': 1601618400, 'main': {'temp': 49.84, 'feels_like': 44.17, 'temp_min': 49.84, 'temp_max': 49.84, 'pressure': 1016, 'sea_level': 1016, 'grnd_level': 1016, 'humidity': 87, 'temp_kf': 0}, 'weather': [{'id': 804, 'main': 'Clouds', 'description': 'overcast clouds', 'icon': '04d'}], 'clouds': {'all': 87}, 'wind': {'speed': 8.46, 'deg': 51}, 'visibility': 10000, 'pop': 0.25, 'sys': {'pod': 'd'}, 'dt_txt': '2020-10-02 06:00:00'}, {'dt': 1601629200, 'main': {'temp': 54.81, 'feels_like': 49.1, 'temp_min': 54.81, 'temp_max': 54.81, 'pressure': 1017, 'sea_level': 1017, 'grnd_level': 1017, 'humidity': 78, 'temp_kf': 0}, 'weather': [{'id': 803, 'main': 'Clouds', 'description': 'broken clouds', 'icon': '04d'}], 'clouds': {'all': 80}, 'wind': {'speed': 9.4, 'deg': 63}, 'visibility': 10000, 'pop': 0, 'sys': {'pod': 'd'}, 'dt_txt': '2020-10-02 09:00:00'}, {'dt': 1601640000, 'main': {'temp': 58.77, 'feels_like': 53.28, 'temp_min': 58.77, 'temp_max': 58.77, 'pressure': 1018, 'sea_level': 1018, 'grnd_level': 1018, 'humidity': 70, 'temp_kf': 0}, 'weather': [{'id': 804, 'main': 'Clouds', 'description': 'overcast clouds', 'icon': '04d'}], 'clouds': {'all': 88}, 'wind': {'speed': 9.42, 'deg': 67}, 'visibility': 10000, 'pop': 0, 'sys': {'pod': 'd'}, 'dt_txt': '2020-10-02 12:00:00'}, {'dt': 1601650800, 'main': {'temp': 56.21, 'feels_like': 50.9, 'temp_min': 56.21, 'temp_max': 56.21, 'pressure': 1018, 'sea_level': 1018, 'grnd_level': 1018, 'humidity': 79, 'temp_kf': 0}, 'weather': [{'id': 500, 'main': 'Rain', 'description': 'light rain', 'icon': '10d'}], 'clouds': {'all': 100}, 'wind': {'speed': 9.46, 'deg': 59}, 'visibility': 10000, 'pop': 0.21, 'rain': {'3h': 0.14}, 'sys': {'pod': 'd'}, 'dt_txt': '2020-10-02 15:00:00'}, {'dt': 1601661600, 'main': {'temp': 55.78, 'feels_like': 50.7, 'temp_min': 55.78, 'temp_max': 55.78, 'pressure': 1019, 'sea_level': 1019, 'grnd_level': 1019, 'humidity': 78, 'temp_kf': 0}, 'weather': [{'id': 500, 'main': 'Rain', 'description': 'light rain', 'icon': '10n'}], 'clouds': {'all': 99}, 'wind': {'speed': 8.68, 'deg': 62}, 'visibility': 10000, 'pop': 0.25, 'rain': {'3h': 0.23}, 'sys': {'pod': 'n'}, 'dt_txt': '2020-10-02 18:00:00'}, {'dt': 1601672400, 'main': {'temp': 55.15, 'feels_like': 50.45, 'temp_min': 55.15, 'temp_max': 55.15, 'pressure': 1020, 'sea_level': 1020, 'grnd_level': 1020, 'humidity': 79, 'temp_kf': 0}, 'weather': [{'id': 804, 'main': 'Clouds', 'description': 'overcast clouds', 'icon': '04n'}], 'clouds': {'all': 100}, 'wind': {'speed': 7.9, 'deg': 61}, 'visibility': 10000, 'pop': 0.01, 'sys': {'pod': 'n'}, 'dt_txt': '2020-10-02 21:00:00'}, {'dt': 1601683200, 'main': {'temp': 52.23, 'feels_like': 47.79, 'temp_min': 52.23, 'temp_max': 52.23, 'pressure': 1021, 'sea_level': 1021, 'grnd_level': 1021, 'humidity': 85, 'temp_kf': 0}, 'weather': [{'id': 804, 'main': 'Clouds', 'description': 'overcast clouds', 'icon': '04n'}], 'clouds': {'all': 92}, 'wind': {'speed': 7.05, 'deg': 52}, 'visibility': 10000, 'pop': 0.01, 'sys': {'pod': 'n'}, 'dt_txt': '2020-10-03 00:00:00'}, {'dt': 1601694000, 'main': {'temp': 51.62, 'feels_like': 47.88, 'temp_min': 51.62, 'temp_max': 51.62, 'pressure': 1020, 'sea_level': 1020, 'grnd_level': 1020, 'humidity': 82, 'temp_kf': 0}, 'weather': [{'id': 804, 'main': 'Clouds', 'description': 'overcast clouds', 'icon': '04n'}], 'clouds': {'all': 95}, 'wind': {'speed': 5.12, 'deg': 31}, 'visibility': 10000, 'pop': 0.18, 'sys': {'pod': 'n'}, 'dt_txt': '2020-10-03 03:00:00'}, {'dt': 1601704800, 'main': {'temp': 51.48, 'feels_like': 48.04, 'temp_min': 51.48, 'temp_max': 51.48, 'pressure': 1021, 'sea_level': 1021, 'grnd_level': 1021, 'humidity': 87, 'temp_kf': 0}, 'weather': [{'id': 500, 'main': 'Rain', 'description': 'light rain', 'icon': '10d'}], 'clouds': {'all': 94}, 'wind': {'speed': 5.21, 'deg': 40}, 'visibility': 10000, 'pop': 0.28, 'rain': {'3h': 0.12}, 'sys': {'pod': 'd'}, 'dt_txt': '2020-10-03 06:00:00'}, {'dt': 1601715600, 'main': {'temp': 54.46, 'feels_like': 50.32, 'temp_min': 54.46, 'temp_max': 54.46, 'pressure': 1021, 'sea_level': 1021, 'grnd_level': 1021, 'humidity': 79, 'temp_kf': 0}, 'weather': [{'id': 803, 'main': 'Clouds', 'description': 'broken clouds', 'icon': '04d'}], 'clouds': {'all': 82}, 'wind': {'speed': 6.6, 'deg': 47}, 'visibility': 10000, 'pop': 0, 'sys': {'pod': 'd'}, 'dt_txt': '2020-10-03 09:00:00'}, {'dt': 1601726400, 'main': {'temp': 56.89, 'feels_like': 52.12, 'temp_min': 56.89, 'temp_max': 56.89, 'pressure': 1020, 'sea_level': 1020, 'grnd_level': 1020, 'humidity': 74, 'temp_kf': 0}, 'weather': [{'id': 804, 'main': 'Clouds', 'description': 'overcast clouds', 'icon': '04d'}], 'clouds': {'all': 90}, 'wind': {'speed': 7.99, 'deg': 44}, 'visibility': 10000, 'pop': 0, 'sys': {'pod': 'd'}, 'dt_txt': '2020-10-03 12:00:00'}, {'dt': 1601737200, 'main': {'temp': 57.33, 'feels_like': 53.06, 'temp_min': 57.33, 'temp_max': 57.33, 'pressure': 1019, 'sea_level': 1019, 'grnd_level': 1019, 'humidity': 76, 'temp_kf': 0}, 'weather': [{'id': 804, 'main': 'Clouds', 'description': 'overcast clouds', 'icon': '04d'}], 'clouds': {'all': 99}, 'wind': {'speed': 7.65, 'deg': 31}, 'visibility': 10000, 'pop': 0, 'sys': {'pod': 'd'}, 'dt_txt': '2020-10-03 15:00:00'}], 'city': {'id': 6453366, 'name': 'Oslo', 'coord': {'lat': 59.9118, 'lon': 10.7337}, 'country': 'NO', 'population': 0, 'timezone': 7200, 'sunrise': 1601270162, 'sunset': 1601312346}}\n"
     ]
    }
   ],
   "source": [
    "#make request for 5 day forecast\n",
    "request = requests.get(f'http://api.openweathermap.org/data/2.5/forecast?id={city_id_string}&APPID=333de4e909a5ffe9bfa46f0f89cad105&units=imperial&')\n",
    "\n",
    "json_data = json.loads(request.text)\n",
    "\n",
    "print(json_data)            #note how messy and hard to read this is. Yet, it is a dictionary\n"
   ]
  },
  {
   "cell_type": "markdown",
   "metadata": {},
   "source": [
    "This is messy, so let's separate each 3 hour forecast with a blank line. \n",
    "\n",
    "There is still a lot of data. How much exactly?  24 hours / 3 hours = 8. 5 days x 8 predictions per day = 40 predictions total."
   ]
  },
  {
   "cell_type": "code",
   "execution_count": 54,
   "metadata": {},
   "outputs": [
    {
     "name": "stdout",
     "output_type": "stream",
     "text": [
      "{'dt': 1601316000, 'main': {'temp': 56.91, 'feels_like': 55.47, 'temp_min': 56.82, 'temp_max': 56.91, 'pressure': 1003, 'sea_level': 1003, 'grnd_level': 1014, 'humidity': 78, 'temp_kf': 0.05}, 'weather': [{'id': 802, 'main': 'Clouds', 'description': 'scattered clouds', 'icon': '03n'}], 'clouds': {'all': 30}, 'wind': {'speed': 2.77, 'deg': 32}, 'visibility': 10000, 'pop': 0, 'sys': {'pod': 'n'}, 'dt_txt': '2020-09-28 18:00:00'}\n",
      "\n",
      "{'dt': 1601326800, 'main': {'temp': 57.09, 'feels_like': 55.96, 'temp_min': 57.09, 'temp_max': 57.11, 'pressure': 1010, 'sea_level': 1010, 'grnd_level': 1015, 'humidity': 81, 'temp_kf': -0.01}, 'weather': [{'id': 803, 'main': 'Clouds', 'description': 'broken clouds', 'icon': '04n'}], 'clouds': {'all': 83}, 'wind': {'speed': 2.8, 'deg': 39}, 'visibility': 10000, 'pop': 0, 'sys': {'pod': 'n'}, 'dt_txt': '2020-09-28 21:00:00'}\n",
      "\n",
      "{'dt': 1601337600, 'main': {'temp': 56.5, 'feels_like': 55.54, 'temp_min': 56.46, 'temp_max': 56.5, 'pressure': 1013, 'sea_level': 1013, 'grnd_level': 1014, 'humidity': 87, 'temp_kf': 0.02}, 'weather': [{'id': 500, 'main': 'Rain', 'description': 'light rain', 'icon': '10n'}], 'clouds': {'all': 95}, 'wind': {'speed': 3.18, 'deg': 33}, 'visibility': 10000, 'pop': 0.29, 'rain': {'3h': 0.2}, 'sys': {'pod': 'n'}, 'dt_txt': '2020-09-29 00:00:00'}\n",
      "\n",
      "{'dt': 1601348400, 'main': {'temp': 55.99, 'feels_like': 55.74, 'temp_min': 55.99, 'temp_max': 55.99, 'pressure': 1014, 'sea_level': 1014, 'grnd_level': 1014, 'humidity': 91, 'temp_kf': 0}, 'weather': [{'id': 500, 'main': 'Rain', 'description': 'light rain', 'icon': '10n'}], 'clouds': {'all': 96}, 'wind': {'speed': 2.33, 'deg': 47}, 'visibility': 10000, 'pop': 0.99, 'rain': {'3h': 1.26}, 'sys': {'pod': 'n'}, 'dt_txt': '2020-09-29 03:00:00'}\n",
      "\n",
      "{'dt': 1601359200, 'main': {'temp': 56.32, 'feels_like': 56.41, 'temp_min': 56.32, 'temp_max': 56.32, 'pressure': 1014, 'sea_level': 1014, 'grnd_level': 1014, 'humidity': 92, 'temp_kf': 0}, 'weather': [{'id': 500, 'main': 'Rain', 'description': 'light rain', 'icon': '10d'}], 'clouds': {'all': 98}, 'wind': {'speed': 2.06, 'deg': 130}, 'visibility': 6424, 'pop': 1, 'rain': {'3h': 1.32}, 'sys': {'pod': 'd'}, 'dt_txt': '2020-09-29 06:00:00'}\n",
      "\n",
      "{'dt': 1601370000, 'main': {'temp': 56.57, 'feels_like': 54.61, 'temp_min': 56.57, 'temp_max': 56.57, 'pressure': 1015, 'sea_level': 1015, 'grnd_level': 1015, 'humidity': 89, 'temp_kf': 0}, 'weather': [{'id': 500, 'main': 'Rain', 'description': 'light rain', 'icon': '10d'}], 'clouds': {'all': 100}, 'wind': {'speed': 5.35, 'deg': 176}, 'visibility': 9437, 'pop': 0.9, 'rain': {'3h': 0.67}, 'sys': {'pod': 'd'}, 'dt_txt': '2020-09-29 09:00:00'}\n",
      "\n",
      "{'dt': 1601380800, 'main': {'temp': 55.58, 'feels_like': 54.25, 'temp_min': 55.58, 'temp_max': 55.58, 'pressure': 1015, 'sea_level': 1015, 'grnd_level': 1015, 'humidity': 88, 'temp_kf': 0}, 'weather': [{'id': 500, 'main': 'Rain', 'description': 'light rain', 'icon': '10d'}], 'clouds': {'all': 99}, 'wind': {'speed': 3.53, 'deg': 159}, 'visibility': 10000, 'pop': 0.86, 'rain': {'3h': 0.5}, 'sys': {'pod': 'd'}, 'dt_txt': '2020-09-29 12:00:00'}\n",
      "\n",
      "{'dt': 1601391600, 'main': {'temp': 58.48, 'feels_like': 55.22, 'temp_min': 58.48, 'temp_max': 58.48, 'pressure': 1015, 'sea_level': 1015, 'grnd_level': 1015, 'humidity': 75, 'temp_kf': 0}, 'weather': [{'id': 803, 'main': 'Clouds', 'description': 'broken clouds', 'icon': '04d'}], 'clouds': {'all': 52}, 'wind': {'speed': 6.2, 'deg': 179}, 'visibility': 10000, 'pop': 0.03, 'sys': {'pod': 'd'}, 'dt_txt': '2020-09-29 15:00:00'}\n",
      "\n",
      "{'dt': 1601402400, 'main': {'temp': 51.31, 'feels_like': 48.92, 'temp_min': 51.31, 'temp_max': 51.31, 'pressure': 1016, 'sea_level': 1016, 'grnd_level': 1016, 'humidity': 90, 'temp_kf': 0}, 'weather': [{'id': 802, 'main': 'Clouds', 'description': 'scattered clouds', 'icon': '03n'}], 'clouds': {'all': 49}, 'wind': {'speed': 3.67, 'deg': 172}, 'visibility': 10000, 'pop': 0, 'sys': {'pod': 'n'}, 'dt_txt': '2020-09-29 18:00:00'}\n",
      "\n",
      "{'dt': 1601413200, 'main': {'temp': 49.19, 'feels_like': 47.34, 'temp_min': 49.19, 'temp_max': 49.19, 'pressure': 1017, 'sea_level': 1017, 'grnd_level': 1017, 'humidity': 91, 'temp_kf': 0}, 'weather': [{'id': 801, 'main': 'Clouds', 'description': 'few clouds', 'icon': '02n'}], 'clouds': {'all': 11}, 'wind': {'speed': 1.92, 'deg': 135}, 'visibility': 10000, 'pop': 0.08, 'sys': {'pod': 'n'}, 'dt_txt': '2020-09-29 21:00:00'}\n",
      "\n",
      "{'dt': 1601424000, 'main': {'temp': 51.48, 'feels_like': 49.41, 'temp_min': 51.48, 'temp_max': 51.48, 'pressure': 1017, 'sea_level': 1017, 'grnd_level': 1017, 'humidity': 89, 'temp_kf': 0}, 'weather': [{'id': 803, 'main': 'Clouds', 'description': 'broken clouds', 'icon': '04n'}], 'clouds': {'all': 51}, 'wind': {'speed': 3.04, 'deg': 129}, 'visibility': 10000, 'pop': 0.12, 'sys': {'pod': 'n'}, 'dt_txt': '2020-09-30 00:00:00'}\n",
      "\n",
      "{'dt': 1601434800, 'main': {'temp': 50.85, 'feels_like': 48.7, 'temp_min': 50.85, 'temp_max': 50.85, 'pressure': 1017, 'sea_level': 1017, 'grnd_level': 1017, 'humidity': 88, 'temp_kf': 0}, 'weather': [{'id': 500, 'main': 'Rain', 'description': 'light rain', 'icon': '10n'}], 'clouds': {'all': 100}, 'wind': {'speed': 2.77, 'deg': 123}, 'visibility': 10000, 'pop': 0.37, 'rain': {'3h': 0.21}, 'sys': {'pod': 'n'}, 'dt_txt': '2020-09-30 03:00:00'}\n",
      "\n",
      "{'dt': 1601445600, 'main': {'temp': 50.52, 'feels_like': 48.49, 'temp_min': 50.52, 'temp_max': 50.52, 'pressure': 1016, 'sea_level': 1016, 'grnd_level': 1016, 'humidity': 87, 'temp_kf': 0}, 'weather': [{'id': 804, 'main': 'Clouds', 'description': 'overcast clouds', 'icon': '04d'}], 'clouds': {'all': 100}, 'wind': {'speed': 2.28, 'deg': 110}, 'visibility': 10000, 'pop': 0.11, 'sys': {'pod': 'd'}, 'dt_txt': '2020-09-30 06:00:00'}\n",
      "\n",
      "{'dt': 1601456400, 'main': {'temp': 53.69, 'feels_like': 51.48, 'temp_min': 53.69, 'temp_max': 53.69, 'pressure': 1017, 'sea_level': 1017, 'grnd_level': 1017, 'humidity': 83, 'temp_kf': 0}, 'weather': [{'id': 804, 'main': 'Clouds', 'description': 'overcast clouds', 'icon': '04d'}], 'clouds': {'all': 93}, 'wind': {'speed': 3.44, 'deg': 142}, 'visibility': 10000, 'pop': 0.12, 'sys': {'pod': 'd'}, 'dt_txt': '2020-09-30 09:00:00'}\n",
      "\n",
      "{'dt': 1601467200, 'main': {'temp': 57.06, 'feels_like': 55, 'temp_min': 57.06, 'temp_max': 57.06, 'pressure': 1016, 'sea_level': 1016, 'grnd_level': 1016, 'humidity': 79, 'temp_kf': 0}, 'weather': [{'id': 804, 'main': 'Clouds', 'description': 'overcast clouds', 'icon': '04d'}], 'clouds': {'all': 97}, 'wind': {'speed': 4.09, 'deg': 160}, 'visibility': 10000, 'pop': 0.11, 'sys': {'pod': 'd'}, 'dt_txt': '2020-09-30 12:00:00'}\n",
      "\n",
      "{'dt': 1601478000, 'main': {'temp': 59.34, 'feels_like': 57.45, 'temp_min': 59.34, 'temp_max': 59.34, 'pressure': 1016, 'sea_level': 1016, 'grnd_level': 1016, 'humidity': 73, 'temp_kf': 0}, 'weather': [{'id': 500, 'main': 'Rain', 'description': 'light rain', 'icon': '10d'}], 'clouds': {'all': 61}, 'wind': {'speed': 3.83, 'deg': 168}, 'visibility': 10000, 'pop': 0.21, 'rain': {'3h': 0.22}, 'sys': {'pod': 'd'}, 'dt_txt': '2020-09-30 15:00:00'}\n",
      "\n",
      "{'dt': 1601488800, 'main': {'temp': 51.98, 'feels_like': 50.65, 'temp_min': 51.98, 'temp_max': 51.98, 'pressure': 1017, 'sea_level': 1017, 'grnd_level': 1017, 'humidity': 87, 'temp_kf': 0}, 'weather': [{'id': 803, 'main': 'Clouds', 'description': 'broken clouds', 'icon': '04n'}], 'clouds': {'all': 61}, 'wind': {'speed': 1.7, 'deg': 47}, 'visibility': 10000, 'pop': 0.01, 'sys': {'pod': 'n'}, 'dt_txt': '2020-09-30 18:00:00'}\n",
      "\n",
      "{'dt': 1601499600, 'main': {'temp': 51.13, 'feels_like': 48.97, 'temp_min': 51.13, 'temp_max': 51.13, 'pressure': 1017, 'sea_level': 1017, 'grnd_level': 1017, 'humidity': 87, 'temp_kf': 0}, 'weather': [{'id': 802, 'main': 'Clouds', 'description': 'scattered clouds', 'icon': '03n'}], 'clouds': {'all': 40}, 'wind': {'speed': 2.77, 'deg': 50}, 'visibility': 10000, 'pop': 0, 'sys': {'pod': 'n'}, 'dt_txt': '2020-09-30 21:00:00'}\n",
      "\n",
      "{'dt': 1601510400, 'main': {'temp': 50.41, 'feels_like': 47.66, 'temp_min': 50.41, 'temp_max': 50.41, 'pressure': 1016, 'sea_level': 1016, 'grnd_level': 1016, 'humidity': 88, 'temp_kf': 0}, 'weather': [{'id': 803, 'main': 'Clouds', 'description': 'broken clouds', 'icon': '04n'}], 'clouds': {'all': 51}, 'wind': {'speed': 3.67, 'deg': 46}, 'visibility': 10000, 'pop': 0, 'sys': {'pod': 'n'}, 'dt_txt': '2020-10-01 00:00:00'}\n",
      "\n",
      "{'dt': 1601521200, 'main': {'temp': 50.22, 'feels_like': 47.59, 'temp_min': 50.22, 'temp_max': 50.22, 'pressure': 1015, 'sea_level': 1015, 'grnd_level': 1015, 'humidity': 89, 'temp_kf': 0}, 'weather': [{'id': 804, 'main': 'Clouds', 'description': 'overcast clouds', 'icon': '04n'}], 'clouds': {'all': 90}, 'wind': {'speed': 3.47, 'deg': 50}, 'visibility': 10000, 'pop': 0, 'sys': {'pod': 'n'}, 'dt_txt': '2020-10-01 03:00:00'}\n",
      "\n",
      "{'dt': 1601532000, 'main': {'temp': 48.78, 'feels_like': 45.64, 'temp_min': 48.78, 'temp_max': 48.78, 'pressure': 1015, 'sea_level': 1015, 'grnd_level': 1015, 'humidity': 91, 'temp_kf': 0}, 'weather': [{'id': 803, 'main': 'Clouds', 'description': 'broken clouds', 'icon': '04d'}], 'clouds': {'all': 74}, 'wind': {'speed': 4.03, 'deg': 54}, 'visibility': 10000, 'pop': 0, 'sys': {'pod': 'd'}, 'dt_txt': '2020-10-01 06:00:00'}\n",
      "\n",
      "{'dt': 1601542800, 'main': {'temp': 51.94, 'feels_like': 48.11, 'temp_min': 51.94, 'temp_max': 51.94, 'pressure': 1015, 'sea_level': 1015, 'grnd_level': 1015, 'humidity': 82, 'temp_kf': 0}, 'weather': [{'id': 804, 'main': 'Clouds', 'description': 'overcast clouds', 'icon': '04d'}], 'clouds': {'all': 97}, 'wind': {'speed': 5.41, 'deg': 68}, 'visibility': 10000, 'pop': 0, 'sys': {'pod': 'd'}, 'dt_txt': '2020-10-01 09:00:00'}\n",
      "\n",
      "{'dt': 1601553600, 'main': {'temp': 57.97, 'feels_like': 53.8, 'temp_min': 57.97, 'temp_max': 57.97, 'pressure': 1015, 'sea_level': 1015, 'grnd_level': 1015, 'humidity': 67, 'temp_kf': 0}, 'weather': [{'id': 804, 'main': 'Clouds', 'description': 'overcast clouds', 'icon': '04d'}], 'clouds': {'all': 94}, 'wind': {'speed': 6.22, 'deg': 85}, 'visibility': 10000, 'pop': 0, 'sys': {'pod': 'd'}, 'dt_txt': '2020-10-01 12:00:00'}\n",
      "\n",
      "{'dt': 1601564400, 'main': {'temp': 60.01, 'feels_like': 55.74, 'temp_min': 60.01, 'temp_max': 60.01, 'pressure': 1014, 'sea_level': 1014, 'grnd_level': 1014, 'humidity': 61, 'temp_kf': 0}, 'weather': [{'id': 800, 'main': 'Clear', 'description': 'clear sky', 'icon': '01d'}], 'clouds': {'all': 9}, 'wind': {'speed': 6.13, 'deg': 75}, 'visibility': 10000, 'pop': 0, 'sys': {'pod': 'd'}, 'dt_txt': '2020-10-01 15:00:00'}\n",
      "\n",
      "{'dt': 1601575200, 'main': {'temp': 52.3, 'feels_like': 47.91, 'temp_min': 52.3, 'temp_max': 52.3, 'pressure': 1015, 'sea_level': 1015, 'grnd_level': 1015, 'humidity': 77, 'temp_kf': 0}, 'weather': [{'id': 800, 'main': 'Clear', 'description': 'clear sky', 'icon': '01n'}], 'clouds': {'all': 5}, 'wind': {'speed': 5.86, 'deg': 49}, 'visibility': 10000, 'pop': 0, 'sys': {'pod': 'n'}, 'dt_txt': '2020-10-01 18:00:00'}\n",
      "\n",
      "{'dt': 1601586000, 'main': {'temp': 53.02, 'feels_like': 47.39, 'temp_min': 53.02, 'temp_max': 53.02, 'pressure': 1015, 'sea_level': 1015, 'grnd_level': 1015, 'humidity': 82, 'temp_kf': 0}, 'weather': [{'id': 803, 'main': 'Clouds', 'description': 'broken clouds', 'icon': '04n'}], 'clouds': {'all': 63}, 'wind': {'speed': 9.08, 'deg': 59}, 'visibility': 10000, 'pop': 0, 'sys': {'pod': 'n'}, 'dt_txt': '2020-10-01 21:00:00'}\n",
      "\n",
      "{'dt': 1601596800, 'main': {'temp': 52.88, 'feels_like': 47.37, 'temp_min': 52.88, 'temp_max': 52.88, 'pressure': 1015, 'sea_level': 1015, 'grnd_level': 1015, 'humidity': 86, 'temp_kf': 0}, 'weather': [{'id': 500, 'main': 'Rain', 'description': 'light rain', 'icon': '10n'}], 'clouds': {'all': 81}, 'wind': {'speed': 9.37, 'deg': 57}, 'visibility': 10000, 'pop': 0.58, 'rain': {'3h': 0.87}, 'sys': {'pod': 'n'}, 'dt_txt': '2020-10-02 00:00:00'}\n",
      "\n",
      "{'dt': 1601607600, 'main': {'temp': 51.82, 'feels_like': 45.28, 'temp_min': 51.82, 'temp_max': 51.82, 'pressure': 1015, 'sea_level': 1015, 'grnd_level': 1015, 'humidity': 84, 'temp_kf': 0}, 'weather': [{'id': 500, 'main': 'Rain', 'description': 'light rain', 'icon': '10n'}], 'clouds': {'all': 100}, 'wind': {'speed': 10.45, 'deg': 57}, 'visibility': 10000, 'pop': 0.33, 'rain': {'3h': 0.12}, 'sys': {'pod': 'n'}, 'dt_txt': '2020-10-02 03:00:00'}\n",
      "\n",
      "{'dt': 1601618400, 'main': {'temp': 49.84, 'feels_like': 44.17, 'temp_min': 49.84, 'temp_max': 49.84, 'pressure': 1016, 'sea_level': 1016, 'grnd_level': 1016, 'humidity': 87, 'temp_kf': 0}, 'weather': [{'id': 804, 'main': 'Clouds', 'description': 'overcast clouds', 'icon': '04d'}], 'clouds': {'all': 87}, 'wind': {'speed': 8.46, 'deg': 51}, 'visibility': 10000, 'pop': 0.25, 'sys': {'pod': 'd'}, 'dt_txt': '2020-10-02 06:00:00'}\n",
      "\n",
      "{'dt': 1601629200, 'main': {'temp': 54.81, 'feels_like': 49.1, 'temp_min': 54.81, 'temp_max': 54.81, 'pressure': 1017, 'sea_level': 1017, 'grnd_level': 1017, 'humidity': 78, 'temp_kf': 0}, 'weather': [{'id': 803, 'main': 'Clouds', 'description': 'broken clouds', 'icon': '04d'}], 'clouds': {'all': 80}, 'wind': {'speed': 9.4, 'deg': 63}, 'visibility': 10000, 'pop': 0, 'sys': {'pod': 'd'}, 'dt_txt': '2020-10-02 09:00:00'}\n",
      "\n",
      "{'dt': 1601640000, 'main': {'temp': 58.77, 'feels_like': 53.28, 'temp_min': 58.77, 'temp_max': 58.77, 'pressure': 1018, 'sea_level': 1018, 'grnd_level': 1018, 'humidity': 70, 'temp_kf': 0}, 'weather': [{'id': 804, 'main': 'Clouds', 'description': 'overcast clouds', 'icon': '04d'}], 'clouds': {'all': 88}, 'wind': {'speed': 9.42, 'deg': 67}, 'visibility': 10000, 'pop': 0, 'sys': {'pod': 'd'}, 'dt_txt': '2020-10-02 12:00:00'}\n",
      "\n",
      "{'dt': 1601650800, 'main': {'temp': 56.21, 'feels_like': 50.9, 'temp_min': 56.21, 'temp_max': 56.21, 'pressure': 1018, 'sea_level': 1018, 'grnd_level': 1018, 'humidity': 79, 'temp_kf': 0}, 'weather': [{'id': 500, 'main': 'Rain', 'description': 'light rain', 'icon': '10d'}], 'clouds': {'all': 100}, 'wind': {'speed': 9.46, 'deg': 59}, 'visibility': 10000, 'pop': 0.21, 'rain': {'3h': 0.14}, 'sys': {'pod': 'd'}, 'dt_txt': '2020-10-02 15:00:00'}\n",
      "\n",
      "{'dt': 1601661600, 'main': {'temp': 55.78, 'feels_like': 50.7, 'temp_min': 55.78, 'temp_max': 55.78, 'pressure': 1019, 'sea_level': 1019, 'grnd_level': 1019, 'humidity': 78, 'temp_kf': 0}, 'weather': [{'id': 500, 'main': 'Rain', 'description': 'light rain', 'icon': '10n'}], 'clouds': {'all': 99}, 'wind': {'speed': 8.68, 'deg': 62}, 'visibility': 10000, 'pop': 0.25, 'rain': {'3h': 0.23}, 'sys': {'pod': 'n'}, 'dt_txt': '2020-10-02 18:00:00'}\n",
      "\n",
      "{'dt': 1601672400, 'main': {'temp': 55.15, 'feels_like': 50.45, 'temp_min': 55.15, 'temp_max': 55.15, 'pressure': 1020, 'sea_level': 1020, 'grnd_level': 1020, 'humidity': 79, 'temp_kf': 0}, 'weather': [{'id': 804, 'main': 'Clouds', 'description': 'overcast clouds', 'icon': '04n'}], 'clouds': {'all': 100}, 'wind': {'speed': 7.9, 'deg': 61}, 'visibility': 10000, 'pop': 0.01, 'sys': {'pod': 'n'}, 'dt_txt': '2020-10-02 21:00:00'}\n",
      "\n",
      "{'dt': 1601683200, 'main': {'temp': 52.23, 'feels_like': 47.79, 'temp_min': 52.23, 'temp_max': 52.23, 'pressure': 1021, 'sea_level': 1021, 'grnd_level': 1021, 'humidity': 85, 'temp_kf': 0}, 'weather': [{'id': 804, 'main': 'Clouds', 'description': 'overcast clouds', 'icon': '04n'}], 'clouds': {'all': 92}, 'wind': {'speed': 7.05, 'deg': 52}, 'visibility': 10000, 'pop': 0.01, 'sys': {'pod': 'n'}, 'dt_txt': '2020-10-03 00:00:00'}\n",
      "\n",
      "{'dt': 1601694000, 'main': {'temp': 51.62, 'feels_like': 47.88, 'temp_min': 51.62, 'temp_max': 51.62, 'pressure': 1020, 'sea_level': 1020, 'grnd_level': 1020, 'humidity': 82, 'temp_kf': 0}, 'weather': [{'id': 804, 'main': 'Clouds', 'description': 'overcast clouds', 'icon': '04n'}], 'clouds': {'all': 95}, 'wind': {'speed': 5.12, 'deg': 31}, 'visibility': 10000, 'pop': 0.18, 'sys': {'pod': 'n'}, 'dt_txt': '2020-10-03 03:00:00'}\n",
      "\n",
      "{'dt': 1601704800, 'main': {'temp': 51.48, 'feels_like': 48.04, 'temp_min': 51.48, 'temp_max': 51.48, 'pressure': 1021, 'sea_level': 1021, 'grnd_level': 1021, 'humidity': 87, 'temp_kf': 0}, 'weather': [{'id': 500, 'main': 'Rain', 'description': 'light rain', 'icon': '10d'}], 'clouds': {'all': 94}, 'wind': {'speed': 5.21, 'deg': 40}, 'visibility': 10000, 'pop': 0.28, 'rain': {'3h': 0.12}, 'sys': {'pod': 'd'}, 'dt_txt': '2020-10-03 06:00:00'}\n",
      "\n",
      "{'dt': 1601715600, 'main': {'temp': 54.46, 'feels_like': 50.32, 'temp_min': 54.46, 'temp_max': 54.46, 'pressure': 1021, 'sea_level': 1021, 'grnd_level': 1021, 'humidity': 79, 'temp_kf': 0}, 'weather': [{'id': 803, 'main': 'Clouds', 'description': 'broken clouds', 'icon': '04d'}], 'clouds': {'all': 82}, 'wind': {'speed': 6.6, 'deg': 47}, 'visibility': 10000, 'pop': 0, 'sys': {'pod': 'd'}, 'dt_txt': '2020-10-03 09:00:00'}\n",
      "\n",
      "{'dt': 1601726400, 'main': {'temp': 56.89, 'feels_like': 52.12, 'temp_min': 56.89, 'temp_max': 56.89, 'pressure': 1020, 'sea_level': 1020, 'grnd_level': 1020, 'humidity': 74, 'temp_kf': 0}, 'weather': [{'id': 804, 'main': 'Clouds', 'description': 'overcast clouds', 'icon': '04d'}], 'clouds': {'all': 90}, 'wind': {'speed': 7.99, 'deg': 44}, 'visibility': 10000, 'pop': 0, 'sys': {'pod': 'd'}, 'dt_txt': '2020-10-03 12:00:00'}\n",
      "\n",
      "{'dt': 1601737200, 'main': {'temp': 57.33, 'feels_like': 53.06, 'temp_min': 57.33, 'temp_max': 57.33, 'pressure': 1019, 'sea_level': 1019, 'grnd_level': 1019, 'humidity': 76, 'temp_kf': 0}, 'weather': [{'id': 804, 'main': 'Clouds', 'description': 'overcast clouds', 'icon': '04d'}], 'clouds': {'all': 99}, 'wind': {'speed': 7.65, 'deg': 31}, 'visibility': 10000, 'pop': 0, 'sys': {'pod': 'd'}, 'dt_txt': '2020-10-03 15:00:00'}\n",
      "\n"
     ]
    }
   ],
   "source": [
    "#take my word for it, the interesting stuff is in the 'list' key of the json_data dictionary\n",
    "\n",
    "for measurement in json_data['list']:\n",
    "    print(measurement)\n",
    "    print()"
   ]
  },
  {
   "cell_type": "markdown",
   "metadata": {},
   "source": [
    "If I was not sure how many items were in this list, I can print it using the python built-in len() function"
   ]
  },
  {
   "cell_type": "code",
   "execution_count": 55,
   "metadata": {},
   "outputs": [
    {
     "name": "stdout",
     "output_type": "stream",
     "text": [
      "40\n"
     ]
    }
   ],
   "source": [
    "print(len(json_data['list']))"
   ]
  },
  {
   "cell_type": "markdown",
   "metadata": {},
   "source": [
    "*** Do It Yourself ***\n",
    "\n",
    "Print the datetime stamp for each measurement\n"
   ]
  },
  {
   "cell_type": "code",
   "execution_count": 63,
   "metadata": {},
   "outputs": [
    {
     "name": "stdout",
     "output_type": "stream",
     "text": [
      "2020-09-28 18:00:00\n",
      "2020-09-28 21:00:00\n",
      "2020-09-29 00:00:00\n",
      "2020-09-29 03:00:00\n",
      "2020-09-29 06:00:00\n",
      "2020-09-29 09:00:00\n",
      "2020-09-29 12:00:00\n",
      "2020-09-29 15:00:00\n",
      "2020-09-29 18:00:00\n",
      "2020-09-29 21:00:00\n",
      "2020-09-30 00:00:00\n",
      "2020-09-30 03:00:00\n",
      "2020-09-30 06:00:00\n",
      "2020-09-30 09:00:00\n",
      "2020-09-30 12:00:00\n",
      "2020-09-30 15:00:00\n",
      "2020-09-30 18:00:00\n",
      "2020-09-30 21:00:00\n",
      "2020-10-01 00:00:00\n",
      "2020-10-01 03:00:00\n",
      "2020-10-01 06:00:00\n",
      "2020-10-01 09:00:00\n",
      "2020-10-01 12:00:00\n",
      "2020-10-01 15:00:00\n",
      "2020-10-01 18:00:00\n",
      "2020-10-01 21:00:00\n",
      "2020-10-02 00:00:00\n",
      "2020-10-02 03:00:00\n",
      "2020-10-02 06:00:00\n",
      "2020-10-02 09:00:00\n",
      "2020-10-02 12:00:00\n",
      "2020-10-02 15:00:00\n",
      "2020-10-02 18:00:00\n",
      "2020-10-02 21:00:00\n",
      "2020-10-03 00:00:00\n",
      "2020-10-03 03:00:00\n",
      "2020-10-03 06:00:00\n",
      "2020-10-03 09:00:00\n",
      "2020-10-03 12:00:00\n",
      "2020-10-03 15:00:00\n"
     ]
    }
   ],
   "source": [
    "# Write your code here. Start with this...\n",
    "\n",
    "for measurement in json_data['list']:\n",
    "    print(measurement)\n",
    "    print()"
   ]
  },
  {
   "cell_type": "markdown",
   "metadata": {},
   "source": [
    "*** Do It Yourself ***\n",
    "\n",
    "Print just the datetime stamp if the time is midnight"
   ]
  },
  {
   "cell_type": "code",
   "execution_count": 66,
   "metadata": {},
   "outputs": [
    {
     "name": "stdout",
     "output_type": "stream",
     "text": [
      "2020-09-29 00:00:00\n",
      "2020-09-30 00:00:00\n",
      "2020-10-01 00:00:00\n",
      "2020-10-02 00:00:00\n",
      "2020-10-03 00:00:00\n"
     ]
    }
   ],
   "source": [
    "# Write your code here. Start with this...\n",
    "\n",
    "\n",
    "for measurement in json_data['list']:\n",
    "    if measurement['dt_txt'][11:20] == '00:00:00':\n",
    "        print(measurement['dt_txt'])\n"
   ]
  },
  {
   "cell_type": "markdown",
   "metadata": {},
   "source": [
    "Just as an example, let's use string indexing to find one forecast prediction for each day. Luckily, this data is structured so look at the below example. From looking at the data, in the 'dt_txt' key I have a standard date/time stamp. You can see below I am taking the measurement at just 12 noon for each day. The time stamp is at the locations 11-20 in each 'dt_txt' key.\n",
    "\n",
    "After doing this, I just have 5 results. One for each of the next five days for my target city."
   ]
  },
  {
   "cell_type": "code",
   "execution_count": 56,
   "metadata": {},
   "outputs": [
    {
     "name": "stdout",
     "output_type": "stream",
     "text": [
      "{'dt': 1601380800, 'main': {'temp': 55.58, 'feels_like': 54.25, 'temp_min': 55.58, 'temp_max': 55.58, 'pressure': 1015, 'sea_level': 1015, 'grnd_level': 1015, 'humidity': 88, 'temp_kf': 0}, 'weather': [{'id': 500, 'main': 'Rain', 'description': 'light rain', 'icon': '10d'}], 'clouds': {'all': 99}, 'wind': {'speed': 3.53, 'deg': 159}, 'visibility': 10000, 'pop': 0.86, 'rain': {'3h': 0.5}, 'sys': {'pod': 'd'}, 'dt_txt': '2020-09-29 12:00:00'}\n",
      "2020-09-29\n",
      "55.58\n",
      "\n",
      "{'dt': 1601467200, 'main': {'temp': 57.06, 'feels_like': 55, 'temp_min': 57.06, 'temp_max': 57.06, 'pressure': 1016, 'sea_level': 1016, 'grnd_level': 1016, 'humidity': 79, 'temp_kf': 0}, 'weather': [{'id': 804, 'main': 'Clouds', 'description': 'overcast clouds', 'icon': '04d'}], 'clouds': {'all': 97}, 'wind': {'speed': 4.09, 'deg': 160}, 'visibility': 10000, 'pop': 0.11, 'sys': {'pod': 'd'}, 'dt_txt': '2020-09-30 12:00:00'}\n",
      "2020-09-30\n",
      "57.06\n",
      "\n",
      "{'dt': 1601553600, 'main': {'temp': 57.97, 'feels_like': 53.8, 'temp_min': 57.97, 'temp_max': 57.97, 'pressure': 1015, 'sea_level': 1015, 'grnd_level': 1015, 'humidity': 67, 'temp_kf': 0}, 'weather': [{'id': 804, 'main': 'Clouds', 'description': 'overcast clouds', 'icon': '04d'}], 'clouds': {'all': 94}, 'wind': {'speed': 6.22, 'deg': 85}, 'visibility': 10000, 'pop': 0, 'sys': {'pod': 'd'}, 'dt_txt': '2020-10-01 12:00:00'}\n",
      "2020-10-01\n",
      "57.97\n",
      "\n",
      "{'dt': 1601640000, 'main': {'temp': 58.77, 'feels_like': 53.28, 'temp_min': 58.77, 'temp_max': 58.77, 'pressure': 1018, 'sea_level': 1018, 'grnd_level': 1018, 'humidity': 70, 'temp_kf': 0}, 'weather': [{'id': 804, 'main': 'Clouds', 'description': 'overcast clouds', 'icon': '04d'}], 'clouds': {'all': 88}, 'wind': {'speed': 9.42, 'deg': 67}, 'visibility': 10000, 'pop': 0, 'sys': {'pod': 'd'}, 'dt_txt': '2020-10-02 12:00:00'}\n",
      "2020-10-02\n",
      "58.77\n",
      "\n",
      "{'dt': 1601726400, 'main': {'temp': 56.89, 'feels_like': 52.12, 'temp_min': 56.89, 'temp_max': 56.89, 'pressure': 1020, 'sea_level': 1020, 'grnd_level': 1020, 'humidity': 74, 'temp_kf': 0}, 'weather': [{'id': 804, 'main': 'Clouds', 'description': 'overcast clouds', 'icon': '04d'}], 'clouds': {'all': 90}, 'wind': {'speed': 7.99, 'deg': 44}, 'visibility': 10000, 'pop': 0, 'sys': {'pod': 'd'}, 'dt_txt': '2020-10-03 12:00:00'}\n",
      "2020-10-03\n",
      "56.89\n",
      "\n"
     ]
    }
   ],
   "source": [
    "for daily_measurement in json_data['list']:\n",
    "    if daily_measurement['dt_txt'][11:20] == '12:00:00':\n",
    "        print(daily_measurement)\n",
    "        print(daily_measurement['dt_txt'][:10])\n",
    "        print(daily_measurement['main']['temp'])                                   #it gets tricky to parse through nested dictionaries\n",
    "        print()"
   ]
  },
  {
   "cell_type": "markdown",
   "metadata": {},
   "source": [
    "Here, I use some string formatting and a little more filtering to print some nice looking output. Here, I have found the time stamp of 12 noon for each day. Then within that I have taken the date from the date/time stamp. Then the temperature for each day. And finally put it all together in a string, printing the city, date, and temperature for that day."
   ]
  },
  {
   "cell_type": "code",
   "execution_count": 57,
   "metadata": {},
   "outputs": [
    {
     "name": "stdout",
     "output_type": "stream",
     "text": [
      "The temperature in Oslo on 2020-09-29 will be 55.58 degrees\n",
      "The temperature in Oslo on 2020-09-30 will be 57.06 degrees\n",
      "The temperature in Oslo on 2020-10-01 will be 57.97 degrees\n",
      "The temperature in Oslo on 2020-10-02 will be 58.77 degrees\n",
      "The temperature in Oslo on 2020-10-03 will be 56.89 degrees\n"
     ]
    }
   ],
   "source": [
    "#A cleaner version of the above block\n",
    "for daily_measurement in json_data['list']:\n",
    "    time_stamp = daily_measurement['dt_txt'][11:20]\n",
    "    if time_stamp == '12:00:00':\n",
    "        day = daily_measurement['dt_txt'][:10]\n",
    "        temperature = daily_measurement['main']['temp']\n",
    "        print(f'The temperature in {city_name} on {day} will be {temperature} degrees')"
   ]
  },
  {
   "cell_type": "markdown",
   "metadata": {},
   "source": [
    "So as you see, this allows you to slice and dice the weather data in many ways. You can automate things, depending on weather conditions, link this to other applications, and so on. I encourange you to play with the script, change the city, look at the results, and so on. "
   ]
  },
  {
   "cell_type": "code",
   "execution_count": null,
   "metadata": {},
   "outputs": [],
   "source": []
  }
 ],
 "metadata": {
  "kernelspec": {
   "display_name": "Python 3",
   "language": "python",
   "name": "python3"
  },
  "language_info": {
   "codemirror_mode": {
    "name": "ipython",
    "version": 3
   },
   "file_extension": ".py",
   "mimetype": "text/x-python",
   "name": "python",
   "nbconvert_exporter": "python",
   "pygments_lexer": "ipython3",
   "version": "3.7.4"
  }
 },
 "nbformat": 4,
 "nbformat_minor": 4
}
