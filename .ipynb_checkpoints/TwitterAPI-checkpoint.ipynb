{
 "cells": [
  {
   "cell_type": "markdown",
   "metadata": {},
   "source": [
    "## Python Twitter API\n",
    "\n",
    "This is an introduction workshop to APIs. Specifically, we will be using the python API for various applications\n",
    "\n",
    "*The following is taken from [Stack Abuse](https://stackabuse.com/accessing-the-twitter-api-with-python/)*\n",
    "\n",
    "There are many APIs on the Twitter platform that software developers can engage with, with the possibility to create fully automated systems which will innteract with Twitter. While this feature could benefit companies by drawing insights from Twitter data, it is also suitable for smaller-scale projects, research, and fun.\n",
    "\n",
    "## Get Credentials (API Key)\n",
    "\n",
    "Before using the Twitter API, you first need a Twitter account. If you have not registered for a Twitter account, sign up for one [here](https://twitter.com/home). The process of getting credentials actively changes over time but currently (as of 10/2/2019) it is currently as follows:\n",
    "\n",
    "- Visit the Application Management page at https://apps.twitter.com/, and sign in with your Twitter account\n",
    "- Click on the \"Create New App\" button, fill in the details and agree the Terms of Service. This might take time to become \"verified\" by Twitter!\n",
    "- Navigate to \"Keys and Access Tokens\" section and take a note of your Consumer Key and Secret\n",
    "- In the same section click on \"Create my access token\" button\n",
    "- Take note of your Access Token, Access Token Secret, etc.\n",
    "\n",
    "And that's all. The consumer key/secret is used to authenticate the app that is using the Twitter API, while the access token/secret authenticates the user. All of these parameters should be treated as passwords, and should not be included in your code in plain text.\n",
    "\n",
    "## Python Wrappers for Twitter\n",
    "\n",
    "Perhaps \"wrapper\" is a better term for how to describe Twitter's python API, because the following examples are using python specific libraries to create code to \"wrap\" around the API to do various things. I will give examples with a couple libraries I have used, though there are many more. Don't hesitate to use another one you already know and like better than these. The two we will be using in this notebook are Twython and Tweepy\n",
    "\n",
    "## Before getting started\n",
    "\n",
    "*Workshop Attendees*\n",
    "I'm using this code in several environments. One is for hands-on workshops where the notebook will be hosted on the Rivanna Cluster (UVA's high performance computing cluster). Workshop attendees will basically be running this notebook in a virtual environment hosted on Rivanna. We are doing it this way because everyone has a different system so we are using Rivanna so everyone has the same environment, with the same libraries installed. This way we can focus on the code and the concepts without running into technical roadblocks while getting started.\n",
    "\n",
    "*On Your Own*\n",
    "I have also made this code available as a .py file, as well as this jupyter notebook, in a [github repository](https://github.com/epurpur/pythonAPI). You are free to use it as you like. However you'll need to install some of these packages yourself using pip or another package manager (conda for example). In the code, I've noted where you'll need to install these things yourself. \n",
    "\n"
   ]
  },
  {
   "cell_type": "markdown",
   "metadata": {},
   "source": [
    "## Twython\n",
    "\n",
    "Get the docs [here](https://twython.readthedocs.io/en/latest)\n",
    "\"Twython is an actively maintained, pure python wrapper for the Twitter API...\"\n",
    "\n",
    "In Twython, we will be making requests to the Twitter via the API and parsing the data returned by those requests.\n",
    "\n",
    "To experiment on your own, take a look at the documentation. Particulary the [starting out page](https://twython.readthedocs.io/en/latest/usage/starting_out.html)\n",
    "\n",
    "After walking through these quick examples, [read this article](https://realpython.com/twitter-bot-python-tweepy/) to see how to build a much more sophisticated Twitter bot."
   ]
  },
  {
   "cell_type": "code",
   "execution_count": 4,
   "metadata": {},
   "outputs": [
    {
     "name": "stdout",
     "output_type": "stream",
     "text": [
      "Requirement already satisfied: Twython in /Applications/anaconda3/lib/python3.7/site-packages (3.7.0)\n",
      "Requirement already satisfied: requests>=2.1.0 in /Applications/anaconda3/lib/python3.7/site-packages (from Twython) (2.22.0)\n",
      "Requirement already satisfied: requests-oauthlib>=0.4.0 in /Applications/anaconda3/lib/python3.7/site-packages (from Twython) (1.2.0)\n",
      "Requirement already satisfied: urllib3!=1.25.0,!=1.25.1,<1.26,>=1.21.1 in /Applications/anaconda3/lib/python3.7/site-packages (from requests>=2.1.0->Twython) (1.24.2)\n",
      "Requirement already satisfied: chardet<3.1.0,>=3.0.2 in /Applications/anaconda3/lib/python3.7/site-packages (from requests>=2.1.0->Twython) (3.0.4)\n",
      "Requirement already satisfied: certifi>=2017.4.17 in /Applications/anaconda3/lib/python3.7/site-packages (from requests>=2.1.0->Twython) (2019.6.16)\n",
      "Requirement already satisfied: idna<2.9,>=2.5 in /Applications/anaconda3/lib/python3.7/site-packages (from requests>=2.1.0->Twython) (2.8)\n",
      "Requirement already satisfied: oauthlib>=3.0.0 in /Applications/anaconda3/lib/python3.7/site-packages (from requests-oauthlib>=0.4.0->Twython) (3.1.0)\n",
      "Collecting json\n",
      "\u001b[31m  ERROR: Could not find a version that satisfies the requirement json (from versions: none)\u001b[0m\n",
      "\u001b[31mERROR: No matching distribution found for json\u001b[0m\n"
     ]
    }
   ],
   "source": [
    "#Installing the libraries we need to use\n",
    "\n",
    "!pip install Twython"
   ]
  },
  {
   "cell_type": "code",
   "execution_count": 3,
   "metadata": {},
   "outputs": [],
   "source": [
    "# Import needed libraries for our examples\n",
    "\n",
    "from twython import Twython\n",
    "import json"
   ]
  },
  {
   "cell_type": "code",
   "execution_count": 4,
   "metadata": {},
   "outputs": [],
   "source": [
    "#To find your twitter API keys, go here (after login): https://developer.twitter.com/en/apps/\n",
    "\n",
    "twython_key = 'your API key as string here'              #Copy and paste your API consumer key here. This is NOT secure and is only being used as an example\n",
    "twython_secret = 'your API consumer secret as string here'    #Copy and paste your API consumer secret here. This is NOT secure and is only being used as an example\n",
    "\n",
    "\n",
    "#example = '0rt859683mmdmgntwo3498w'"
   ]
  },
  {
   "cell_type": "code",
   "execution_count": 26,
   "metadata": {},
   "outputs": [
    {
     "name": "stdout",
     "output_type": "stream",
     "text": [
      "{'statuses': [{'created_at': 'Tue Oct 01 22:33:30 +0000 2019', 'id': 1179162451142696960, 'id_str': '1179162451142696960', 'text': 'No. 1 @uvawomensoccer\\nNo. 1 @uvamensoccer\\n\\nWhat a time to be UVA! https://t.co/Stp5er67YQ', 'truncated': False, 'entities': {'hashtags': [], 'symbols': [], 'user_mentions': [{'screen_name': 'UVAWomenSoccer', 'name': \"Virginia Women's Soccer\", 'id': 63462396, 'id_str': '63462396', 'indices': [6, 21]}, {'screen_name': 'UVAMenSoccer', 'name': \"Virginia Men's Soccer\", 'id': 50316406, 'id_str': '50316406', 'indices': [28, 41]}], 'urls': [], 'media': [{'id': 1179162440799526913, 'id_str': '1179162440799526913', 'indices': [66, 89], 'media_url': 'http://pbs.twimg.com/media/EF05_hBWoAETloi.jpg', 'media_url_https': 'https://pbs.twimg.com/media/EF05_hBWoAETloi.jpg', 'url': 'https://t.co/Stp5er67YQ', 'display_url': 'pic.twitter.com/Stp5er67YQ', 'expanded_url': 'https://twitter.com/accnetwork/status/1179162451142696960/photo/1', 'type': 'photo', 'sizes': {'large': {'w': 1080, 'h': 1080, 'resize': 'fit'}, 'thumb': {'w': 150, 'h': 150, 'resize': 'crop'}, 'medium': {'w': 1080, 'h': 1080, 'resize': 'fit'}, 'small': {'w': 680, 'h': 680, 'resize': 'fit'}}}]}, 'extended_entities': {'media': [{'id': 1179162440799526913, 'id_str': '1179162440799526913', 'indices': [66, 89], 'media_url': 'http://pbs.twimg.com/media/EF05_hBWoAETloi.jpg', 'media_url_https': 'https://pbs.twimg.com/media/EF05_hBWoAETloi.jpg', 'url': 'https://t.co/Stp5er67YQ', 'display_url': 'pic.twitter.com/Stp5er67YQ', 'expanded_url': 'https://twitter.com/accnetwork/status/1179162451142696960/photo/1', 'type': 'photo', 'sizes': {'large': {'w': 1080, 'h': 1080, 'resize': 'fit'}, 'thumb': {'w': 150, 'h': 150, 'resize': 'crop'}, 'medium': {'w': 1080, 'h': 1080, 'resize': 'fit'}, 'small': {'w': 680, 'h': 680, 'resize': 'fit'}}}]}, 'metadata': {'result_type': 'popular', 'iso_language_code': 'en'}, 'source': '<a href=\"https://mobile.twitter.com\" rel=\"nofollow\">Twitter Web App</a>', 'in_reply_to_status_id': None, 'in_reply_to_status_id_str': None, 'in_reply_to_user_id': None, 'in_reply_to_user_id_str': None, 'in_reply_to_screen_name': None, 'user': {'id': 1063530710277984258, 'id_str': '1063530710277984258', 'name': 'ACC Network', 'screen_name': 'accnetwork', 'location': '', 'description': 'The official account of the ACC Network. #WeDoThis', 'url': 'https://t.co/tX0ecg0KVd', 'entities': {'url': {'urls': [{'url': 'https://t.co/tX0ecg0KVd', 'expanded_url': 'http://GetACCN.com', 'display_url': 'GetACCN.com', 'indices': [0, 23]}]}, 'description': {'urls': []}}, 'protected': False, 'followers_count': 47706, 'friends_count': 340, 'listed_count': 153, 'created_at': 'Fri Nov 16 20:34:15 +0000 2018', 'favourites_count': 863, 'utc_offset': None, 'time_zone': None, 'geo_enabled': True, 'verified': True, 'statuses_count': 857, 'lang': None, 'contributors_enabled': False, 'is_translator': False, 'is_translation_enabled': False, 'profile_background_color': 'F5F8FA', 'profile_background_image_url': None, 'profile_background_image_url_https': None, 'profile_background_tile': False, 'profile_image_url': 'http://pbs.twimg.com/profile_images/1078693792142766080/tyr2o44L_normal.jpg', 'profile_image_url_https': 'https://pbs.twimg.com/profile_images/1078693792142766080/tyr2o44L_normal.jpg', 'profile_banner_url': 'https://pbs.twimg.com/profile_banners/1063530710277984258/1566517908', 'profile_link_color': '1DA1F2', 'profile_sidebar_border_color': 'C0DEED', 'profile_sidebar_fill_color': 'DDEEF6', 'profile_text_color': '333333', 'profile_use_background_image': True, 'has_extended_profile': True, 'default_profile': True, 'default_profile_image': False, 'following': None, 'follow_request_sent': None, 'notifications': None, 'translator_type': 'none'}, 'geo': None, 'coordinates': None, 'place': None, 'contributors': None, 'is_quote_status': False, 'retweet_count': 163, 'favorite_count': 792, 'favorited': False, 'retweeted': False, 'possibly_sensitive': False, 'lang': 'en'}, {'created_at': 'Tue Oct 01 13:29:00 +0000 2019', 'id': 1179025421016322049, 'id_str': '1179025421016322049', 'text': 'Why is the ACC down this year? Well, start on the O-line...\\n\\nRate of pressures allowed vs FBS:\\nFBS avg, 29.1%\\n73. U… https://t.co/DfAJsI5gCk', 'truncated': True, 'entities': {'hashtags': [], 'symbols': [], 'user_mentions': [], 'urls': [{'url': 'https://t.co/DfAJsI5gCk', 'expanded_url': 'https://twitter.com/i/web/status/1179025421016322049', 'display_url': 'twitter.com/i/web/status/1…', 'indices': [117, 140]}]}, 'metadata': {'result_type': 'popular', 'iso_language_code': 'en'}, 'source': '<a href=\"https://about.twitter.com/products/tweetdeck\" rel=\"nofollow\">TweetDeck</a>', 'in_reply_to_status_id': None, 'in_reply_to_status_id_str': None, 'in_reply_to_user_id': None, 'in_reply_to_user_id_str': None, 'in_reply_to_screen_name': None, 'user': {'id': 604982671, 'id_str': '604982671', 'name': 'THE™️ David Hale', 'screen_name': 'ADavidHaleJoint', 'location': 'Charlotte, NC', 'description': \"Attendee of both Toyotathon '06 and Red Lobster Crabfest '09. Also, sports writer for ESPN. Not bowl eligible.\", 'url': 'https://t.co/hu9Hk28X5x', 'entities': {'url': {'urls': [{'url': 'https://t.co/hu9Hk28X5x', 'expanded_url': 'https://davidmhale.com/', 'display_url': 'davidmhale.com', 'indices': [0, 23]}]}, 'description': {'urls': []}}, 'protected': False, 'followers_count': 24990, 'friends_count': 664, 'listed_count': 658, 'created_at': 'Mon Jun 11 00:54:03 +0000 2012', 'favourites_count': 16655, 'utc_offset': None, 'time_zone': None, 'geo_enabled': False, 'verified': True, 'statuses_count': 40000, 'lang': None, 'contributors_enabled': False, 'is_translator': False, 'is_translation_enabled': False, 'profile_background_color': '000000', 'profile_background_image_url': 'http://abs.twimg.com/images/themes/theme1/bg.png', 'profile_background_image_url_https': 'https://abs.twimg.com/images/themes/theme1/bg.png', 'profile_background_tile': False, 'profile_image_url': 'http://pbs.twimg.com/profile_images/1170027338161106946/D4-rW2FR_normal.jpg', 'profile_image_url_https': 'https://pbs.twimg.com/profile_images/1170027338161106946/D4-rW2FR_normal.jpg', 'profile_banner_url': 'https://pbs.twimg.com/profile_banners/604982671/1483138075', 'profile_link_color': 'ABB8C2', 'profile_sidebar_border_color': '000000', 'profile_sidebar_fill_color': '000000', 'profile_text_color': '000000', 'profile_use_background_image': False, 'has_extended_profile': False, 'default_profile': False, 'default_profile_image': False, 'following': None, 'follow_request_sent': None, 'notifications': None, 'translator_type': 'none'}, 'geo': None, 'coordinates': None, 'place': None, 'contributors': None, 'is_quote_status': False, 'retweet_count': 67, 'favorite_count': 149, 'favorited': False, 'retweeted': False, 'lang': 'en'}, {'created_at': 'Mon Sep 30 20:47:39 +0000 2019', 'id': 1178773424208060416, 'id_str': '1178773424208060416', 'text': 'Your average week at UVA: https://t.co/pMPV9YaVrx', 'truncated': False, 'entities': {'hashtags': [], 'symbols': [], 'user_mentions': [], 'urls': [], 'media': [{'id': 1178773281320636416, 'id_str': '1178773281320636416', 'indices': [26, 49], 'media_url': 'http://pbs.twimg.com/ext_tw_video_thumb/1178773281320636416/pu/img/SRrGCIFdLUETZ0ZH.jpg', 'media_url_https': 'https://pbs.twimg.com/ext_tw_video_thumb/1178773281320636416/pu/img/SRrGCIFdLUETZ0ZH.jpg', 'url': 'https://t.co/pMPV9YaVrx', 'display_url': 'pic.twitter.com/pMPV9YaVrx', 'expanded_url': 'https://twitter.com/BarstoolUVA/status/1178773424208060416/video/1', 'type': 'photo', 'sizes': {'thumb': {'w': 150, 'h': 150, 'resize': 'crop'}, 'small': {'w': 680, 'h': 680, 'resize': 'fit'}, 'medium': {'w': 720, 'h': 720, 'resize': 'fit'}, 'large': {'w': 720, 'h': 720, 'resize': 'fit'}}}]}, 'extended_entities': {'media': [{'id': 1178773281320636416, 'id_str': '1178773281320636416', 'indices': [26, 49], 'media_url': 'http://pbs.twimg.com/ext_tw_video_thumb/1178773281320636416/pu/img/SRrGCIFdLUETZ0ZH.jpg', 'media_url_https': 'https://pbs.twimg.com/ext_tw_video_thumb/1178773281320636416/pu/img/SRrGCIFdLUETZ0ZH.jpg', 'url': 'https://t.co/pMPV9YaVrx', 'display_url': 'pic.twitter.com/pMPV9YaVrx', 'expanded_url': 'https://twitter.com/BarstoolUVA/status/1178773424208060416/video/1', 'type': 'video', 'sizes': {'thumb': {'w': 150, 'h': 150, 'resize': 'crop'}, 'small': {'w': 680, 'h': 680, 'resize': 'fit'}, 'medium': {'w': 720, 'h': 720, 'resize': 'fit'}, 'large': {'w': 720, 'h': 720, 'resize': 'fit'}}, 'video_info': {'aspect_ratio': [1, 1], 'duration_millis': 34500, 'variants': [{'bitrate': 1280000, 'content_type': 'video/mp4', 'url': 'https://video.twimg.com/ext_tw_video/1178773281320636416/pu/vid/720x720/4YpOGrvB4ViE1d0s.mp4?tag=10'}, {'bitrate': 832000, 'content_type': 'video/mp4', 'url': 'https://video.twimg.com/ext_tw_video/1178773281320636416/pu/vid/480x480/fKGQjz7iN9Xpk46t.mp4?tag=10'}, {'content_type': 'application/x-mpegURL', 'url': 'https://video.twimg.com/ext_tw_video/1178773281320636416/pu/pl/aUeN4_uBMAi93tIx.m3u8?tag=10'}, {'bitrate': 432000, 'content_type': 'video/mp4', 'url': 'https://video.twimg.com/ext_tw_video/1178773281320636416/pu/vid/320x320/rqltfRVUE7xlYUqy.mp4?tag=10'}]}, 'additional_media_info': {'monetizable': False}}]}, 'metadata': {'result_type': 'popular', 'iso_language_code': 'en'}, 'source': '<a href=\"http://twitter.com/download/iphone\" rel=\"nofollow\">Twitter for iPhone</a>', 'in_reply_to_status_id': None, 'in_reply_to_status_id_str': None, 'in_reply_to_user_id': None, 'in_reply_to_user_id_str': None, 'in_reply_to_screen_name': None, 'user': {'id': 2422187150, 'id_str': '2422187150', 'name': 'BEST SPORTS SCHOOL BARSTOOL UVA', 'screen_name': 'BarstoolUVA', 'location': 'charlottesville', 'description': 'Direct Affiliate of @BarstoolSports. Not affiliated with @UVA. Instagram @BarstoolUVA. Send anonymous submissions to uva@barstoolsports.com', 'url': 'https://t.co/67MD8gf64M', 'entities': {'url': {'urls': [{'url': 'https://t.co/67MD8gf64M', 'expanded_url': 'http://www.barstoolsports.com', 'display_url': 'barstoolsports.com', 'indices': [0, 23]}]}, 'description': {'urls': []}}, 'protected': False, 'followers_count': 9528, 'friends_count': 434, 'listed_count': 74, 'created_at': 'Tue Apr 01 14:26:01 +0000 2014', 'favourites_count': 3802, 'utc_offset': None, 'time_zone': None, 'geo_enabled': True, 'verified': True, 'statuses_count': 335, 'lang': None, 'contributors_enabled': False, 'is_translator': False, 'is_translation_enabled': False, 'profile_background_color': 'C0DEED', 'profile_background_image_url': 'http://abs.twimg.com/images/themes/theme1/bg.png', 'profile_background_image_url_https': 'https://abs.twimg.com/images/themes/theme1/bg.png', 'profile_background_tile': True, 'profile_image_url': 'http://pbs.twimg.com/profile_images/1163469210829373441/H22TsFV5_normal.jpg', 'profile_image_url_https': 'https://pbs.twimg.com/profile_images/1163469210829373441/H22TsFV5_normal.jpg', 'profile_banner_url': 'https://pbs.twimg.com/profile_banners/2422187150/1550553159', 'profile_link_color': '0084B4', 'profile_sidebar_border_color': 'FFFFFF', 'profile_sidebar_fill_color': 'DDEEF6', 'profile_text_color': '333333', 'profile_use_background_image': True, 'has_extended_profile': False, 'default_profile': False, 'default_profile_image': False, 'following': None, 'follow_request_sent': None, 'notifications': None, 'translator_type': 'none'}, 'geo': None, 'coordinates': None, 'place': None, 'contributors': None, 'is_quote_status': False, 'retweet_count': 150, 'favorite_count': 739, 'favorited': False, 'retweeted': False, 'possibly_sensitive': False, 'lang': 'en'}, {'created_at': 'Tue Oct 01 16:52:25 +0000 2019', 'id': 1179076611640946688, 'id_str': '1179076611640946688', 'text': 'My guess is this will become known as the Uff Da ad. (UVA alum and former student John Lapp created it, and it is p… https://t.co/UtCw8qji8r', 'truncated': True, 'entities': {'hashtags': [], 'symbols': [], 'user_mentions': [], 'urls': [{'url': 'https://t.co/UtCw8qji8r', 'expanded_url': 'https://twitter.com/i/web/status/1179076611640946688', 'display_url': 'twitter.com/i/web/status/1…', 'indices': [117, 140]}]}, 'metadata': {'result_type': 'popular', 'iso_language_code': 'en'}, 'source': '<a href=\"https://mobile.twitter.com\" rel=\"nofollow\">Twitter Web App</a>', 'in_reply_to_status_id': None, 'in_reply_to_status_id_str': None, 'in_reply_to_user_id': None, 'in_reply_to_user_id_str': None, 'in_reply_to_screen_name': None, 'user': {'id': 21313053, 'id_str': '21313053', 'name': 'Larry Sabato', 'screen_name': 'LarrySabato', 'location': 'Charlottesville, VA', 'description': 'Director, UVA Center for Politics. Author, The Kennedy Half Century https://t.co/d9SktjCoyG. Read the Crystal Ball every Thursday (link below).', 'url': 'https://t.co/H0pNiSRpoK', 'entities': {'url': {'urls': [{'url': 'https://t.co/H0pNiSRpoK', 'expanded_url': 'http://www.centerforpolitics.org/crystalball/', 'display_url': 'centerforpolitics.org/crystalball/', 'indices': [0, 23]}]}, 'description': {'urls': [{'url': 'https://t.co/d9SktjCoyG', 'expanded_url': 'http://bit.ly/17ZaPVk', 'display_url': 'bit.ly/17ZaPVk', 'indices': [68, 91]}]}}, 'protected': False, 'followers_count': 147217, 'friends_count': 15387, 'listed_count': 4110, 'created_at': 'Thu Feb 19 16:27:33 +0000 2009', 'favourites_count': 9265, 'utc_offset': None, 'time_zone': None, 'geo_enabled': True, 'verified': True, 'statuses_count': 26661, 'lang': None, 'contributors_enabled': False, 'is_translator': False, 'is_translation_enabled': False, 'profile_background_color': 'C0DEED', 'profile_background_image_url': 'http://abs.twimg.com/images/themes/theme1/bg.png', 'profile_background_image_url_https': 'https://abs.twimg.com/images/themes/theme1/bg.png', 'profile_background_tile': True, 'profile_image_url': 'http://pbs.twimg.com/profile_images/768871811459194880/R95Wu2xJ_normal.jpg', 'profile_image_url_https': 'https://pbs.twimg.com/profile_images/768871811459194880/R95Wu2xJ_normal.jpg', 'profile_banner_url': 'https://pbs.twimg.com/profile_banners/21313053/1472148500', 'profile_link_color': '0084B4', 'profile_sidebar_border_color': 'FFFFFF', 'profile_sidebar_fill_color': 'DDEEF6', 'profile_text_color': '333333', 'profile_use_background_image': True, 'has_extended_profile': True, 'default_profile': False, 'default_profile_image': False, 'following': None, 'follow_request_sent': None, 'notifications': None, 'translator_type': 'none'}, 'geo': None, 'coordinates': None, 'place': None, 'contributors': None, 'is_quote_status': True, 'quoted_status_id': 1179000506724823040, 'quoted_status_id_str': '1179000506724823040', 'quoted_status': {'created_at': 'Tue Oct 01 11:50:00 +0000 2019', 'id': 1179000506724823040, 'id_str': '1179000506724823040', 'text': \"When my platoon was taking fire in Iraq, we were in it together, regardless of race, religion or politics. It's the… https://t.co/fSnv6Olepd\", 'truncated': True, 'entities': {'hashtags': [], 'symbols': [], 'user_mentions': [], 'urls': [{'url': 'https://t.co/fSnv6Olepd', 'expanded_url': 'https://twitter.com/i/web/status/1179000506724823040', 'display_url': 'twitter.com/i/web/status/1…', 'indices': [117, 140]}]}, 'metadata': {'result_type': 'popular', 'iso_language_code': 'en'}, 'source': '<a href=\"https://studio.twitter.com\" rel=\"nofollow\">Twitter Media Studio</a>', 'in_reply_to_status_id': None, 'in_reply_to_status_id_str': None, 'in_reply_to_user_id': None, 'in_reply_to_user_id_str': None, 'in_reply_to_screen_name': None, 'user': {'id': 163845877, 'id_str': '163845877', 'name': 'Dan Feehan', 'screen_name': 'danielfeehan', 'location': 'North Mankato, MN', 'description': 'Husband, father, Minnesotan. Army vet, former teacher, former Pentagon,  and Democratic candidate for Congress in #MN01', 'url': 'https://t.co/9MT9gFnUSM', 'entities': {'url': {'urls': [{'url': 'https://t.co/9MT9gFnUSM', 'expanded_url': 'http://danfeehan.com', 'display_url': 'danfeehan.com', 'indices': [0, 23]}]}, 'description': {'urls': []}}, 'protected': False, 'followers_count': 7115, 'friends_count': 919, 'listed_count': 157, 'created_at': 'Wed Jul 07 12:32:21 +0000 2010', 'favourites_count': 1567, 'utc_offset': None, 'time_zone': None, 'geo_enabled': True, 'verified': True, 'statuses_count': 1358, 'lang': None, 'contributors_enabled': False, 'is_translator': False, 'is_translation_enabled': False, 'profile_background_color': 'B2DFDA', 'profile_background_image_url': 'http://abs.twimg.com/images/themes/theme13/bg.gif', 'profile_background_image_url_https': 'https://abs.twimg.com/images/themes/theme13/bg.gif', 'profile_background_tile': False, 'profile_image_url': 'http://pbs.twimg.com/profile_images/1032314419135442944/Cpn9MXoz_normal.jpg', 'profile_image_url_https': 'https://pbs.twimg.com/profile_images/1032314419135442944/Cpn9MXoz_normal.jpg', 'profile_banner_url': 'https://pbs.twimg.com/profile_banners/163845877/1569928068', 'profile_link_color': '93A644', 'profile_sidebar_border_color': 'EEEEEE', 'profile_sidebar_fill_color': 'FFFFFF', 'profile_text_color': '333333', 'profile_use_background_image': True, 'has_extended_profile': True, 'default_profile': False, 'default_profile_image': False, 'following': None, 'follow_request_sent': None, 'notifications': None, 'translator_type': 'none'}, 'geo': None, 'coordinates': None, 'place': None, 'contributors': None, 'is_quote_status': False, 'retweet_count': 489, 'favorite_count': 1862, 'favorited': False, 'retweeted': False, 'possibly_sensitive': False, 'lang': 'en'}, 'retweet_count': 20, 'favorite_count': 77, 'favorited': False, 'retweeted': False, 'possibly_sensitive': False, 'lang': 'en'}, {'created_at': 'Wed Oct 02 13:44:34 +0000 2019', 'id': 1179391725661556738, 'id_str': '1179391725661556738', 'text': 'Today is #WrongfulConvictionDay. Read about how #UVALaw students in the yearlong Innocence Project Clinic investiga… https://t.co/emWcNZgiVz', 'truncated': True, 'entities': {'hashtags': [{'text': 'WrongfulConvictionDay', 'indices': [9, 31]}, {'text': 'UVALaw', 'indices': [48, 55]}], 'symbols': [], 'user_mentions': [], 'urls': [{'url': 'https://t.co/emWcNZgiVz', 'expanded_url': 'https://twitter.com/i/web/status/1179391725661556738', 'display_url': 'twitter.com/i/web/status/1…', 'indices': [117, 140]}]}, 'metadata': {'result_type': 'popular', 'iso_language_code': 'en'}, 'source': '<a href=\"https://mobile.twitter.com\" rel=\"nofollow\">Twitter Web App</a>', 'in_reply_to_status_id': None, 'in_reply_to_status_id_str': None, 'in_reply_to_user_id': None, 'in_reply_to_user_id_str': None, 'in_reply_to_screen_name': None, 'user': {'id': 17074098, 'id_str': '17074098', 'name': 'UVA Law School', 'screen_name': 'UVALaw', 'location': 'Charlottesville, Virginia', 'description': 'Committed to academic excellence, leadership and collegial learning since 1819. @RisaGoluboff @UVALawPSC @UVALawLibrary @UVALawWriting @UVALawFinAid', 'url': 'http://t.co/xWxeLJXiBp', 'entities': {'url': {'urls': [{'url': 'http://t.co/xWxeLJXiBp', 'expanded_url': 'http://www.law.virginia.edu', 'display_url': 'law.virginia.edu', 'indices': [0, 22]}]}, 'description': {'urls': []}}, 'protected': False, 'followers_count': 23382, 'friends_count': 434, 'listed_count': 474, 'created_at': 'Thu Oct 30 20:42:55 +0000 2008', 'favourites_count': 6243, 'utc_offset': None, 'time_zone': None, 'geo_enabled': False, 'verified': True, 'statuses_count': 14632, 'lang': None, 'contributors_enabled': False, 'is_translator': False, 'is_translation_enabled': False, 'profile_background_color': 'FFFFFF', 'profile_background_image_url': 'http://abs.twimg.com/images/themes/theme1/bg.png', 'profile_background_image_url_https': 'https://abs.twimg.com/images/themes/theme1/bg.png', 'profile_background_tile': False, 'profile_image_url': 'http://pbs.twimg.com/profile_images/888038015502753792/PybDgG-U_normal.jpg', 'profile_image_url_https': 'https://pbs.twimg.com/profile_images/888038015502753792/PybDgG-U_normal.jpg', 'profile_banner_url': 'https://pbs.twimg.com/profile_banners/17074098/1398348067', 'profile_link_color': '0084B4', 'profile_sidebar_border_color': 'CCCCCC', 'profile_sidebar_fill_color': 'F5F5F5', 'profile_text_color': '333333', 'profile_use_background_image': True, 'has_extended_profile': False, 'default_profile': False, 'default_profile_image': False, 'following': None, 'follow_request_sent': None, 'notifications': None, 'translator_type': 'none'}, 'geo': None, 'coordinates': None, 'place': None, 'contributors': None, 'is_quote_status': False, 'retweet_count': 9, 'favorite_count': 7, 'favorited': False, 'retweeted': False, 'possibly_sensitive': False, 'lang': 'en'}], 'search_metadata': {'completed_in': 0.023, 'max_id': 0, 'max_id_str': '0', 'next_results': '?max_id=1178773424208060415&q=UVA&lang=en&count=5&include_entities=1&result_type=popular', 'query': 'UVA', 'count': 5, 'since_id': 0, 'since_id_str': '0'}}\n"
     ]
    }
   ],
   "source": [
    "python_tweets = Twython(twython_key, twython_secret)                      #This packages your API keys together in a format that Twitter likes\n",
    "\n",
    "#Create your query, which will be submitted as a URL to the Twitter API. Take a look at the parameters we are submitting\n",
    "#As we go through the code I encourage you to play with these later by changing them to see different results\n",
    "query = {'q': 'UVA',\n",
    "         'result_type': 'popular',\n",
    "         'count': 5,\n",
    "         'lang': 'en'\n",
    "         }\n",
    "\n",
    "results_dict = python_tweets.search(**query)            #creates a DICTIONARY with results. Data is structured in JSON format. **query is a keyword argument          \n",
    "\n",
    "print(results_dict)"
   ]
  },
  {
   "cell_type": "markdown",
   "metadata": {},
   "source": [
    "We now have a dictionary object (results_dict), which is the data returned from the Twitter API and is structured in JSON format. As you can see, it is messy and unmanageable to look at so we will proceed to drill down through it and make the results more manageable to work with."
   ]
  },
  {
   "cell_type": "code",
   "execution_count": 7,
   "metadata": {},
   "outputs": [
    {
     "name": "stdout",
     "output_type": "stream",
     "text": [
      "statuses\n",
      "search_metadata\n"
     ]
    }
   ],
   "source": [
    "#parse through the keys in the results_dict dictionary just like any other dictionary object\n",
    "\n",
    "for keys, values in results_dict.items():\n",
    "    print(keys)"
   ]
  },
  {
   "cell_type": "code",
   "execution_count": 9,
   "metadata": {
    "scrolled": true
   },
   "outputs": [
    {
     "name": "stdout",
     "output_type": "stream",
     "text": [
      "[{'created_at': 'Mon Sep 30 14:06:09 +0000 2019', 'id': 1178672384712351745, 'id_str': '1178672384712351745', 'text': 'MIAMI HURRICANES NEWS: Manny Diaz gives news on Miami DT Nesta Silvera and clarifies LB Zach McCloud situation as C… https://t.co/urXSyz08H4', 'truncated': True, 'entities': {'hashtags': [], 'symbols': [], 'user_mentions': [], 'urls': [{'url': 'https://t.co/urXSyz08H4', 'expanded_url': 'https://twitter.com/i/web/status/1178672384712351745', 'display_url': 'twitter.com/i/web/status/1…', 'indices': [117, 140]}]}, 'metadata': {'result_type': 'popular', 'iso_language_code': 'en'}, 'source': '<a href=\"http://twitter.com\" rel=\"nofollow\">Twitter Web Client</a>', 'in_reply_to_status_id': None, 'in_reply_to_status_id_str': None, 'in_reply_to_user_id': None, 'in_reply_to_user_id_str': None, 'in_reply_to_screen_name': None, 'user': {'id': 42097207, 'id_str': '42097207', 'name': 'Susan Miller Degnan', 'screen_name': 'smillerdegnan', 'location': '', 'description': 'University of Miami football beat writer for The Miami Herald (and mom of 3 awesome kids)', 'url': None, 'entities': {'description': {'urls': []}}, 'protected': False, 'followers_count': 19842, 'friends_count': 1558, 'listed_count': 507, 'created_at': 'Sat May 23 21:03:59 +0000 2009', 'favourites_count': 830, 'utc_offset': None, 'time_zone': None, 'geo_enabled': False, 'verified': True, 'statuses_count': 35955, 'lang': None, 'contributors_enabled': False, 'is_translator': False, 'is_translation_enabled': False, 'profile_background_color': 'C0DEED', 'profile_background_image_url': 'http://abs.twimg.com/images/themes/theme1/bg.png', 'profile_background_image_url_https': 'https://abs.twimg.com/images/themes/theme1/bg.png', 'profile_background_tile': False, 'profile_image_url': 'http://pbs.twimg.com/profile_images/378800000808942938/99a9febb2561e69cc0a3774d6837992b_normal.jpeg', 'profile_image_url_https': 'https://pbs.twimg.com/profile_images/378800000808942938/99a9febb2561e69cc0a3774d6837992b_normal.jpeg', 'profile_link_color': '1DA1F2', 'profile_sidebar_border_color': 'C0DEED', 'profile_sidebar_fill_color': 'DDEEF6', 'profile_text_color': '333333', 'profile_use_background_image': True, 'has_extended_profile': False, 'default_profile': True, 'default_profile_image': False, 'following': None, 'follow_request_sent': None, 'notifications': None, 'translator_type': 'none'}, 'geo': None, 'coordinates': None, 'place': None, 'contributors': None, 'is_quote_status': False, 'retweet_count': 21, 'favorite_count': 73, 'favorited': False, 'retweeted': False, 'possibly_sensitive': False, 'lang': 'en'}, {'created_at': 'Tue Sep 24 18:00:01 +0000 2019', 'id': 1176556908850884609, 'id_str': '1176556908850884609', 'text': 'Mark Twain claimed he stopped writing letters with a typewriter because he would get more letters back asking about… https://t.co/9fr7GYZNuW', 'truncated': True, 'entities': {'hashtags': [], 'symbols': [], 'user_mentions': [], 'urls': [{'url': 'https://t.co/9fr7GYZNuW', 'expanded_url': 'https://twitter.com/i/web/status/1176556908850884609', 'display_url': 'twitter.com/i/web/status/1…', 'indices': [117, 140]}]}, 'metadata': {'result_type': 'popular', 'iso_language_code': 'en'}, 'source': '<a href=\"https://about.twitter.com/products/tweetdeck\" rel=\"nofollow\">TweetDeck</a>', 'in_reply_to_status_id': None, 'in_reply_to_status_id_str': None, 'in_reply_to_user_id': None, 'in_reply_to_user_id_str': None, 'in_reply_to_screen_name': None, 'user': {'id': 22151193, 'id_str': '22151193', 'name': 'Quite Interesting', 'screen_name': 'qikipedia', 'location': 'QI HQ', 'description': 'Quite Interesting facts from the team behind the BBC TV show QI. https://t.co/KajPX02jPd https://t.co/e7kKHcHU2N https://t.co/q3qVciWTD7', 'url': 'http://t.co/DGnFYmJSSv', 'entities': {'url': {'urls': [{'url': 'http://t.co/DGnFYmJSSv', 'expanded_url': 'http://www.qi.com', 'display_url': 'qi.com', 'indices': [0, 22]}]}, 'description': {'urls': [{'url': 'https://t.co/KajPX02jPd', 'expanded_url': 'http://instagram.com/theqielves', 'display_url': 'instagram.com/theqielves', 'indices': [65, 88]}, {'url': 'https://t.co/e7kKHcHU2N', 'expanded_url': 'http://facebook.com/OfficialQI/', 'display_url': 'facebook.com/OfficialQI/', 'indices': [89, 112]}, {'url': 'https://t.co/q3qVciWTD7', 'expanded_url': 'http://youtube.com/user/TheQIElves', 'display_url': 'youtube.com/user/TheQIElves', 'indices': [113, 136]}]}}, 'protected': False, 'followers_count': 1118759, 'friends_count': 988, 'listed_count': 8125, 'created_at': 'Fri Feb 27 15:36:24 +0000 2009', 'favourites_count': 2338, 'utc_offset': None, 'time_zone': None, 'geo_enabled': False, 'verified': True, 'statuses_count': 30863, 'lang': None, 'contributors_enabled': False, 'is_translator': False, 'is_translation_enabled': False, 'profile_background_color': '000000', 'profile_background_image_url': 'http://abs.twimg.com/images/themes/theme16/bg.gif', 'profile_background_image_url_https': 'https://abs.twimg.com/images/themes/theme16/bg.gif', 'profile_background_tile': True, 'profile_image_url': 'http://pbs.twimg.com/profile_images/1047809837176905728/i3ix2gwb_normal.jpg', 'profile_image_url_https': 'https://pbs.twimg.com/profile_images/1047809837176905728/i3ix2gwb_normal.jpg', 'profile_banner_url': 'https://pbs.twimg.com/profile_banners/22151193/1567504338', 'profile_link_color': '0084B4', 'profile_sidebar_border_color': 'FFFFFF', 'profile_sidebar_fill_color': 'DDFFCC', 'profile_text_color': '333333', 'profile_use_background_image': True, 'has_extended_profile': False, 'default_profile': False, 'default_profile_image': False, 'following': None, 'follow_request_sent': None, 'notifications': None, 'translator_type': 'none'}, 'geo': None, 'coordinates': None, 'place': None, 'contributors': None, 'is_quote_status': False, 'retweet_count': 61, 'favorite_count': 432, 'favorited': False, 'retweeted': False, 'possibly_sensitive': False, 'lang': 'en'}, {'created_at': 'Sat Sep 28 16:26:06 +0000 2019', 'id': 1177982825674313729, 'id_str': '1177982825674313729', 'text': 'In Hampton, where colonial and Civil War markers abound, a mighty oak tree is perhaps one of the best known, if som… https://t.co/Ij9h7f7pnr', 'truncated': True, 'entities': {'hashtags': [], 'symbols': [], 'user_mentions': [], 'urls': [{'url': 'https://t.co/Ij9h7f7pnr', 'expanded_url': 'https://twitter.com/i/web/status/1177982825674313729', 'display_url': 'twitter.com/i/web/status/1…', 'indices': [117, 140]}]}, 'metadata': {'result_type': 'popular', 'iso_language_code': 'en'}, 'source': '<a href=\"https://mobile.twitter.com\" rel=\"nofollow\">Twitter Web App</a>', 'in_reply_to_status_id': None, 'in_reply_to_status_id_str': None, 'in_reply_to_user_id': None, 'in_reply_to_user_id_str': None, 'in_reply_to_screen_name': None, 'user': {'id': 16664681, 'id_str': '16664681', 'name': 'Los Angeles Times', 'screen_name': 'latimes', 'location': 'El Segundo, CA', 'description': 'Bringing L.A. to the world and the world to L.A. Subscribe now: https://t.co/4UQaQvNbCp', 'url': 'https://t.co/eTksmynSH7', 'entities': {'url': {'urls': [{'url': 'https://t.co/eTksmynSH7', 'expanded_url': 'http://latimes.com', 'display_url': 'latimes.com', 'indices': [0, 23]}]}, 'description': {'urls': [{'url': 'https://t.co/4UQaQvNbCp', 'expanded_url': 'http://checkout2.latimes.com', 'display_url': 'checkout2.latimes.com', 'indices': [64, 87]}]}}, 'protected': False, 'followers_count': 3439974, 'friends_count': 6924, 'listed_count': 32068, 'created_at': 'Thu Oct 09 11:07:42 +0000 2008', 'favourites_count': 2401, 'utc_offset': None, 'time_zone': None, 'geo_enabled': True, 'verified': True, 'statuses_count': 244216, 'lang': None, 'contributors_enabled': False, 'is_translator': False, 'is_translation_enabled': False, 'profile_background_color': 'FFFFFF', 'profile_background_image_url': 'http://abs.twimg.com/images/themes/theme16/bg.gif', 'profile_background_image_url_https': 'https://abs.twimg.com/images/themes/theme16/bg.gif', 'profile_background_tile': False, 'profile_image_url': 'http://pbs.twimg.com/profile_images/1171581672074043393/XNqsW9EE_normal.jpg', 'profile_image_url_https': 'https://pbs.twimg.com/profile_images/1171581672074043393/XNqsW9EE_normal.jpg', 'profile_banner_url': 'https://pbs.twimg.com/profile_banners/16664681/1537917244', 'profile_link_color': '009999', 'profile_sidebar_border_color': 'FFFFFF', 'profile_sidebar_fill_color': 'EFEFEF', 'profile_text_color': '615F61', 'profile_use_background_image': True, 'has_extended_profile': False, 'default_profile': False, 'default_profile_image': False, 'following': None, 'follow_request_sent': None, 'notifications': None, 'translator_type': 'regular'}, 'geo': None, 'coordinates': None, 'place': None, 'contributors': None, 'is_quote_status': False, 'retweet_count': 22, 'favorite_count': 53, 'favorited': False, 'retweeted': False, 'possibly_sensitive': False, 'lang': 'en'}]\n"
     ]
    }
   ],
   "source": [
    "#'statuses' holds the interesting information about each tweet\n",
    "#printing this is still a mess of data, but it is slightly less data now that we don't see the 'search_metadata' and\n",
    "#we are progressively drilling through the layers of this JSON output\n",
    "\n",
    "print(results_dict['statuses'])                         #looks for values in the 'statuses' key of results_dict. Dictionaries are unordered data types and you find the values by calling the name of each key\n"
   ]
  },
  {
   "cell_type": "markdown",
   "metadata": {},
   "source": [
    "Notice in the above output, these objects are stored in a list. In this case, each list item contains a bunch of dictionaries with information about each tweet. Using our default query parameters, we have 5 items in this list. Now that we know we have a list, let's look at just the first item in the list, in a variable called \"first_result\"."
   ]
  },
  {
   "cell_type": "code",
   "execution_count": 16,
   "metadata": {},
   "outputs": [
    {
     "name": "stdout",
     "output_type": "stream",
     "text": [
      "{'created_at': 'Mon Sep 30 14:06:09 +0000 2019', 'id': 1178672384712351745, 'id_str': '1178672384712351745', 'text': 'MIAMI HURRICANES NEWS: Manny Diaz gives news on Miami DT Nesta Silvera and clarifies LB Zach McCloud situation as C… https://t.co/urXSyz08H4', 'truncated': True, 'entities': {'hashtags': [], 'symbols': [], 'user_mentions': [], 'urls': [{'url': 'https://t.co/urXSyz08H4', 'expanded_url': 'https://twitter.com/i/web/status/1178672384712351745', 'display_url': 'twitter.com/i/web/status/1…', 'indices': [117, 140]}]}, 'metadata': {'result_type': 'popular', 'iso_language_code': 'en'}, 'source': '<a href=\"http://twitter.com\" rel=\"nofollow\">Twitter Web Client</a>', 'in_reply_to_status_id': None, 'in_reply_to_status_id_str': None, 'in_reply_to_user_id': None, 'in_reply_to_user_id_str': None, 'in_reply_to_screen_name': None, 'user': {'id': 42097207, 'id_str': '42097207', 'name': 'Susan Miller Degnan', 'screen_name': 'smillerdegnan', 'location': '', 'description': 'University of Miami football beat writer for The Miami Herald (and mom of 3 awesome kids)', 'url': None, 'entities': {'description': {'urls': []}}, 'protected': False, 'followers_count': 19842, 'friends_count': 1558, 'listed_count': 507, 'created_at': 'Sat May 23 21:03:59 +0000 2009', 'favourites_count': 830, 'utc_offset': None, 'time_zone': None, 'geo_enabled': False, 'verified': True, 'statuses_count': 35955, 'lang': None, 'contributors_enabled': False, 'is_translator': False, 'is_translation_enabled': False, 'profile_background_color': 'C0DEED', 'profile_background_image_url': 'http://abs.twimg.com/images/themes/theme1/bg.png', 'profile_background_image_url_https': 'https://abs.twimg.com/images/themes/theme1/bg.png', 'profile_background_tile': False, 'profile_image_url': 'http://pbs.twimg.com/profile_images/378800000808942938/99a9febb2561e69cc0a3774d6837992b_normal.jpeg', 'profile_image_url_https': 'https://pbs.twimg.com/profile_images/378800000808942938/99a9febb2561e69cc0a3774d6837992b_normal.jpeg', 'profile_link_color': '1DA1F2', 'profile_sidebar_border_color': 'C0DEED', 'profile_sidebar_fill_color': 'DDEEF6', 'profile_text_color': '333333', 'profile_use_background_image': True, 'has_extended_profile': False, 'default_profile': True, 'default_profile_image': False, 'following': None, 'follow_request_sent': None, 'notifications': None, 'translator_type': 'none'}, 'geo': None, 'coordinates': None, 'place': None, 'contributors': None, 'is_quote_status': False, 'retweet_count': 21, 'favorite_count': 73, 'favorited': False, 'retweeted': False, 'possibly_sensitive': False, 'lang': 'en'}\n"
     ]
    }
   ],
   "source": [
    "\n",
    "first_result = results_dict['statuses'][0]             #within ['statuses'] is a list (of dictionaries). Lists are ordered data types and you can use indexing to parse through the list elements\n",
    "print(first_result)\n"
   ]
  },
  {
   "cell_type": "markdown",
   "metadata": {},
   "source": [
    "Because \"first_result\" is the first item in the list, containing a dictionary with information about that tweet we \n",
    "can parse this just like any other dictionary. Except now we are getting to the interesting stuff. If you have\n",
    "looked at the above output, you probably have notice some interesting things like the text of the tweets, \n",
    "who tweeted it, etc."
   ]
  },
  {
   "cell_type": "code",
   "execution_count": 13,
   "metadata": {},
   "outputs": [
    {
     "name": "stdout",
     "output_type": "stream",
     "text": [
      "created_at\n",
      "id\n",
      "id_str\n",
      "text\n",
      "truncated\n",
      "entities\n",
      "metadata\n",
      "source\n",
      "in_reply_to_status_id\n",
      "in_reply_to_status_id_str\n",
      "in_reply_to_user_id\n",
      "in_reply_to_user_id_str\n",
      "in_reply_to_screen_name\n",
      "user\n",
      "geo\n",
      "coordinates\n",
      "place\n",
      "contributors\n",
      "is_quote_status\n",
      "retweet_count\n",
      "favorite_count\n",
      "favorited\n",
      "retweeted\n",
      "possibly_sensitive\n",
      "lang\n"
     ]
    }
   ],
   "source": [
    "\n",
    "for keys, values in first_result.items():              \n",
    "    print(keys)\n"
   ]
  },
  {
   "cell_type": "code",
   "execution_count": 17,
   "metadata": {},
   "outputs": [
    {
     "name": "stdout",
     "output_type": "stream",
     "text": [
      "MIAMI HURRICANES NEWS: Manny Diaz gives news on Miami DT Nesta Silvera and clarifies LB Zach McCloud situation as C… https://t.co/urXSyz08H4\n"
     ]
    }
   ],
   "source": [
    "#See the text of this tweet\n",
    "\n",
    "print(first_result['text'])                             #prints actual text of the tweet (with URL to original tweet!)\n"
   ]
  },
  {
   "cell_type": "markdown",
   "metadata": {},
   "source": [
    "Another item we can pull out of \"first_result\". This is a dictionary of information about the user\n",
    "You can see we have nested dictionaries."
   ]
  },
  {
   "cell_type": "code",
   "execution_count": 19,
   "metadata": {},
   "outputs": [
    {
     "name": "stdout",
     "output_type": "stream",
     "text": [
      "{'id': 42097207, 'id_str': '42097207', 'name': 'Susan Miller Degnan', 'screen_name': 'smillerdegnan', 'location': '', 'description': 'University of Miami football beat writer for The Miami Herald (and mom of 3 awesome kids)', 'url': None, 'entities': {'description': {'urls': []}}, 'protected': False, 'followers_count': 19842, 'friends_count': 1558, 'listed_count': 507, 'created_at': 'Sat May 23 21:03:59 +0000 2009', 'favourites_count': 830, 'utc_offset': None, 'time_zone': None, 'geo_enabled': False, 'verified': True, 'statuses_count': 35955, 'lang': None, 'contributors_enabled': False, 'is_translator': False, 'is_translation_enabled': False, 'profile_background_color': 'C0DEED', 'profile_background_image_url': 'http://abs.twimg.com/images/themes/theme1/bg.png', 'profile_background_image_url_https': 'https://abs.twimg.com/images/themes/theme1/bg.png', 'profile_background_tile': False, 'profile_image_url': 'http://pbs.twimg.com/profile_images/378800000808942938/99a9febb2561e69cc0a3774d6837992b_normal.jpeg', 'profile_image_url_https': 'https://pbs.twimg.com/profile_images/378800000808942938/99a9febb2561e69cc0a3774d6837992b_normal.jpeg', 'profile_link_color': '1DA1F2', 'profile_sidebar_border_color': 'C0DEED', 'profile_sidebar_fill_color': 'DDEEF6', 'profile_text_color': '333333', 'profile_use_background_image': True, 'has_extended_profile': False, 'default_profile': True, 'default_profile_image': False, 'following': None, 'follow_request_sent': None, 'notifications': None, 'translator_type': 'none'}\n"
     ]
    }
   ],
   "source": [
    "\n",
    "print(first_result['user']) "
   ]
  },
  {
   "cell_type": "code",
   "execution_count": 22,
   "metadata": {},
   "outputs": [
    {
     "name": "stdout",
     "output_type": "stream",
     "text": [
      "Susan Miller Degnan\n"
     ]
    }
   ],
   "source": [
    "#this is the name of the user who tweeted this \n",
    "\n",
    "print(first_result['user']['name'])"
   ]
  },
  {
   "cell_type": "code",
   "execution_count": 27,
   "metadata": {},
   "outputs": [
    {
     "name": "stdout",
     "output_type": "stream",
     "text": [
      "No. 1 @uvawomensoccer\n",
      "No. 1 @uvamensoccer\n",
      "\n",
      "What a time to be UVA! https://t.co/Stp5er67YQ\n",
      "\n",
      "\n",
      "Why is the ACC down this year? Well, start on the O-line...\n",
      "\n",
      "Rate of pressures allowed vs FBS:\n",
      "FBS avg, 29.1%\n",
      "73. U… https://t.co/DfAJsI5gCk\n",
      "\n",
      "\n",
      "Your average week at UVA: https://t.co/pMPV9YaVrx\n",
      "\n",
      "\n",
      "My guess is this will become known as the Uff Da ad. (UVA alum and former student John Lapp created it, and it is p… https://t.co/UtCw8qji8r\n",
      "\n",
      "\n",
      "Today is #WrongfulConvictionDay. Read about how #UVALaw students in the yearlong Innocence Project Clinic investiga… https://t.co/emWcNZgiVz\n",
      "\n",
      "\n"
     ]
    }
   ],
   "source": [
    "#A batch operation. Let's look at the text from all the top tweets in 'statuses'\n",
    "\n",
    "statuses = results_dict['statuses']                     \n",
    "for status in statuses:\n",
    "    print(status['text'])\n",
    "    print()\n",
    "    print()"
   ]
  },
  {
   "cell_type": "markdown",
   "metadata": {},
   "source": [
    "## Using Tweepy\n",
    "\n",
    "Now let's move on to the Tweepy Library. We will be taking a different track then the Twython example, where we worked with the JSON data returned from a request we made. With Tweepy, we will be working with our own Twitter account and other users too.\n",
    "\n",
    "Get the docs [here](https://tweepy.readthedocs.io/en/latest/).\n",
    "\n",
    "And here is another [great article](https://realpython.com/twitter-bot-python-tweepy/) on how to create and use a Twitter bot. \n"
   ]
  },
  {
   "cell_type": "code",
   "execution_count": 29,
   "metadata": {},
   "outputs": [
    {
     "name": "stdout",
     "output_type": "stream",
     "text": [
      "Requirement already satisfied: tweepy in /Applications/anaconda3/lib/python3.7/site-packages (3.8.0)\n",
      "Requirement already satisfied: six>=1.10.0 in /Applications/anaconda3/lib/python3.7/site-packages (from tweepy) (1.12.0)\n",
      "Requirement already satisfied: requests-oauthlib>=0.7.0 in /Applications/anaconda3/lib/python3.7/site-packages (from tweepy) (1.2.0)\n",
      "Requirement already satisfied: PySocks>=1.5.7 in /Applications/anaconda3/lib/python3.7/site-packages (from tweepy) (1.7.0)\n",
      "Requirement already satisfied: requests>=2.11.1 in /Applications/anaconda3/lib/python3.7/site-packages (from tweepy) (2.22.0)\n",
      "Requirement already satisfied: oauthlib>=3.0.0 in /Applications/anaconda3/lib/python3.7/site-packages (from requests-oauthlib>=0.7.0->tweepy) (3.1.0)\n",
      "Requirement already satisfied: chardet<3.1.0,>=3.0.2 in /Applications/anaconda3/lib/python3.7/site-packages (from requests>=2.11.1->tweepy) (3.0.4)\n",
      "Requirement already satisfied: idna<2.9,>=2.5 in /Applications/anaconda3/lib/python3.7/site-packages (from requests>=2.11.1->tweepy) (2.8)\n",
      "Requirement already satisfied: certifi>=2017.4.17 in /Applications/anaconda3/lib/python3.7/site-packages (from requests>=2.11.1->tweepy) (2019.6.16)\n",
      "Requirement already satisfied: urllib3!=1.25.0,!=1.25.1,<1.26,>=1.21.1 in /Applications/anaconda3/lib/python3.7/site-packages (from requests>=2.11.1->tweepy) (1.24.2)\n"
     ]
    }
   ],
   "source": [
    "!pip install tweepy"
   ]
  },
  {
   "cell_type": "code",
   "execution_count": 30,
   "metadata": {},
   "outputs": [],
   "source": [
    "import tweepy\n",
    "from datetime import date"
   ]
  },
  {
   "cell_type": "code",
   "execution_count": 31,
   "metadata": {},
   "outputs": [],
   "source": [
    "#tweepy_key = 'your consumer api key here as string'                          #Copy and paste your API consumer key here. This is NOT secure and is only being used as an example\n",
    "#tweepy_secret = 'your api consumer secret as string here'                    #Copy and paste your API consumer secret here. This is NOT secure and is only being used as an example\n",
    "#tweepy_access_token = 'your api access token here'                 #Copy and paste your API access token. This is NOT secure and is only being used as an example\n",
    "#tweepy_access_secret = 'your api access token secret here'         #Copy and paste your API access token secret here. This is NOT secure and is only being used as an example\n",
    "\n",
    "tweepy_key = 'iJGWsGU50hpgpHPufeqe7IoAq'                          #Copy and paste your API consumer key here. This is NOT secure and is only being used as an example\n",
    "tweepy_secret = 'wj0YmifZhPH5TaY5iGCTDpQGp4rivmFq5DYkPOoegkOLAXsigD'                    #Copy and paste your API consumer secret here. This is NOT secure and is only being used as an example\n",
    "tweepy_access_token = '968923461031747584-7VxWwIwEQdU1jEcxyjB3E5vpc2oFrQL'                 #Copy and paste your API access token. This is NOT secure and is only being used as an example\n",
    "tweepy_access_secret = 'urEMTbfqDLOO5eYXcCvcAtspXy4TV7PT0lDZrYy8Y7rzC'         #Copy and paste your API access token secret here. This is NOT secure and is only being used as an example\n"
   ]
  },
  {
   "cell_type": "code",
   "execution_count": 32,
   "metadata": {},
   "outputs": [],
   "source": [
    "#This is straight from the Tweepy documentation. Tweepy uses OAuth to authenticate your credentials\n",
    "\n",
    "auth = tweepy.OAuthHandler(tweepy_key, tweepy_secret)\n",
    "auth.set_access_token(tweepy_access_token, tweepy_access_secret)\n",
    "\n",
    "api = tweepy.API(auth)                            #submits a request to the Twitter API here"
   ]
  },
  {
   "cell_type": "markdown",
   "metadata": {},
   "source": [
    "We have created the object \"api\", which submits an request to the Twitter API. Because your API keys are connected to your Twitter account, no two results will be the same from the following cell. This will print each tweet in your home timeline, with a space between them."
   ]
  },
  {
   "cell_type": "code",
   "execution_count": 33,
   "metadata": {},
   "outputs": [
    {
     "name": "stdout",
     "output_type": "stream",
     "text": [
      "RT @Napaaqtuk: The woman who broke Ussain Bolt's record for number of gold medals in the world championships is a 33 year old mom of a pree…\n",
      "\n",
      "RT @PetersonGIS: Unexpected beauty in this morning's  data exploration. https://t.co/jtegHaMCxD\n",
      "\n",
      "RT @ManAboutCouch: Sex Ratios across Europe. \n",
      "\n",
      "This is an interesting map by @iamreddave https://t.co/23KQhoBDUP\n",
      "\n",
      "For when you have some time and like architecture critique https://t.co/XgXdzP1uYz\n",
      "\n",
      "RT @AlbertoCairo: New post: @rawgraphs 2.0 is coming. Please support it https://t.co/o8zZwOuiwj #dataviz #infographics #ddj https://t.co/SV…\n",
      "\n",
      "I guess it's high time to finally jump on this wagon https://t.co/UZ0574VL9S\n",
      "\n",
      "TIL https://t.co/lwupLoFaG2\n",
      "\n",
      "RT @Clelland_David: The English #indicesofdeprivation out last week - with some excellent maps @undertheraedar - just a reminder that while…\n",
      "\n",
      "Yes, @AllysonFelix! #BlackMamaMagic 💪🏾 https://t.co/70nKRaUxsy\n",
      "\n",
      "@fryford finally, there are 13 LSOAs in England that are in the MOST deprived decile in England on all domains but… https://t.co/2uixyfZcR7\n",
      "\n",
      "for an interactive view of the 2019 Indices, you may find this nifty new web map by @fryford useful as it provides… https://t.co/tigu6SMqy7\n",
      "\n",
      "at the opposite end of the scale (most deprived) I can find 8 LSOAs that are in the most deprived decile on all but… https://t.co/Dg9vlhN6LP\n",
      "\n",
      "A few more observations about the Indices of Deprivation 2019 now I've had time to digest things. Here are the 8 LS… https://t.co/lflPrUOIwB\n",
      "\n",
      "RT @Psythor: There is literally no way this will not turn out to be racist. https://t.co/0ZLaFqHrEm\n",
      "\n",
      "RT @ericchou: A few more hours left before this deal is gone! Great content from @realpython @TalkPython @mkennedy @treyhunner @pybites @ju…\n",
      "\n",
      "RT @traffordDataLab: You can explore the #IoD2019 interactively using our #rstats app and then DOWNLOAD the graphics you need for your loca…\n",
      "\n",
      "Don't think I saw this Playfair viz  before\n",
      "@PlayfairTheBook https://t.co/0E88rEcfO9\n",
      "\n",
      "RT @Geolytix: proportional symbols for statistics were first used by Scot William Playfair in 1801 (not Minard). Scanned this from the orig…\n",
      "\n",
      "RT @SaaraPakarinen: @OKFFI ja @HRInfoshare järjestävät avoimen datan työpajapäivän 8.10 Maria01:ssä. @foss4gfi DevALPO @reactjs/@Mapbox -de…\n",
      "\n",
      "RT @iamdevloper: Origin Story. https://t.co/0rLOaOMjDP\n",
      "\n"
     ]
    }
   ],
   "source": [
    "public_tweets = api.home_timeline()                                     #public_tweets is a Status object                        \n",
    "for tweet in public_tweets:\n",
    "    print(tweet.text)\n",
    "    print()\n"
   ]
  },
  {
   "cell_type": "code",
   "execution_count": 47,
   "metadata": {},
   "outputs": [
    {
     "name": "stdout",
     "output_type": "stream",
     "text": [
      "Erich Purpur\n"
     ]
    }
   ],
   "source": [
    "#Work with your own Twitter metadata\n",
    "user = api.get_user(\"PurpurErich\")        #This is my own username. Change this to your own or someone else's. Any valid Twitter username will work\n",
    "print(user.name)\n"
   ]
  },
  {
   "cell_type": "code",
   "execution_count": 48,
   "metadata": {},
   "outputs": [
    {
     "name": "stdout",
     "output_type": "stream",
     "text": [
      "My Followers\n",
      "Kristin Elizabeth (Kristin Anderson)\n"
     ]
    }
   ],
   "source": [
    "print(\"My Followers\")\n",
    "for follower in user.followers():\n",
    "    print(follower.name)\n"
   ]
  },
  {
   "cell_type": "code",
   "execution_count": 42,
   "metadata": {},
   "outputs": [
    {
     "data": {
      "text/plain": [
       "Status(_api=<tweepy.api.API object at 0x10c18c518>, _json={'created_at': 'Wed Oct 02 19:48:05 +0000 2019', 'id': 1179483208431235072, 'id_str': '1179483208431235072', 'text': 'Hello from Tweepy on 2019-10-02', 'truncated': False, 'entities': {'hashtags': [], 'symbols': [], 'user_mentions': [], 'urls': []}, 'source': '<a href=\"https://twitter.com/PurpurErich\" rel=\"nofollow\">Tweepy testing - Erich</a>', 'in_reply_to_status_id': None, 'in_reply_to_status_id_str': None, 'in_reply_to_user_id': None, 'in_reply_to_user_id_str': None, 'in_reply_to_screen_name': None, 'user': {'id': 968923461031747584, 'id_str': '968923461031747584', 'name': 'Erich Purpur', 'screen_name': 'PurpurErich', 'location': '', 'description': '', 'url': None, 'entities': {'description': {'urls': []}}, 'protected': False, 'followers_count': 1, 'friends_count': 12, 'listed_count': 0, 'created_at': 'Wed Feb 28 18:58:49 +0000 2018', 'favourites_count': 0, 'utc_offset': None, 'time_zone': None, 'geo_enabled': False, 'verified': False, 'statuses_count': 11, 'lang': None, 'contributors_enabled': False, 'is_translator': False, 'is_translation_enabled': False, 'profile_background_color': 'F5F8FA', 'profile_background_image_url': None, 'profile_background_image_url_https': None, 'profile_background_tile': False, 'profile_image_url': 'http://abs.twimg.com/sticky/default_profile_images/default_profile_normal.png', 'profile_image_url_https': 'https://abs.twimg.com/sticky/default_profile_images/default_profile_normal.png', 'profile_link_color': '1DA1F2', 'profile_sidebar_border_color': 'C0DEED', 'profile_sidebar_fill_color': 'DDEEF6', 'profile_text_color': '333333', 'profile_use_background_image': True, 'has_extended_profile': False, 'default_profile': True, 'default_profile_image': True, 'following': False, 'follow_request_sent': False, 'notifications': False, 'translator_type': 'none'}, 'geo': None, 'coordinates': None, 'place': None, 'contributors': None, 'is_quote_status': False, 'retweet_count': 0, 'favorite_count': 0, 'favorited': False, 'retweeted': False, 'lang': 'en'}, created_at=datetime.datetime(2019, 10, 2, 19, 48, 5), id=1179483208431235072, id_str='1179483208431235072', text='Hello from Tweepy on 2019-10-02', truncated=False, entities={'hashtags': [], 'symbols': [], 'user_mentions': [], 'urls': []}, source='Tweepy testing - Erich', source_url='https://twitter.com/PurpurErich', in_reply_to_status_id=None, in_reply_to_status_id_str=None, in_reply_to_user_id=None, in_reply_to_user_id_str=None, in_reply_to_screen_name=None, author=User(_api=<tweepy.api.API object at 0x10c18c518>, _json={'id': 968923461031747584, 'id_str': '968923461031747584', 'name': 'Erich Purpur', 'screen_name': 'PurpurErich', 'location': '', 'description': '', 'url': None, 'entities': {'description': {'urls': []}}, 'protected': False, 'followers_count': 1, 'friends_count': 12, 'listed_count': 0, 'created_at': 'Wed Feb 28 18:58:49 +0000 2018', 'favourites_count': 0, 'utc_offset': None, 'time_zone': None, 'geo_enabled': False, 'verified': False, 'statuses_count': 11, 'lang': None, 'contributors_enabled': False, 'is_translator': False, 'is_translation_enabled': False, 'profile_background_color': 'F5F8FA', 'profile_background_image_url': None, 'profile_background_image_url_https': None, 'profile_background_tile': False, 'profile_image_url': 'http://abs.twimg.com/sticky/default_profile_images/default_profile_normal.png', 'profile_image_url_https': 'https://abs.twimg.com/sticky/default_profile_images/default_profile_normal.png', 'profile_link_color': '1DA1F2', 'profile_sidebar_border_color': 'C0DEED', 'profile_sidebar_fill_color': 'DDEEF6', 'profile_text_color': '333333', 'profile_use_background_image': True, 'has_extended_profile': False, 'default_profile': True, 'default_profile_image': True, 'following': False, 'follow_request_sent': False, 'notifications': False, 'translator_type': 'none'}, id=968923461031747584, id_str='968923461031747584', name='Erich Purpur', screen_name='PurpurErich', location='', description='', url=None, entities={'description': {'urls': []}}, protected=False, followers_count=1, friends_count=12, listed_count=0, created_at=datetime.datetime(2018, 2, 28, 18, 58, 49), favourites_count=0, utc_offset=None, time_zone=None, geo_enabled=False, verified=False, statuses_count=11, lang=None, contributors_enabled=False, is_translator=False, is_translation_enabled=False, profile_background_color='F5F8FA', profile_background_image_url=None, profile_background_image_url_https=None, profile_background_tile=False, profile_image_url='http://abs.twimg.com/sticky/default_profile_images/default_profile_normal.png', profile_image_url_https='https://abs.twimg.com/sticky/default_profile_images/default_profile_normal.png', profile_link_color='1DA1F2', profile_sidebar_border_color='C0DEED', profile_sidebar_fill_color='DDEEF6', profile_text_color='333333', profile_use_background_image=True, has_extended_profile=False, default_profile=True, default_profile_image=True, following=False, follow_request_sent=False, notifications=False, translator_type='none'), user=User(_api=<tweepy.api.API object at 0x10c18c518>, _json={'id': 968923461031747584, 'id_str': '968923461031747584', 'name': 'Erich Purpur', 'screen_name': 'PurpurErich', 'location': '', 'description': '', 'url': None, 'entities': {'description': {'urls': []}}, 'protected': False, 'followers_count': 1, 'friends_count': 12, 'listed_count': 0, 'created_at': 'Wed Feb 28 18:58:49 +0000 2018', 'favourites_count': 0, 'utc_offset': None, 'time_zone': None, 'geo_enabled': False, 'verified': False, 'statuses_count': 11, 'lang': None, 'contributors_enabled': False, 'is_translator': False, 'is_translation_enabled': False, 'profile_background_color': 'F5F8FA', 'profile_background_image_url': None, 'profile_background_image_url_https': None, 'profile_background_tile': False, 'profile_image_url': 'http://abs.twimg.com/sticky/default_profile_images/default_profile_normal.png', 'profile_image_url_https': 'https://abs.twimg.com/sticky/default_profile_images/default_profile_normal.png', 'profile_link_color': '1DA1F2', 'profile_sidebar_border_color': 'C0DEED', 'profile_sidebar_fill_color': 'DDEEF6', 'profile_text_color': '333333', 'profile_use_background_image': True, 'has_extended_profile': False, 'default_profile': True, 'default_profile_image': True, 'following': False, 'follow_request_sent': False, 'notifications': False, 'translator_type': 'none'}, id=968923461031747584, id_str='968923461031747584', name='Erich Purpur', screen_name='PurpurErich', location='', description='', url=None, entities={'description': {'urls': []}}, protected=False, followers_count=1, friends_count=12, listed_count=0, created_at=datetime.datetime(2018, 2, 28, 18, 58, 49), favourites_count=0, utc_offset=None, time_zone=None, geo_enabled=False, verified=False, statuses_count=11, lang=None, contributors_enabled=False, is_translator=False, is_translation_enabled=False, profile_background_color='F5F8FA', profile_background_image_url=None, profile_background_image_url_https=None, profile_background_tile=False, profile_image_url='http://abs.twimg.com/sticky/default_profile_images/default_profile_normal.png', profile_image_url_https='https://abs.twimg.com/sticky/default_profile_images/default_profile_normal.png', profile_link_color='1DA1F2', profile_sidebar_border_color='C0DEED', profile_sidebar_fill_color='DDEEF6', profile_text_color='333333', profile_use_background_image=True, has_extended_profile=False, default_profile=True, default_profile_image=True, following=False, follow_request_sent=False, notifications=False, translator_type='none'), geo=None, coordinates=None, place=None, contributors=None, is_quote_status=False, retweet_count=0, favorite_count=0, favorited=False, retweeted=False, lang='en')"
      ]
     },
     "execution_count": 42,
     "metadata": {},
     "output_type": "execute_result"
    }
   ],
   "source": [
    "#I've use the datetime module to make a simple tweet on my twitter account.\n",
    "\n",
    "api.update_status(f\"Hello from Tweepy on {date.today()}\")                                 #makes a status update to your twitter page. You can make a twitter bot using either Tweepy or Twython\n",
    "\n",
    "#Go ahead, check your twitter feed. You'll see that you made a status update on your feed!"
   ]
  },
  {
   "cell_type": "code",
   "execution_count": null,
   "metadata": {},
   "outputs": [],
   "source": []
  }
 ],
 "metadata": {
  "kernelspec": {
   "display_name": "Python 3",
   "language": "python",
   "name": "python3"
  },
  "language_info": {
   "codemirror_mode": {
    "name": "ipython",
    "version": 3
   },
   "file_extension": ".py",
   "mimetype": "text/x-python",
   "name": "python",
   "nbconvert_exporter": "python",
   "pygments_lexer": "ipython3",
   "version": "3.7.3"
  }
 },
 "nbformat": 4,
 "nbformat_minor": 2
}
