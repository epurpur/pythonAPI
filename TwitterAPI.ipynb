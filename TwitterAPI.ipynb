{
 "cells": [
  {
   "cell_type": "markdown",
   "metadata": {},
   "source": [
    "## Python Twitter API\n",
    "\n",
    "This is an introduction workshop to APIs. Specifically, we will be using the python API for various applications\n",
    "\n",
    "*The following is taken from [Stack Abuse](https://stackabuse.com/accessing-the-twitter-api-with-python/)*\n",
    "\n",
    "There are many APIs on the Twitter platform that software developers can engage with, with the possibility to create fully automated systems which will innteract with Twitter. While this feature could benefit companies by drawing insights from Twitter data, it is also suitable for smaller-scale projects, research, and fun.\n",
    "\n",
    "## Get Credentials (API Key)\n",
    "\n",
    "Before using the Twitter API, you first need a Twitter account. If you have not registered for a Twitter account, sign up for one [here](https://twitter.com/home). The process of getting credentials actively changes over time but currently (as of 10/2/2019) it is currently as follows:\n",
    "\n",
    "- Visit the Application Management page at https://apps.twitter.com/, and sign in with your Twitter account\n",
    "- Click on the \"Create New App\" button, fill in the details and agree the Terms of Service. This might take time to become \"verified\" by Twitter!\n",
    "- Navigate to \"Keys and Access Tokens\" section and take a note of your Consumer Key and Secret\n",
    "- In the same section click on \"Create my access token\" button\n",
    "- Take note of your Access Token, Access Token Secret, etc.\n",
    "\n",
    "And that's all. The consumer key/secret is used to authenticate the app that is using the Twitter API, while the access token/secret authenticates the user. All of these parameters should be treated as passwords, and should not be included in your code in plain text.\n",
    "\n",
    "## Python Wrappers for Twitter\n",
    "\n",
    "Perhaps \"wrapper\" is a better term for how to describe Twitter's python API, because the following examples are using python specific libraries to create code to \"wrap\" around the API to do various things. I will give examples with a couple libraries I have used, though there are many more. Don't hesitate to use another one you already know and like better than these. The two we will be using in this notebook are Twython and Tweepy\n",
    "\n",
    "## Before getting started\n",
    "\n",
    "*Workshop Attendees*\n",
    "I'm using this code in several environments. One is for hands-on workshops where the notebook will be hosted on the Rivanna Cluster (UVA's high performance computing cluster). Workshop attendees will basically be running this notebook in a virtual environment hosted on Rivanna. We are doing it this way because everyone has a different system so we are using Rivanna so everyone has the same environment, with the same libraries installed. This way we can focus on the code and the concepts without running into technical roadblocks while getting started.\n",
    "\n",
    "*On Your Own*\n",
    "I have also made this code available as a .py file, as well as this jupyter notebook, in a [github repository](https://github.com/epurpur/pythonAPI). You are free to use it as you like. However you'll need to install some of these packages yourself using pip or another package manager (conda for example). In the code, I've noted where you'll need to install these things yourself. \n",
    "\n"
   ]
  },
  {
   "cell_type": "markdown",
   "metadata": {},
   "source": [
    "## Twython\n",
    "\n",
    "Get the docs [here](https://twython.readthedocs.io/en/latest)\n",
    "\"Twython is an actively maintained, pure python wrapper for the Twitter API...\"\n",
    "\n",
    "In Twython, we will be making requests to the Twitter via the API and parsing the data returned by those requests.\n",
    "\n",
    "To experiment on your own, take a look at the documentation. Particulary the [starting out page](https://twython.readthedocs.io/en/latest/usage/starting_out.html)\n",
    "\n",
    "After walking through these quick examples, [read this article](https://realpython.com/twitter-bot-python-tweepy/) to see how to build a much more sophisticated Twitter bot."
   ]
  },
  {
   "cell_type": "code",
   "execution_count": null,
   "metadata": {},
   "outputs": [],
   "source": [
    "#Installing the libraries we need to use\n",
    "\n",
    "!pip install Twython"
   ]
  },
  {
   "cell_type": "code",
   "execution_count": null,
   "metadata": {},
   "outputs": [],
   "source": [
    "# Import needed libraries for our examples\n",
    "\n",
    "from twython import Twython\n",
    "import json"
   ]
  },
  {
   "cell_type": "code",
   "execution_count": null,
   "metadata": {},
   "outputs": [],
   "source": [
    "#To find your twitter API keys, go here (after login): https://developer.twitter.com/en/apps/\n",
    "\n",
    "twython_key = 'your API key as string here'              #Copy and paste your API consumer key here. This is NOT secure and is only being used as an example\n",
    "twython_secret = 'your API consumer secret as string here'    #Copy and paste your API consumer secret here. This is NOT secure and is only being used as an example\n",
    "\n",
    "\n",
    "#example = '0rt859683mmdmgntwo3498w'"
   ]
  },
  {
   "cell_type": "code",
   "execution_count": null,
   "metadata": {},
   "outputs": [],
   "source": [
    "python_tweets = Twython(twython_key, twython_secret)                      #This packages your API keys together in a format that Twitter likes\n",
    "\n",
    "#Create your query, which will be submitted as a URL to the Twitter API. Take a look at the parameters we are submitting\n",
    "#As we go through the code I encourage you to play with these later by changing them to see different results\n",
    "query = {'q': 'UVA',\n",
    "         'result_type': 'popular',\n",
    "         'count': 5,\n",
    "         'lang': 'en'\n",
    "         }\n",
    "\n",
    "results_dict = python_tweets.search(**query)            #creates a DICTIONARY with results. Data is structured in JSON format. **query is a keyword argument          \n",
    "\n",
    "print(results_dict)"
   ]
  },
  {
   "cell_type": "markdown",
   "metadata": {},
   "source": [
    "We now have a dictionary object (results_dict), which is the data returned from the Twitter API and is structured in JSON format. As you can see, it is messy and unmanageable to look at so we will proceed to drill down through it and make the results more manageable to work with."
   ]
  },
  {
   "cell_type": "code",
   "execution_count": null,
   "metadata": {},
   "outputs": [],
   "source": [
    "#parse through the keys in the results_dict dictionary just like any other dictionary object\n",
    "\n",
    "for keys, values in results_dict.items():\n",
    "    print(keys)"
   ]
  },
  {
   "cell_type": "code",
   "execution_count": null,
   "metadata": {
    "scrolled": true
   },
   "outputs": [],
   "source": [
    "#'statuses' holds the interesting information about each tweet\n",
    "#printing this is still a mess of data, but it is slightly less data now that we don't see the 'search_metadata' and\n",
    "#we are progressively drilling through the layers of this JSON output\n",
    "\n",
    "print(results_dict['statuses'])                         #looks for values in the 'statuses' key of results_dict. Dictionaries are unordered data types and you find the values by calling the name of each key\n"
   ]
  },
  {
   "cell_type": "markdown",
   "metadata": {},
   "source": [
    "Notice in the above output, these objects are stored in a list. In this case, each list item contains a bunch of dictionaries with information about each tweet. Using our default query parameters, we have 5 items in this list. Now that we know we have a list, let's look at just the first item in the list, in a variable called \"first_result\"."
   ]
  },
  {
   "cell_type": "code",
   "execution_count": null,
   "metadata": {},
   "outputs": [],
   "source": [
    "\n",
    "first_result = results_dict['statuses'][0]             #within ['statuses'] is a list (of dictionaries). Lists are ordered data types and you can use indexing to parse through the list elements\n",
    "print(first_result)\n"
   ]
  },
  {
   "cell_type": "markdown",
   "metadata": {},
   "source": [
    "Because \"first_result\" is the first item in the list, containing a dictionary with information about that tweet we \n",
    "can parse this just like any other dictionary. Except now we are getting to the interesting stuff. If you have\n",
    "looked at the above output, you probably have notice some interesting things like the text of the tweets, \n",
    "who tweeted it, etc."
   ]
  },
  {
   "cell_type": "code",
   "execution_count": null,
   "metadata": {},
   "outputs": [],
   "source": [
    "\n",
    "for keys, values in first_result.items():              \n",
    "    print(keys)\n"
   ]
  },
  {
   "cell_type": "code",
   "execution_count": null,
   "metadata": {},
   "outputs": [],
   "source": [
    "#See the text of this tweet\n",
    "\n",
    "print(first_result['text'])                             #prints actual text of the tweet (with URL to original tweet!)\n"
   ]
  },
  {
   "cell_type": "markdown",
   "metadata": {},
   "source": [
    "Another item we can pull out of \"first_result\". This is a dictionary of information about the user\n",
    "You can see we have nested dictionaries."
   ]
  },
  {
   "cell_type": "code",
   "execution_count": null,
   "metadata": {},
   "outputs": [],
   "source": [
    "\n",
    "print(first_result['user']) "
   ]
  },
  {
   "cell_type": "code",
   "execution_count": null,
   "metadata": {},
   "outputs": [],
   "source": [
    "#this is the name of the user who tweeted this \n",
    "\n",
    "print(first_result['user']['name'])"
   ]
  },
  {
   "cell_type": "code",
   "execution_count": null,
   "metadata": {},
   "outputs": [],
   "source": [
    "#A batch operation. Let's look at the text from all the top tweets in 'statuses'\n",
    "\n",
    "statuses = results_dict['statuses']                     \n",
    "for status in statuses:\n",
    "    print(status['text'])\n",
    "    print()\n",
    "    print()"
   ]
  },
  {
   "cell_type": "markdown",
   "metadata": {},
   "source": [
    "## Using Tweepy\n",
    "\n",
    "Now let's move on to the Tweepy Library. We will be taking a different track then the Twython example, where we worked with the JSON data returned from a request we made. With Tweepy, we will be working with our own Twitter account and other users too.\n",
    "\n",
    "Get the docs [here](https://tweepy.readthedocs.io/en/latest/).\n",
    "\n",
    "And here is another [great article](https://realpython.com/twitter-bot-python-tweepy/) on how to create and use a Twitter bot. \n"
   ]
  },
  {
   "cell_type": "code",
   "execution_count": 1,
   "metadata": {},
   "outputs": [
    {
     "name": "stdout",
     "output_type": "stream",
     "text": [
      "Collecting tweepy\n",
      "  Downloading tweepy-3.9.0-py2.py3-none-any.whl (30 kB)\n",
      "Requirement already satisfied: requests[socks]>=2.11.1 in /Applications/anaconda3/lib/python3.7/site-packages (from tweepy) (2.24.0)\n",
      "Requirement already satisfied: six>=1.10.0 in /Applications/anaconda3/lib/python3.7/site-packages (from tweepy) (1.15.0)\n",
      "Requirement already satisfied: requests-oauthlib>=0.7.0 in /Applications/anaconda3/lib/python3.7/site-packages (from tweepy) (1.3.0)\n",
      "Requirement already satisfied: urllib3!=1.25.0,!=1.25.1,<1.26,>=1.21.1 in /Applications/anaconda3/lib/python3.7/site-packages (from requests[socks]>=2.11.1->tweepy) (1.25.10)\n",
      "Requirement already satisfied: certifi>=2017.4.17 in /Applications/anaconda3/lib/python3.7/site-packages (from requests[socks]>=2.11.1->tweepy) (2020.6.20)\n",
      "Requirement already satisfied: chardet<4,>=3.0.2 in /Applications/anaconda3/lib/python3.7/site-packages (from requests[socks]>=2.11.1->tweepy) (3.0.4)\n",
      "Requirement already satisfied: idna<3,>=2.5 in /Applications/anaconda3/lib/python3.7/site-packages (from requests[socks]>=2.11.1->tweepy) (2.10)\n",
      "Requirement already satisfied: PySocks!=1.5.7,>=1.5.6; extra == \"socks\" in /Applications/anaconda3/lib/python3.7/site-packages (from requests[socks]>=2.11.1->tweepy) (1.7.1)\n",
      "Requirement already satisfied: oauthlib>=3.0.0 in /Applications/anaconda3/lib/python3.7/site-packages (from requests-oauthlib>=0.7.0->tweepy) (3.1.0)\n",
      "Installing collected packages: tweepy\n",
      "Successfully installed tweepy-3.9.0\n"
     ]
    }
   ],
   "source": [
    "!pip install tweepy"
   ]
  },
  {
   "cell_type": "code",
   "execution_count": 2,
   "metadata": {},
   "outputs": [],
   "source": [
    "import tweepy\n",
    "from datetime import date"
   ]
  },
  {
   "cell_type": "code",
   "execution_count": 3,
   "metadata": {},
   "outputs": [],
   "source": [
    "#tweepy_key = 'your consumer api key here as string'                          #Copy and paste your API consumer key here. This is NOT secure and is only being used as an example\n",
    "#tweepy_secret = 'your api consumer secret as string here'                    #Copy and paste your API consumer secret here. This is NOT secure and is only being used as an example\n",
    "#tweepy_access_token = 'your api access token here'                 #Copy and paste your API access token. This is NOT secure and is only being used as an example\n",
    "#tweepy_access_secret = 'your api access token secret here'         #Copy and paste your API access token secret here. This is NOT secure and is only being used as an example\n",
    "\n",
    "tweepy_key = 'iJGWsGU50hpgpHPufeqe7IoAq'                          #Copy and paste your API consumer key here. This is NOT secure and is only being used as an example\n",
    "tweepy_secret = 'wj0YmifZhPH5TaY5iGCTDpQGp4rivmFq5DYkPOoegkOLAXsigD'                    #Copy and paste your API consumer secret here. This is NOT secure and is only being used as an example\n",
    "tweepy_access_token = '968923461031747584-7VxWwIwEQdU1jEcxyjB3E5vpc2oFrQL'                 #Copy and paste your API access token. This is NOT secure and is only being used as an example\n",
    "tweepy_access_secret = 'urEMTbfqDLOO5eYXcCvcAtspXy4TV7PT0lDZrYy8Y7rzC'         #Copy and paste your API access token secret here. This is NOT secure and is only being used as an example\n"
   ]
  },
  {
   "cell_type": "code",
   "execution_count": 4,
   "metadata": {},
   "outputs": [],
   "source": [
    "#This is straight from the Tweepy documentation. Tweepy uses OAuth to authenticate your credentials\n",
    "\n",
    "auth = tweepy.OAuthHandler(tweepy_key, tweepy_secret)\n",
    "auth.set_access_token(tweepy_access_token, tweepy_access_secret)\n",
    "\n",
    "api = tweepy.API(auth)                            #submits a request to the Twitter API here"
   ]
  },
  {
   "cell_type": "markdown",
   "metadata": {},
   "source": [
    "We have created the object \"api\", which submits an request to the Twitter API. Because your API keys are connected to your Twitter account, no two results will be the same from the following cell. This will print each tweet in your home timeline, with a space between them."
   ]
  },
  {
   "cell_type": "code",
   "execution_count": 5,
   "metadata": {},
   "outputs": [
    {
     "name": "stdout",
     "output_type": "stream",
     "text": [
      "I code in the tidyverse while knowing very little R https://t.co/uDpFjvo3ig\n",
      "\n",
      "RT @MapScaping: What is @pwramsey favorite #postgis function?\n",
      "\n",
      "1) ST_Buffer\n",
      "\n",
      "2) ST_Simplify \n",
      "\n",
      "3) ST_Intersects\n",
      "\n",
      "4) ST_SharedPaths\n",
      "\n",
      "https://…\n",
      "\n",
      "@hansakwast @kgjenkins @spatialthoughts @geomenke Thanks @hansakwast those are good tips.\n",
      "\n",
      "RT @Vickstar79: OK Twinternets, I need your help for a really dumb #QGIS question. Importing a .csv of datapoints in Ireland, with correct…\n",
      "\n",
      "I'm starting to hate google drive - little did I know or remember that an entire organization has been working off… https://t.co/Ps8BRNAa4b\n",
      "\n",
      "RT @flowingdata: air quality for the past couple months https://t.co/AXeXoCXIkj https://t.co/H4HZGmbDQQ\n",
      "\n",
      "I just did a speed comparison between C and Python\n",
      "\n",
      "https://t.co/AThzItMGUu https://t.co/zjt4fuyizI\n",
      "\n",
      "RT @CARTO: We know how important it is being able to connect to your favorite services, that’s why we worked hard to ensure that our platfo…\n",
      "\n",
      "My Insurance company: here's 35 dollars back for being quarantined. \n",
      "My Insurance company: I'm raising rates on eve… https://t.co/ot38ZWa4uc\n",
      "\n",
      "RT @BarneyStringer: Can an algorithm decide where housebuilding goes? And how does that deal with protected landscapes?\n",
      "\n",
      "As the Government…\n",
      "\n",
      "RT @rsfrankl: I ducked over to @theAAG's job postings yesterday to see how the academic job market in geography is faring. There's some goo…\n",
      "\n",
      "I have never been more convinced of a profile in my life. Had it just been a liquor store I'm pretty sure this was… https://t.co/W7zRF9ixO1\n",
      "\n",
      "RT @neilrkaye: Global temperature from 1860 to 2020\n",
      "Shows 10 year average to reduce large annual variability and better show trend. Tempera…\n",
      "\n",
      "Introducing PyTorch Forecasting\n",
      "\n",
      "Forecasting with neural networks made simple\n",
      "\n",
      "https://t.co/5wxvUrFfF0 https://t.co/7PB1Dasusy\n",
      "\n",
      "RT @patrick_grs: Participate in #Hacktoberfest 2020 by writing some #python code🐍 Contribute to our @pybites slack bot \"Karmabot\". Just che…\n",
      "\n",
      "@AlexNetoGeo @spatialthoughts @geomenke I didn't have issues with sharing an HD screen. I sometimes use tools to zo… https://t.co/xuWoVLQs7D\n",
      "\n",
      "RT @bitnerd: Wow - new incremental sorting feature in @postgresql 13 takes a query with multi-column sort+limit and separate btree indexes…\n",
      "\n",
      "@hansakwast @spatialthoughts @geomenke I am just curious if people use a specific screen resolution or a smaller wi… https://t.co/dklHLBODmI\n",
      "\n",
      "@hansakwast @spatialthoughts @geomenke No. I'm on linux. Thank anyway.\n",
      "\n",
      "@AlexNetoGeo @spatialthoughts @geomenke Are you using Windows? Then I can share some tips.\n",
      "\n"
     ]
    }
   ],
   "source": [
    "public_tweets = api.home_timeline()                                     #public_tweets is a Status object                        \n",
    "for tweet in public_tweets:\n",
    "    print(tweet.text)\n",
    "    print()\n"
   ]
  },
  {
   "cell_type": "code",
   "execution_count": 6,
   "metadata": {},
   "outputs": [
    {
     "name": "stdout",
     "output_type": "stream",
     "text": [
      "Erich Purpur\n"
     ]
    }
   ],
   "source": [
    "#Work with your own Twitter metadata\n",
    "user = api.get_user(\"PurpurErich\")        #This is my own username. Change this to your own or someone else's. Any valid Twitter username will work\n",
    "print(user.name)\n"
   ]
  },
  {
   "cell_type": "code",
   "execution_count": 7,
   "metadata": {},
   "outputs": [
    {
     "name": "stdout",
     "output_type": "stream",
     "text": [
      "My Followers\n",
      "🇺🇸💕🙏Kristin🙏💕🇺🇸PARLER: @Kriss4tigers\n"
     ]
    }
   ],
   "source": [
    "print(\"My Followers\")\n",
    "for follower in user.followers():\n",
    "    print(follower.name)\n"
   ]
  },
  {
   "cell_type": "code",
   "execution_count": 8,
   "metadata": {},
   "outputs": [
    {
     "data": {
      "text/plain": [
       "Status(_api=<tweepy.api.API object at 0x7f80ffa05c50>, _json={'created_at': 'Tue Sep 29 18:50:51 +0000 2020', 'id': 1311015599573794816, 'id_str': '1311015599573794816', 'text': 'Hello from Tweepy on 2020-09-29', 'truncated': False, 'entities': {'hashtags': [], 'symbols': [], 'user_mentions': [], 'urls': []}, 'source': '<a href=\"https://twitter.com/PurpurErich\" rel=\"nofollow\">Tweepy testing - Erich</a>', 'in_reply_to_status_id': None, 'in_reply_to_status_id_str': None, 'in_reply_to_user_id': None, 'in_reply_to_user_id_str': None, 'in_reply_to_screen_name': None, 'user': {'id': 968923461031747584, 'id_str': '968923461031747584', 'name': 'Erich Purpur', 'screen_name': 'PurpurErich', 'location': '', 'description': '', 'url': None, 'entities': {'description': {'urls': []}}, 'protected': False, 'followers_count': 1, 'friends_count': 26, 'listed_count': 0, 'created_at': 'Wed Feb 28 18:58:49 +0000 2018', 'favourites_count': 1, 'utc_offset': None, 'time_zone': None, 'geo_enabled': False, 'verified': False, 'statuses_count': 12, 'lang': None, 'contributors_enabled': False, 'is_translator': False, 'is_translation_enabled': False, 'profile_background_color': 'F5F8FA', 'profile_background_image_url': None, 'profile_background_image_url_https': None, 'profile_background_tile': False, 'profile_image_url': 'http://pbs.twimg.com/profile_images/1292922176358752258/gU7Pw-Oy_normal.jpg', 'profile_image_url_https': 'https://pbs.twimg.com/profile_images/1292922176358752258/gU7Pw-Oy_normal.jpg', 'profile_link_color': '1DA1F2', 'profile_sidebar_border_color': 'C0DEED', 'profile_sidebar_fill_color': 'DDEEF6', 'profile_text_color': '333333', 'profile_use_background_image': True, 'has_extended_profile': False, 'default_profile': True, 'default_profile_image': False, 'following': False, 'follow_request_sent': False, 'notifications': False, 'translator_type': 'none'}, 'geo': None, 'coordinates': None, 'place': None, 'contributors': None, 'is_quote_status': False, 'retweet_count': 0, 'favorite_count': 0, 'favorited': False, 'retweeted': False, 'lang': 'en'}, created_at=datetime.datetime(2020, 9, 29, 18, 50, 51), id=1311015599573794816, id_str='1311015599573794816', text='Hello from Tweepy on 2020-09-29', truncated=False, entities={'hashtags': [], 'symbols': [], 'user_mentions': [], 'urls': []}, source='Tweepy testing - Erich', source_url='https://twitter.com/PurpurErich', in_reply_to_status_id=None, in_reply_to_status_id_str=None, in_reply_to_user_id=None, in_reply_to_user_id_str=None, in_reply_to_screen_name=None, author=User(_api=<tweepy.api.API object at 0x7f80ffa05c50>, _json={'id': 968923461031747584, 'id_str': '968923461031747584', 'name': 'Erich Purpur', 'screen_name': 'PurpurErich', 'location': '', 'description': '', 'url': None, 'entities': {'description': {'urls': []}}, 'protected': False, 'followers_count': 1, 'friends_count': 26, 'listed_count': 0, 'created_at': 'Wed Feb 28 18:58:49 +0000 2018', 'favourites_count': 1, 'utc_offset': None, 'time_zone': None, 'geo_enabled': False, 'verified': False, 'statuses_count': 12, 'lang': None, 'contributors_enabled': False, 'is_translator': False, 'is_translation_enabled': False, 'profile_background_color': 'F5F8FA', 'profile_background_image_url': None, 'profile_background_image_url_https': None, 'profile_background_tile': False, 'profile_image_url': 'http://pbs.twimg.com/profile_images/1292922176358752258/gU7Pw-Oy_normal.jpg', 'profile_image_url_https': 'https://pbs.twimg.com/profile_images/1292922176358752258/gU7Pw-Oy_normal.jpg', 'profile_link_color': '1DA1F2', 'profile_sidebar_border_color': 'C0DEED', 'profile_sidebar_fill_color': 'DDEEF6', 'profile_text_color': '333333', 'profile_use_background_image': True, 'has_extended_profile': False, 'default_profile': True, 'default_profile_image': False, 'following': False, 'follow_request_sent': False, 'notifications': False, 'translator_type': 'none'}, id=968923461031747584, id_str='968923461031747584', name='Erich Purpur', screen_name='PurpurErich', location='', description='', url=None, entities={'description': {'urls': []}}, protected=False, followers_count=1, friends_count=26, listed_count=0, created_at=datetime.datetime(2018, 2, 28, 18, 58, 49), favourites_count=1, utc_offset=None, time_zone=None, geo_enabled=False, verified=False, statuses_count=12, lang=None, contributors_enabled=False, is_translator=False, is_translation_enabled=False, profile_background_color='F5F8FA', profile_background_image_url=None, profile_background_image_url_https=None, profile_background_tile=False, profile_image_url='http://pbs.twimg.com/profile_images/1292922176358752258/gU7Pw-Oy_normal.jpg', profile_image_url_https='https://pbs.twimg.com/profile_images/1292922176358752258/gU7Pw-Oy_normal.jpg', profile_link_color='1DA1F2', profile_sidebar_border_color='C0DEED', profile_sidebar_fill_color='DDEEF6', profile_text_color='333333', profile_use_background_image=True, has_extended_profile=False, default_profile=True, default_profile_image=False, following=False, follow_request_sent=False, notifications=False, translator_type='none'), user=User(_api=<tweepy.api.API object at 0x7f80ffa05c50>, _json={'id': 968923461031747584, 'id_str': '968923461031747584', 'name': 'Erich Purpur', 'screen_name': 'PurpurErich', 'location': '', 'description': '', 'url': None, 'entities': {'description': {'urls': []}}, 'protected': False, 'followers_count': 1, 'friends_count': 26, 'listed_count': 0, 'created_at': 'Wed Feb 28 18:58:49 +0000 2018', 'favourites_count': 1, 'utc_offset': None, 'time_zone': None, 'geo_enabled': False, 'verified': False, 'statuses_count': 12, 'lang': None, 'contributors_enabled': False, 'is_translator': False, 'is_translation_enabled': False, 'profile_background_color': 'F5F8FA', 'profile_background_image_url': None, 'profile_background_image_url_https': None, 'profile_background_tile': False, 'profile_image_url': 'http://pbs.twimg.com/profile_images/1292922176358752258/gU7Pw-Oy_normal.jpg', 'profile_image_url_https': 'https://pbs.twimg.com/profile_images/1292922176358752258/gU7Pw-Oy_normal.jpg', 'profile_link_color': '1DA1F2', 'profile_sidebar_border_color': 'C0DEED', 'profile_sidebar_fill_color': 'DDEEF6', 'profile_text_color': '333333', 'profile_use_background_image': True, 'has_extended_profile': False, 'default_profile': True, 'default_profile_image': False, 'following': False, 'follow_request_sent': False, 'notifications': False, 'translator_type': 'none'}, id=968923461031747584, id_str='968923461031747584', name='Erich Purpur', screen_name='PurpurErich', location='', description='', url=None, entities={'description': {'urls': []}}, protected=False, followers_count=1, friends_count=26, listed_count=0, created_at=datetime.datetime(2018, 2, 28, 18, 58, 49), favourites_count=1, utc_offset=None, time_zone=None, geo_enabled=False, verified=False, statuses_count=12, lang=None, contributors_enabled=False, is_translator=False, is_translation_enabled=False, profile_background_color='F5F8FA', profile_background_image_url=None, profile_background_image_url_https=None, profile_background_tile=False, profile_image_url='http://pbs.twimg.com/profile_images/1292922176358752258/gU7Pw-Oy_normal.jpg', profile_image_url_https='https://pbs.twimg.com/profile_images/1292922176358752258/gU7Pw-Oy_normal.jpg', profile_link_color='1DA1F2', profile_sidebar_border_color='C0DEED', profile_sidebar_fill_color='DDEEF6', profile_text_color='333333', profile_use_background_image=True, has_extended_profile=False, default_profile=True, default_profile_image=False, following=False, follow_request_sent=False, notifications=False, translator_type='none'), geo=None, coordinates=None, place=None, contributors=None, is_quote_status=False, retweet_count=0, favorite_count=0, favorited=False, retweeted=False, lang='en')"
      ]
     },
     "execution_count": 8,
     "metadata": {},
     "output_type": "execute_result"
    }
   ],
   "source": [
    "#I've use the datetime module to make a simple tweet on my twitter account.\n",
    "\n",
    "api.update_status(f\"Hello from Tweepy on {date.today()}\")                                 #makes a status update to your twitter page. You can make a twitter bot using either Tweepy or Twython\n",
    "\n",
    "#Go ahead, check your twitter feed. You'll see that you made a status update on your feed!"
   ]
  },
  {
   "cell_type": "code",
   "execution_count": null,
   "metadata": {},
   "outputs": [],
   "source": []
  }
 ],
 "metadata": {
  "kernelspec": {
   "display_name": "Python 3",
   "language": "python",
   "name": "python3"
  },
  "language_info": {
   "codemirror_mode": {
    "name": "ipython",
    "version": 3
   },
   "file_extension": ".py",
   "mimetype": "text/x-python",
   "name": "python",
   "nbconvert_exporter": "python",
   "pygments_lexer": "ipython3",
   "version": "3.7.4"
  }
 },
 "nbformat": 4,
 "nbformat_minor": 4
}
